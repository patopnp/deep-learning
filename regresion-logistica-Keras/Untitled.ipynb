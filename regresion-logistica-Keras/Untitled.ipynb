{
 "cells": [
  {
   "cell_type": "code",
   "execution_count": 9,
   "id": "unknown-clock",
   "metadata": {},
   "outputs": [
    {
     "data": {
      "text/plain": [
       "0.07144840278053265"
      ]
     },
     "execution_count": 9,
     "metadata": {},
     "output_type": "execute_result"
    }
   ],
   "source": [
    "1/(1+np.exp(-2.9557335+3.706423*0.5+3.6671724))"
   ]
  },
  {
   "cell_type": "code",
   "execution_count": 3,
   "id": "spectacular-opening",
   "metadata": {},
   "outputs": [
    {
     "data": {
      "text/plain": [
       "2.718281828459045"
      ]
     },
     "execution_count": 3,
     "metadata": {},
     "output_type": "execute_result"
    }
   ],
   "source": [
    "import numpy as np\n",
    "np.exp(1)"
   ]
  },
  {
   "cell_type": "code",
   "execution_count": 10,
   "id": "pregnant-racing",
   "metadata": {},
   "outputs": [],
   "source": [
    "p = 1/(1+h)"
   ]
  },
  {
   "cell_type": "code",
   "execution_count": 11,
   "id": "demanding-polls",
   "metadata": {},
   "outputs": [
    {
     "data": {
      "text/plain": [
       "0.07144840278053265"
      ]
     },
     "execution_count": 11,
     "metadata": {},
     "output_type": "execute_result"
    }
   ],
   "source": [
    "p"
   ]
  },
  {
   "cell_type": "code",
   "execution_count": 16,
   "id": "continent-handbook",
   "metadata": {},
   "outputs": [
    {
     "data": {
      "text/plain": [
       "0.07412932922235609"
      ]
     },
     "execution_count": 16,
     "metadata": {},
     "output_type": "execute_result"
    }
   ],
   "source": [
    "-(np.log(1-p))"
   ]
  },
  {
   "cell_type": "code",
   "execution_count": 17,
   "id": "tight-feeling",
   "metadata": {},
   "outputs": [
    {
     "data": {
      "text/plain": [
       "2.6387797292223563"
      ]
     },
     "execution_count": 17,
     "metadata": {},
     "output_type": "execute_result"
    }
   ],
   "source": [
    "-(np.log(p))"
   ]
  },
  {
   "cell_type": "code",
   "execution_count": 33,
   "id": "played-tenant",
   "metadata": {},
   "outputs": [
    {
     "data": {
      "text/plain": [
       "1.1317305"
      ]
     },
     "execution_count": 33,
     "metadata": {},
     "output_type": "execute_result"
    }
   ],
   "source": [
    "w0 = -1.7683319\n",
    "w1 = 1.2032\n",
    "w2 = 1.4500312\n",
    "h1 = w0 + w1 * 0 + 2 * w2\n",
    "h1"
   ]
  },
  {
   "cell_type": "code",
   "execution_count": 34,
   "id": "silver-porcelain",
   "metadata": {},
   "outputs": [
    {
     "data": {
      "text/plain": [
       "2.8935667"
      ]
     },
     "execution_count": 34,
     "metadata": {},
     "output_type": "execute_result"
    }
   ],
   "source": [
    "w0 = 1.8029612\n",
    "w1 = 0.34239826\n",
    "w2 = 0.54530275\n",
    "h2 = w0 + w1 * 0 + 2 * w2\n",
    "h2"
   ]
  },
  {
   "cell_type": "code",
   "execution_count": 35,
   "id": "recognized-letter",
   "metadata": {},
   "outputs": [
    {
     "data": {
      "text/plain": [
       "-3.00311842"
      ]
     },
     "execution_count": 35,
     "metadata": {},
     "output_type": "execute_result"
    }
   ],
   "source": [
    "w0 = -1.7188473\n",
    "w1 = -0.3272417\n",
    "w2 = -0.64213556\n",
    "h3 = w0 + w1 * 0 + 2 * w2\n",
    "h3"
   ]
  },
  {
   "cell_type": "code",
   "execution_count": 36,
   "id": "ruled-geography",
   "metadata": {},
   "outputs": [],
   "source": [
    "den = np.exp(h1) + np.exp(h2) + np.exp(h3)"
   ]
  },
  {
   "cell_type": "code",
   "execution_count": 49,
   "id": "metallic-attack",
   "metadata": {},
   "outputs": [
    {
     "data": {
      "text/plain": [
       "5.439471112959628e-05"
      ]
     },
     "execution_count": 49,
     "metadata": {},
     "output_type": "execute_result"
    }
   ],
   "source": [
    "p1 = np.exp(h1) / den\n",
    "p1"
   ]
  },
  {
   "cell_type": "code",
   "execution_count": 50,
   "id": "iraqi-portuguese",
   "metadata": {},
   "outputs": [
    {
     "data": {
      "text/plain": [
       "0.6457221502393359"
      ]
     },
     "execution_count": 50,
     "metadata": {},
     "output_type": "execute_result"
    }
   ],
   "source": [
    "p2 = np.exp(h2) / den\n",
    "p2"
   ]
  },
  {
   "cell_type": "code",
   "execution_count": 51,
   "id": "pharmaceutical-position",
   "metadata": {},
   "outputs": [
    {
     "data": {
      "text/plain": [
       "0.3541305864085407"
      ]
     },
     "execution_count": 51,
     "metadata": {},
     "output_type": "execute_result"
    }
   ],
   "source": [
    "p3 = np.exp(h3) / den\n",
    "p3"
   ]
  },
  {
   "cell_type": "code",
   "execution_count": 53,
   "id": "experienced-parade",
   "metadata": {},
   "outputs": [
    {
     "data": {
      "text/plain": [
       "9.286864099356716e-05"
      ]
     },
     "execution_count": 53,
     "metadata": {},
     "output_type": "execute_result"
    }
   ],
   "source": [
    "p4 = np.exp(h4) / den\n",
    "p4"
   ]
  },
  {
   "cell_type": "code",
   "execution_count": 42,
   "id": "proud-chicken",
   "metadata": {},
   "outputs": [
    {
     "data": {
      "text/plain": [
       "0.16082361111919713"
      ]
     },
     "execution_count": 42,
     "metadata": {},
     "output_type": "execute_result"
    }
   ],
   "source": [
    "-np.log(p2)"
   ]
  },
  {
   "cell_type": "code",
   "execution_count": 43,
   "id": "growing-shower",
   "metadata": {},
   "outputs": [
    {
     "data": {
      "text/plain": [
       "1.9226598111191973"
      ]
     },
     "execution_count": 43,
     "metadata": {},
     "output_type": "execute_result"
    }
   ],
   "source": [
    "-np.log(p1)"
   ]
  },
  {
   "cell_type": "code",
   "execution_count": 44,
   "id": "egyptian-margin",
   "metadata": {},
   "outputs": [
    {
     "data": {
      "text/plain": [
       "-4.7469534950000005"
      ]
     },
     "execution_count": 44,
     "metadata": {},
     "output_type": "execute_result"
    }
   ],
   "source": [
    "w0 = 0.19760127\n",
    "w1 = -10.021508\n",
    "w2 =  0.13239847\n",
    "h1 = w0 + w1 * 0.5 + 0.5 * w2\n",
    "h1"
   ]
  },
  {
   "cell_type": "code",
   "execution_count": 45,
   "id": "aggressive-briefs",
   "metadata": {},
   "outputs": [
    {
     "data": {
      "text/plain": [
       "4.6349041600000005"
      ]
     },
     "execution_count": 45,
     "metadata": {},
     "output_type": "execute_result"
    }
   ],
   "source": [
    "w0 = -0.18874079\n",
    "w1 = 9.780544\n",
    "w2 =  -0.1332541\n",
    "h2 = w0 + w1 * 0.5 + 0.5 * w2\n",
    "h2"
   ]
  },
  {
   "cell_type": "code",
   "execution_count": 46,
   "id": "measured-franklin",
   "metadata": {},
   "outputs": [
    {
     "data": {
      "text/plain": [
       "4.034200589999999"
      ]
     },
     "execution_count": 46,
     "metadata": {},
     "output_type": "execute_result"
    }
   ],
   "source": [
    "w0 = 0.03835499\n",
    "w1 = -0.3323118\n",
    "w2 =  8.324003\n",
    "h3 = w0 + w1 * 0.5 + 0.5 * w2\n",
    "h3"
   ]
  },
  {
   "cell_type": "code",
   "execution_count": 47,
   "id": "understood-jackson",
   "metadata": {},
   "outputs": [
    {
     "data": {
      "text/plain": [
       "-4.21203439"
      ]
     },
     "execution_count": 47,
     "metadata": {},
     "output_type": "execute_result"
    }
   ],
   "source": [
    "w0 = -0.04586953\n",
    "w1 = 0.35372728\n",
    "w2 =  -8.686057\n",
    "h4 = w0 + w1 * 0.5 + 0.5 * w2\n",
    "h4"
   ]
  },
  {
   "cell_type": "code",
   "execution_count": 48,
   "id": "pointed-wedding",
   "metadata": {},
   "outputs": [],
   "source": [
    "den = np.exp(h1) + np.exp(h2) + np.exp(h3) + np.exp(h4)"
   ]
  },
  {
   "cell_type": "code",
   "execution_count": 57,
   "id": "described-familiar",
   "metadata": {},
   "outputs": [
    {
     "data": {
      "text/plain": [
       "0.6457221502393359"
      ]
     },
     "execution_count": 57,
     "metadata": {},
     "output_type": "execute_result"
    }
   ],
   "source": [
    "p2"
   ]
  },
  {
   "cell_type": "code",
   "execution_count": 58,
   "id": "descending-ancient",
   "metadata": {},
   "outputs": [],
   "source": [
    "coefs_ = np.array([\n",
    "[-10.021508 , 9.780544 , -0.3323118 , 0.35372728],\n",
    "[ 0.13239847, -0.1332541 , 8.324003 , -8.686057 ]\n",
    "])"
   ]
  },
  {
   "cell_type": "code",
   "execution_count": 59,
   "id": "protecting-trash",
   "metadata": {},
   "outputs": [],
   "source": [
    "intercept_ = np.array([0.19760127, -0.18874079, 0.03835499, -0.04586953])"
   ]
  },
  {
   "cell_type": "code",
   "execution_count": 84,
   "id": "bronze-swift",
   "metadata": {},
   "outputs": [],
   "source": [
    "matr = (np.array([0.5, 0.5]).reshape(1,2)).dot(coefs_.reshape(2,4))"
   ]
  },
  {
   "cell_type": "code",
   "execution_count": 86,
   "id": "removed-trader",
   "metadata": {},
   "outputs": [],
   "source": [
    "res = matr[0] + intercept_"
   ]
  },
  {
   "cell_type": "code",
   "execution_count": 96,
   "id": "tribal-capacity",
   "metadata": {},
   "outputs": [],
   "source": [
    "res2 = [1/(1+np.exp(-i)) for i in res]"
   ]
  },
  {
   "cell_type": "code",
   "execution_count": 105,
   "id": "rural-entrance",
   "metadata": {},
   "outputs": [
    {
     "data": {
      "text/plain": [
       "[0.00860343144891043,\n",
       " 0.990386283389658,\n",
       " 0.9826080112622023,\n",
       " 0.014599881041388516]"
      ]
     },
     "execution_count": 105,
     "metadata": {},
     "output_type": "execute_result"
    }
   ],
   "source": [
    "res2"
   ]
  },
  {
   "cell_type": "code",
   "execution_count": 113,
   "id": "focal-daughter",
   "metadata": {},
   "outputs": [
    {
     "data": {
      "text/plain": [
       "[0.9913965685510896, 0.990386283389658, 0.9826080112622023, 0.9854001189586115]"
      ]
     },
     "execution_count": 113,
     "metadata": {},
     "output_type": "execute_result"
    }
   ],
   "source": [
    "res3 = [1-res2[0], res2[1], res2[2], 1-res2[3]]\n",
    "res3"
   ]
  },
  {
   "cell_type": "code",
   "execution_count": 111,
   "id": "blocked-curtis",
   "metadata": {},
   "outputs": [
    {
     "data": {
      "text/plain": [
       "array([-0.00864065, -0.00966023, -0.01754501, -0.01470751])"
      ]
     },
     "execution_count": 111,
     "metadata": {},
     "output_type": "execute_result"
    }
   ],
   "source": [
    "l = np.array([np.log(r) for r in res3])\n",
    "l"
   ]
  },
  {
   "cell_type": "code",
   "execution_count": 112,
   "id": "juvenile-bronze",
   "metadata": {},
   "outputs": [
    {
     "data": {
      "text/plain": [
       "0.012638348909066743"
      ]
     },
     "execution_count": 112,
     "metadata": {},
     "output_type": "execute_result"
    }
   ],
   "source": [
    "-l.sum()/4"
   ]
  },
  {
   "cell_type": "code",
   "execution_count": null,
   "id": "commercial-skirt",
   "metadata": {},
   "outputs": [],
   "source": []
  }
 ],
 "metadata": {
  "kernelspec": {
   "display_name": "Python 3",
   "language": "python",
   "name": "python3"
  },
  "language_info": {
   "codemirror_mode": {
    "name": "ipython",
    "version": 3
   },
   "file_extension": ".py",
   "mimetype": "text/x-python",
   "name": "python",
   "nbconvert_exporter": "python",
   "pygments_lexer": "ipython3",
   "version": "3.8.8"
  }
 },
 "nbformat": 4,
 "nbformat_minor": 5
}
