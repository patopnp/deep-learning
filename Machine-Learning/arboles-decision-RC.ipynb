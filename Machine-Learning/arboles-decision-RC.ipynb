{
 "cells": [
  {
   "cell_type": "code",
   "execution_count": 1,
   "id": "confused-miami",
   "metadata": {},
   "outputs": [],
   "source": [
    "# primer nodo -- petal length\n",
    "n1 = 1*0.667- 38/112 * 0 - 74/112 * 0.5"
   ]
  },
  {
   "cell_type": "code",
   "execution_count": 2,
   "id": "arbitrary-stick",
   "metadata": {},
   "outputs": [],
   "source": [
    "# segundo nodo (abajo a la derecha) -- petal width  \n",
    "n2 = 74/112 * 0.5 - 39/112 * 0.142 - 35/112 * 0.056"
   ]
  },
  {
   "cell_type": "code",
   "execution_count": 3,
   "id": "norwegian-trace",
   "metadata": {},
   "outputs": [],
   "source": [
    "#tercer nodo (abajo a la izq) -- petal length\n",
    "n3 = 39/112 * 0.142 - 4/112 * 0.375"
   ]
  },
  {
   "cell_type": "code",
   "execution_count": 4,
   "id": "abandoned-sapphire",
   "metadata": {},
   "outputs": [],
   "source": [
    "#cuarto nodo (a la derecha) -- petal length \n",
    "n4 = 35/112 * 0.056 - 2/112 * 0.5"
   ]
  },
  {
   "cell_type": "code",
   "execution_count": 5,
   "id": "transparent-kentucky",
   "metadata": {},
   "outputs": [
    {
     "data": {
      "text/plain": [
       "0.5914076782449725"
      ]
     },
     "execution_count": 5,
     "metadata": {},
     "output_type": "execute_result"
    }
   ],
   "source": [
    "#feature importance petal length\n",
    "(n1+n3+n4)/(n1+n2+n3+n4)"
   ]
  },
  {
   "cell_type": "code",
   "execution_count": 6,
   "id": "developed-grant",
   "metadata": {},
   "outputs": [
    {
     "data": {
      "text/plain": [
       "0.40859232175502735"
      ]
     },
     "execution_count": 6,
     "metadata": {},
     "output_type": "execute_result"
    }
   ],
   "source": [
    "#feature importance petal width\n",
    "n2/(n1+n2+n3+n4)"
   ]
  },
  {
   "cell_type": "code",
   "execution_count": 7,
   "id": "national-entrance",
   "metadata": {},
   "outputs": [
    {
     "data": {
      "text/plain": [
       "0.3366428571428572"
      ]
     },
     "execution_count": 7,
     "metadata": {},
     "output_type": "execute_result"
    }
   ],
   "source": [
    "n1"
   ]
  },
  {
   "cell_type": "code",
   "execution_count": null,
   "id": "aggressive-african",
   "metadata": {},
   "outputs": [],
   "source": []
  }
 ],
 "metadata": {
  "kernelspec": {
   "display_name": "Python 3",
   "language": "python",
   "name": "python3"
  },
  "language_info": {
   "codemirror_mode": {
    "name": "ipython",
    "version": 3
   },
   "file_extension": ".py",
   "mimetype": "text/x-python",
   "name": "python",
   "nbconvert_exporter": "python",
   "pygments_lexer": "ipython3",
   "version": "3.8.8"
  }
 },
 "nbformat": 4,
 "nbformat_minor": 5
}
