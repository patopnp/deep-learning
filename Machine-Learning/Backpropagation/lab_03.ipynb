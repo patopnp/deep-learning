{
 "cells": [
  {
   "cell_type": "code",
   "execution_count": 1,
   "metadata": {},
   "outputs": [],
   "source": [
    "%load_ext autoreload\n",
    "%autoreload 2"
   ]
  },
  {
   "cell_type": "code",
   "execution_count": 9,
   "metadata": {},
   "outputs": [],
   "source": [
    "from tensorflow.keras.models import load_model\n",
    "import tensorflow as tf\n",
    "import numpy as np\n",
    "from tensorflow.keras.layers import Dense, Activation\n",
    "from tensorflow.keras.models import Sequential, Model\n",
    "from tensorflow.keras.optimizers import SGD\n",
    "from tensorflow.keras import initializers\n"
   ]
  },
  {
   "cell_type": "code",
   "execution_count": 10,
   "metadata": {},
   "outputs": [],
   "source": [
    "def get_deep_model(lr=0.1, layers=10, input_dim=2):\n",
    "    model = Sequential()\n",
    "    model.add(Dense(3, name='D1', input_dim=input_dim, kernel_initializer=initializers.RandomNormal(stddev=0.5), \n",
    "                    bias_initializer=initializers.RandomNormal(stddev=0.5)))\n",
    "    model.add(Activation('sigmoid', name='A1'))\n",
    "    for i in range(layers-2):\n",
    "        model.add(Dense(2, name=f'D{i+2}', kernel_initializer=initializers.RandomNormal(stddev=0.5), \n",
    "                        bias_initializer=initializers.RandomNormal(stddev=0.5)))\n",
    "        model.add(Activation('sigmoid', name=f'A{i+2}'))\n",
    "    model.add(Dense(3,  name=f'D{i+3}', kernel_initializer=initializers.RandomNormal(stddev=0.5), \n",
    "                    bias_initializer=initializers.RandomNormal(stddev=0.5)))\n",
    "    model.add(Activation('softmax', name='P_est'))\n",
    "    model.compile(SGD(lr=lr), loss='mse')\n",
    "    model.save('deep_model.hdf5')\n",
    "    return model\n"
   ]
  },
  {
   "cell_type": "code",
   "execution_count": 11,
   "metadata": {},
   "outputs": [],
   "source": [
    "model = get_deep_model(layers=20)\n",
    "model = load_model('deep_model.hdf5')"
   ]
  },
  {
   "cell_type": "code",
   "execution_count": 12,
   "metadata": {},
   "outputs": [
    {
     "name": "stdout",
     "output_type": "stream",
     "text": [
      "Model: \"sequential_1\"\n",
      "_________________________________________________________________\n",
      "Layer (type)                 Output Shape              Param #   \n",
      "=================================================================\n",
      "D1 (Dense)                   (None, 3)                 9         \n",
      "_________________________________________________________________\n",
      "A1 (Activation)              (None, 3)                 0         \n",
      "_________________________________________________________________\n",
      "D2 (Dense)                   (None, 2)                 8         \n",
      "_________________________________________________________________\n",
      "A2 (Activation)              (None, 2)                 0         \n",
      "_________________________________________________________________\n",
      "D3 (Dense)                   (None, 2)                 6         \n",
      "_________________________________________________________________\n",
      "A3 (Activation)              (None, 2)                 0         \n",
      "_________________________________________________________________\n",
      "D4 (Dense)                   (None, 2)                 6         \n",
      "_________________________________________________________________\n",
      "A4 (Activation)              (None, 2)                 0         \n",
      "_________________________________________________________________\n",
      "D5 (Dense)                   (None, 2)                 6         \n",
      "_________________________________________________________________\n",
      "A5 (Activation)              (None, 2)                 0         \n",
      "_________________________________________________________________\n",
      "D6 (Dense)                   (None, 2)                 6         \n",
      "_________________________________________________________________\n",
      "A6 (Activation)              (None, 2)                 0         \n",
      "_________________________________________________________________\n",
      "D7 (Dense)                   (None, 2)                 6         \n",
      "_________________________________________________________________\n",
      "A7 (Activation)              (None, 2)                 0         \n",
      "_________________________________________________________________\n",
      "D8 (Dense)                   (None, 2)                 6         \n",
      "_________________________________________________________________\n",
      "A8 (Activation)              (None, 2)                 0         \n",
      "_________________________________________________________________\n",
      "D9 (Dense)                   (None, 2)                 6         \n",
      "_________________________________________________________________\n",
      "A9 (Activation)              (None, 2)                 0         \n",
      "_________________________________________________________________\n",
      "D10 (Dense)                  (None, 2)                 6         \n",
      "_________________________________________________________________\n",
      "A10 (Activation)             (None, 2)                 0         \n",
      "_________________________________________________________________\n",
      "D11 (Dense)                  (None, 2)                 6         \n",
      "_________________________________________________________________\n",
      "A11 (Activation)             (None, 2)                 0         \n",
      "_________________________________________________________________\n",
      "D12 (Dense)                  (None, 2)                 6         \n",
      "_________________________________________________________________\n",
      "A12 (Activation)             (None, 2)                 0         \n",
      "_________________________________________________________________\n",
      "D13 (Dense)                  (None, 2)                 6         \n",
      "_________________________________________________________________\n",
      "A13 (Activation)             (None, 2)                 0         \n",
      "_________________________________________________________________\n",
      "D14 (Dense)                  (None, 2)                 6         \n",
      "_________________________________________________________________\n",
      "A14 (Activation)             (None, 2)                 0         \n",
      "_________________________________________________________________\n",
      "D15 (Dense)                  (None, 2)                 6         \n",
      "_________________________________________________________________\n",
      "A15 (Activation)             (None, 2)                 0         \n",
      "_________________________________________________________________\n",
      "D16 (Dense)                  (None, 2)                 6         \n",
      "_________________________________________________________________\n",
      "A16 (Activation)             (None, 2)                 0         \n",
      "_________________________________________________________________\n",
      "D17 (Dense)                  (None, 2)                 6         \n",
      "_________________________________________________________________\n",
      "A17 (Activation)             (None, 2)                 0         \n",
      "_________________________________________________________________\n",
      "D18 (Dense)                  (None, 2)                 6         \n",
      "_________________________________________________________________\n",
      "A18 (Activation)             (None, 2)                 0         \n",
      "_________________________________________________________________\n",
      "D19 (Dense)                  (None, 2)                 6         \n",
      "_________________________________________________________________\n",
      "A19 (Activation)             (None, 2)                 0         \n",
      "_________________________________________________________________\n",
      "D20 (Dense)                  (None, 3)                 9         \n",
      "_________________________________________________________________\n",
      "P_est (Activation)           (None, 3)                 0         \n",
      "=================================================================\n",
      "Total params: 128\n",
      "Trainable params: 128\n",
      "Non-trainable params: 0\n",
      "_________________________________________________________________\n"
     ]
    }
   ],
   "source": [
    "model.summary()"
   ]
  },
  {
   "cell_type": "code",
   "execution_count": 13,
   "metadata": {},
   "outputs": [],
   "source": [
    "def get_grad(model, layer, X = np.array([[3.4, 2.1]]), P_true = np.array([[1, 0, 0]])):\n",
    "\n",
    "    inputs = tf.constant(X)\n",
    "\n",
    "    with tf.GradientTape() as tape:\n",
    "        preds = model(inputs)\n",
    "        loss = model.loss(tf.constant(P_true), preds)\n",
    "\n",
    "    grads = tape.gradient(loss, model.get_layer(layer).trainable_variables)\n",
    "    return grads"
   ]
  },
  {
   "cell_type": "code",
   "execution_count": 14,
   "metadata": {},
   "outputs": [],
   "source": [
    "grads = []\n",
    "for i in range(20):\n",
    "    g = get_grad(model, f'D{i+1}')[0][0].numpy()\n",
    "    grads.append(np.abs(g).mean())"
   ]
  },
  {
   "cell_type": "code",
   "execution_count": 15,
   "metadata": {},
   "outputs": [],
   "source": [
    "from matplotlib import pyplot as plt"
   ]
  },
  {
   "cell_type": "code",
   "execution_count": 16,
   "metadata": {},
   "outputs": [
    {
     "data": {
      "text/plain": [
       "[<matplotlib.lines.Line2D at 0x6363239d0>]"
      ]
     },
     "execution_count": 16,
     "metadata": {},
     "output_type": "execute_result"
    },
    {
     "data": {
      "image/png": "[encoded data removed]",
      "text/plain": [
       "<Figure size 432x288 with 1 Axes>"
      ]
     },
     "metadata": {
      "needs_background": "light"
     },
     "output_type": "display_data"
    }
   ],
   "source": [
    "plt.plot(np.log10(grads))"
   ]
  },
  {
   "cell_type": "code",
   "execution_count": 51,
   "metadata": {},
   "outputs": [
    {
     "data": {
      "text/plain": [
       "8.844711e-19"
      ]
     },
     "execution_count": 51,
     "metadata": {},
     "output_type": "execute_result"
    }
   ],
   "source": [
    "grads[0]"
   ]
  },
  {
   "cell_type": "code",
   "execution_count": null,
   "metadata": {},
   "outputs": [],
   "source": []
  }
 ],
 "metadata": {
  "kernelspec": {
   "display_name": "Python 3",
   "language": "python",
   "name": "python3"
  },
  "language_info": {
   "codemirror_mode": {
    "name": "ipython",
    "version": 3
   },
   "file_extension": ".py",
   "mimetype": "text/x-python",
   "name": "python",
   "nbconvert_exporter": "python",
   "pygments_lexer": "ipython3",
   "version": "3.7.7"
  }
 },
 "nbformat": 4,
 "nbformat_minor": 4
}
