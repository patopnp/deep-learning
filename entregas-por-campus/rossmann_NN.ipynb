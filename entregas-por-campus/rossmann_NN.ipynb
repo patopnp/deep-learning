{
 "cells": [
  {
   "cell_type": "markdown",
   "metadata": {},
   "source": [
    "## Importamos librerias"
   ]
  },
  {
   "cell_type": "code",
   "execution_count": 1,
   "metadata": {},
   "outputs": [],
   "source": [
    "import math, keras, datetime, pandas as pd, numpy as np, keras.backend as K\n",
    "import matplotlib.pyplot as plt, xgboost, operator, random, pickle"
   ]
  },
  {
   "cell_type": "code",
   "execution_count": 2,
   "metadata": {},
   "outputs": [],
   "source": [
    "#pip install utils2"
   ]
  },
  {
   "cell_type": "code",
   "execution_count": 3,
   "metadata": {},
   "outputs": [],
   "source": [
    "from utils2 import *"
   ]
  },
  {
   "cell_type": "code",
   "execution_count": 4,
   "metadata": {},
   "outputs": [],
   "source": [
    "np.set_printoptions(threshold=50, edgeitems =20)"
   ]
  },
  {
   "cell_type": "code",
   "execution_count": 5,
   "metadata": {},
   "outputs": [],
   "source": [
    "from isoweek import Week\n",
    "from pandas_summary import DataFrameSummary"
   ]
  },
  {
   "cell_type": "code",
   "execution_count": 6,
   "metadata": {},
   "outputs": [
    {
     "name": "stdout",
     "output_type": "stream",
     "text": [
      "C:\\Users\\Patricio\\deep-learning\\Machine-Learning\\Laboratorio-Metodos de ensamble\\dataset\\rossmann\n"
     ]
    }
   ],
   "source": [
    "%cd C:/Users/Patricio/deep-learning/Machine-Learning/Laboratorio-Metodos de ensamble/dataset/rossmann/"
   ]
  },
  {
   "cell_type": "markdown",
   "metadata": {},
   "source": [
    "## Create datasets"
   ]
  },
  {
   "cell_type": "code",
   "execution_count": 7,
   "metadata": {},
   "outputs": [],
   "source": [
    "def concat_csvs(dirname):\n",
    "    os.chdir(dirname)\n",
    "    filesnames = glob.glob(\"*.csv\")\n",
    "    \n",
    "    wrote_header = False\n",
    "    with open(\"../\"+dirname+\".csv\",\"w\") as outputfile:\n",
    "        for filename in filenames:\n",
    "            name = filename.split(\".\")[0]\n",
    "            with open(filename) as f:\n",
    "                line = f.readline()\n",
    "                if not wrote_header:\n",
    "                    wrote_header = True\n",
    "                    outputfile.write(\"file,\"+line)\n",
    "                for line in f:\n",
    "                    outputfile.write(name + \",\" + line)\n",
    "                outputfile.write(\"\\n\")\n",
    "    os.chdir(\"..\")"
   ]
  },
  {
   "cell_type": "code",
   "execution_count": 8,
   "metadata": {},
   "outputs": [],
   "source": [
    "table_names = ['train', 'store', 'store_states', 'state_names', 'googletrend', 'weather', 'test']"
   ]
  },
  {
   "cell_type": "code",
   "execution_count": 9,
   "metadata": {},
   "outputs": [],
   "source": [
    "tables = [pd.read_csv(fname+'.csv', low_memory = False) for fname in table_names]"
   ]
  },
  {
   "cell_type": "code",
   "execution_count": 10,
   "metadata": {},
   "outputs": [],
   "source": [
    "from IPython.display import HTML"
   ]
  },
  {
   "cell_type": "code",
   "execution_count": 11,
   "metadata": {},
   "outputs": [
    {
     "data": {
      "text/html": [
       "<div>\n",
       "<style scoped>\n",
       "    .dataframe tbody tr th:only-of-type {\n",
       "        vertical-align: middle;\n",
       "    }\n",
       "\n",
       "    .dataframe tbody tr th {\n",
       "        vertical-align: top;\n",
       "    }\n",
       "\n",
       "    .dataframe thead th {\n",
       "        text-align: right;\n",
       "    }\n",
       "</style>\n",
       "<table border=\"1\" class=\"dataframe\">\n",
       "  <thead>\n",
       "    <tr style=\"text-align: right;\">\n",
       "      <th></th>\n",
       "      <th>Store</th>\n",
       "      <th>DayOfWeek</th>\n",
       "      <th>Date</th>\n",
       "      <th>Sales</th>\n",
       "      <th>Customers</th>\n",
       "      <th>Open</th>\n",
       "      <th>Promo</th>\n",
       "      <th>StateHoliday</th>\n",
       "      <th>SchoolHoliday</th>\n",
       "    </tr>\n",
       "  </thead>\n",
       "  <tbody>\n",
       "    <tr>\n",
       "      <th>0</th>\n",
       "      <td>1</td>\n",
       "      <td>5</td>\n",
       "      <td>2015-07-31</td>\n",
       "      <td>5263</td>\n",
       "      <td>555</td>\n",
       "      <td>1</td>\n",
       "      <td>1</td>\n",
       "      <td>0</td>\n",
       "      <td>1</td>\n",
       "    </tr>\n",
       "    <tr>\n",
       "      <th>1</th>\n",
       "      <td>2</td>\n",
       "      <td>5</td>\n",
       "      <td>2015-07-31</td>\n",
       "      <td>6064</td>\n",
       "      <td>625</td>\n",
       "      <td>1</td>\n",
       "      <td>1</td>\n",
       "      <td>0</td>\n",
       "      <td>1</td>\n",
       "    </tr>\n",
       "    <tr>\n",
       "      <th>2</th>\n",
       "      <td>3</td>\n",
       "      <td>5</td>\n",
       "      <td>2015-07-31</td>\n",
       "      <td>8314</td>\n",
       "      <td>821</td>\n",
       "      <td>1</td>\n",
       "      <td>1</td>\n",
       "      <td>0</td>\n",
       "      <td>1</td>\n",
       "    </tr>\n",
       "    <tr>\n",
       "      <th>3</th>\n",
       "      <td>4</td>\n",
       "      <td>5</td>\n",
       "      <td>2015-07-31</td>\n",
       "      <td>13995</td>\n",
       "      <td>1498</td>\n",
       "      <td>1</td>\n",
       "      <td>1</td>\n",
       "      <td>0</td>\n",
       "      <td>1</td>\n",
       "    </tr>\n",
       "    <tr>\n",
       "      <th>4</th>\n",
       "      <td>5</td>\n",
       "      <td>5</td>\n",
       "      <td>2015-07-31</td>\n",
       "      <td>4822</td>\n",
       "      <td>559</td>\n",
       "      <td>1</td>\n",
       "      <td>1</td>\n",
       "      <td>0</td>\n",
       "      <td>1</td>\n",
       "    </tr>\n",
       "  </tbody>\n",
       "</table>\n",
       "</div>"
      ],
      "text/plain": [
       "   Store  DayOfWeek        Date  Sales  Customers  Open  Promo StateHoliday  \\\n",
       "0      1          5  2015-07-31   5263        555     1      1            0   \n",
       "1      2          5  2015-07-31   6064        625     1      1            0   \n",
       "2      3          5  2015-07-31   8314        821     1      1            0   \n",
       "3      4          5  2015-07-31  13995       1498     1      1            0   \n",
       "4      5          5  2015-07-31   4822        559     1      1            0   \n",
       "\n",
       "   SchoolHoliday  \n",
       "0              1  \n",
       "1              1  \n",
       "2              1  \n",
       "3              1  \n",
       "4              1  "
      ]
     },
     "metadata": {},
     "output_type": "display_data"
    },
    {
     "data": {
      "text/html": [
       "<div>\n",
       "<style scoped>\n",
       "    .dataframe tbody tr th:only-of-type {\n",
       "        vertical-align: middle;\n",
       "    }\n",
       "\n",
       "    .dataframe tbody tr th {\n",
       "        vertical-align: top;\n",
       "    }\n",
       "\n",
       "    .dataframe thead th {\n",
       "        text-align: right;\n",
       "    }\n",
       "</style>\n",
       "<table border=\"1\" class=\"dataframe\">\n",
       "  <thead>\n",
       "    <tr style=\"text-align: right;\">\n",
       "      <th></th>\n",
       "      <th>Store</th>\n",
       "      <th>StoreType</th>\n",
       "      <th>Assortment</th>\n",
       "      <th>CompetitionDistance</th>\n",
       "      <th>CompetitionOpenSinceMonth</th>\n",
       "      <th>CompetitionOpenSinceYear</th>\n",
       "      <th>Promo2</th>\n",
       "      <th>Promo2SinceWeek</th>\n",
       "      <th>Promo2SinceYear</th>\n",
       "      <th>PromoInterval</th>\n",
       "    </tr>\n",
       "  </thead>\n",
       "  <tbody>\n",
       "    <tr>\n",
       "      <th>0</th>\n",
       "      <td>1</td>\n",
       "      <td>c</td>\n",
       "      <td>a</td>\n",
       "      <td>1270.0</td>\n",
       "      <td>9.0</td>\n",
       "      <td>2008.0</td>\n",
       "      <td>0</td>\n",
       "      <td>NaN</td>\n",
       "      <td>NaN</td>\n",
       "      <td>NaN</td>\n",
       "    </tr>\n",
       "    <tr>\n",
       "      <th>1</th>\n",
       "      <td>2</td>\n",
       "      <td>a</td>\n",
       "      <td>a</td>\n",
       "      <td>570.0</td>\n",
       "      <td>11.0</td>\n",
       "      <td>2007.0</td>\n",
       "      <td>1</td>\n",
       "      <td>13.0</td>\n",
       "      <td>2010.0</td>\n",
       "      <td>Jan,Apr,Jul,Oct</td>\n",
       "    </tr>\n",
       "    <tr>\n",
       "      <th>2</th>\n",
       "      <td>3</td>\n",
       "      <td>a</td>\n",
       "      <td>a</td>\n",
       "      <td>14130.0</td>\n",
       "      <td>12.0</td>\n",
       "      <td>2006.0</td>\n",
       "      <td>1</td>\n",
       "      <td>14.0</td>\n",
       "      <td>2011.0</td>\n",
       "      <td>Jan,Apr,Jul,Oct</td>\n",
       "    </tr>\n",
       "    <tr>\n",
       "      <th>3</th>\n",
       "      <td>4</td>\n",
       "      <td>c</td>\n",
       "      <td>c</td>\n",
       "      <td>620.0</td>\n",
       "      <td>9.0</td>\n",
       "      <td>2009.0</td>\n",
       "      <td>0</td>\n",
       "      <td>NaN</td>\n",
       "      <td>NaN</td>\n",
       "      <td>NaN</td>\n",
       "    </tr>\n",
       "    <tr>\n",
       "      <th>4</th>\n",
       "      <td>5</td>\n",
       "      <td>a</td>\n",
       "      <td>a</td>\n",
       "      <td>29910.0</td>\n",
       "      <td>4.0</td>\n",
       "      <td>2015.0</td>\n",
       "      <td>0</td>\n",
       "      <td>NaN</td>\n",
       "      <td>NaN</td>\n",
       "      <td>NaN</td>\n",
       "    </tr>\n",
       "  </tbody>\n",
       "</table>\n",
       "</div>"
      ],
      "text/plain": [
       "   Store StoreType Assortment  CompetitionDistance  CompetitionOpenSinceMonth  \\\n",
       "0      1         c          a               1270.0                        9.0   \n",
       "1      2         a          a                570.0                       11.0   \n",
       "2      3         a          a              14130.0                       12.0   \n",
       "3      4         c          c                620.0                        9.0   \n",
       "4      5         a          a              29910.0                        4.0   \n",
       "\n",
       "   CompetitionOpenSinceYear  Promo2  Promo2SinceWeek  Promo2SinceYear  \\\n",
       "0                    2008.0       0              NaN              NaN   \n",
       "1                    2007.0       1             13.0           2010.0   \n",
       "2                    2006.0       1             14.0           2011.0   \n",
       "3                    2009.0       0              NaN              NaN   \n",
       "4                    2015.0       0              NaN              NaN   \n",
       "\n",
       "     PromoInterval  \n",
       "0              NaN  \n",
       "1  Jan,Apr,Jul,Oct  \n",
       "2  Jan,Apr,Jul,Oct  \n",
       "3              NaN  \n",
       "4              NaN  "
      ]
     },
     "metadata": {},
     "output_type": "display_data"
    },
    {
     "data": {
      "text/html": [
       "<div>\n",
       "<style scoped>\n",
       "    .dataframe tbody tr th:only-of-type {\n",
       "        vertical-align: middle;\n",
       "    }\n",
       "\n",
       "    .dataframe tbody tr th {\n",
       "        vertical-align: top;\n",
       "    }\n",
       "\n",
       "    .dataframe thead th {\n",
       "        text-align: right;\n",
       "    }\n",
       "</style>\n",
       "<table border=\"1\" class=\"dataframe\">\n",
       "  <thead>\n",
       "    <tr style=\"text-align: right;\">\n",
       "      <th></th>\n",
       "      <th>Store</th>\n",
       "      <th>State</th>\n",
       "    </tr>\n",
       "  </thead>\n",
       "  <tbody>\n",
       "    <tr>\n",
       "      <th>0</th>\n",
       "      <td>1</td>\n",
       "      <td>HE</td>\n",
       "    </tr>\n",
       "    <tr>\n",
       "      <th>1</th>\n",
       "      <td>2</td>\n",
       "      <td>TH</td>\n",
       "    </tr>\n",
       "    <tr>\n",
       "      <th>2</th>\n",
       "      <td>3</td>\n",
       "      <td>NW</td>\n",
       "    </tr>\n",
       "    <tr>\n",
       "      <th>3</th>\n",
       "      <td>4</td>\n",
       "      <td>BE</td>\n",
       "    </tr>\n",
       "    <tr>\n",
       "      <th>4</th>\n",
       "      <td>5</td>\n",
       "      <td>SN</td>\n",
       "    </tr>\n",
       "  </tbody>\n",
       "</table>\n",
       "</div>"
      ],
      "text/plain": [
       "   Store State\n",
       "0      1    HE\n",
       "1      2    TH\n",
       "2      3    NW\n",
       "3      4    BE\n",
       "4      5    SN"
      ]
     },
     "metadata": {},
     "output_type": "display_data"
    },
    {
     "data": {
      "text/html": [
       "<div>\n",
       "<style scoped>\n",
       "    .dataframe tbody tr th:only-of-type {\n",
       "        vertical-align: middle;\n",
       "    }\n",
       "\n",
       "    .dataframe tbody tr th {\n",
       "        vertical-align: top;\n",
       "    }\n",
       "\n",
       "    .dataframe thead th {\n",
       "        text-align: right;\n",
       "    }\n",
       "</style>\n",
       "<table border=\"1\" class=\"dataframe\">\n",
       "  <thead>\n",
       "    <tr style=\"text-align: right;\">\n",
       "      <th></th>\n",
       "      <th>StateName</th>\n",
       "      <th>State</th>\n",
       "    </tr>\n",
       "  </thead>\n",
       "  <tbody>\n",
       "    <tr>\n",
       "      <th>0</th>\n",
       "      <td>BadenWuerttemberg</td>\n",
       "      <td>BW</td>\n",
       "    </tr>\n",
       "    <tr>\n",
       "      <th>1</th>\n",
       "      <td>Bayern</td>\n",
       "      <td>BY</td>\n",
       "    </tr>\n",
       "    <tr>\n",
       "      <th>2</th>\n",
       "      <td>Berlin</td>\n",
       "      <td>BE</td>\n",
       "    </tr>\n",
       "    <tr>\n",
       "      <th>3</th>\n",
       "      <td>Brandenburg</td>\n",
       "      <td>BB</td>\n",
       "    </tr>\n",
       "    <tr>\n",
       "      <th>4</th>\n",
       "      <td>Bremen</td>\n",
       "      <td>HB</td>\n",
       "    </tr>\n",
       "  </tbody>\n",
       "</table>\n",
       "</div>"
      ],
      "text/plain": [
       "           StateName State\n",
       "0  BadenWuerttemberg    BW\n",
       "1             Bayern    BY\n",
       "2             Berlin    BE\n",
       "3        Brandenburg    BB\n",
       "4             Bremen    HB"
      ]
     },
     "metadata": {},
     "output_type": "display_data"
    },
    {
     "data": {
      "text/html": [
       "<div>\n",
       "<style scoped>\n",
       "    .dataframe tbody tr th:only-of-type {\n",
       "        vertical-align: middle;\n",
       "    }\n",
       "\n",
       "    .dataframe tbody tr th {\n",
       "        vertical-align: top;\n",
       "    }\n",
       "\n",
       "    .dataframe thead th {\n",
       "        text-align: right;\n",
       "    }\n",
       "</style>\n",
       "<table border=\"1\" class=\"dataframe\">\n",
       "  <thead>\n",
       "    <tr style=\"text-align: right;\">\n",
       "      <th></th>\n",
       "      <th>file</th>\n",
       "      <th>week</th>\n",
       "      <th>trend</th>\n",
       "    </tr>\n",
       "  </thead>\n",
       "  <tbody>\n",
       "    <tr>\n",
       "      <th>0</th>\n",
       "      <td>Rossmann_DE_SN</td>\n",
       "      <td>2012-12-02 - 2012-12-08</td>\n",
       "      <td>96</td>\n",
       "    </tr>\n",
       "    <tr>\n",
       "      <th>1</th>\n",
       "      <td>Rossmann_DE_SN</td>\n",
       "      <td>2012-12-09 - 2012-12-15</td>\n",
       "      <td>95</td>\n",
       "    </tr>\n",
       "    <tr>\n",
       "      <th>2</th>\n",
       "      <td>Rossmann_DE_SN</td>\n",
       "      <td>2012-12-16 - 2012-12-22</td>\n",
       "      <td>91</td>\n",
       "    </tr>\n",
       "    <tr>\n",
       "      <th>3</th>\n",
       "      <td>Rossmann_DE_SN</td>\n",
       "      <td>2012-12-23 - 2012-12-29</td>\n",
       "      <td>48</td>\n",
       "    </tr>\n",
       "    <tr>\n",
       "      <th>4</th>\n",
       "      <td>Rossmann_DE_SN</td>\n",
       "      <td>2012-12-30 - 2013-01-05</td>\n",
       "      <td>67</td>\n",
       "    </tr>\n",
       "  </tbody>\n",
       "</table>\n",
       "</div>"
      ],
      "text/plain": [
       "             file                     week  trend\n",
       "0  Rossmann_DE_SN  2012-12-02 - 2012-12-08     96\n",
       "1  Rossmann_DE_SN  2012-12-09 - 2012-12-15     95\n",
       "2  Rossmann_DE_SN  2012-12-16 - 2012-12-22     91\n",
       "3  Rossmann_DE_SN  2012-12-23 - 2012-12-29     48\n",
       "4  Rossmann_DE_SN  2012-12-30 - 2013-01-05     67"
      ]
     },
     "metadata": {},
     "output_type": "display_data"
    },
    {
     "data": {
      "text/html": [
       "<div>\n",
       "<style scoped>\n",
       "    .dataframe tbody tr th:only-of-type {\n",
       "        vertical-align: middle;\n",
       "    }\n",
       "\n",
       "    .dataframe tbody tr th {\n",
       "        vertical-align: top;\n",
       "    }\n",
       "\n",
       "    .dataframe thead th {\n",
       "        text-align: right;\n",
       "    }\n",
       "</style>\n",
       "<table border=\"1\" class=\"dataframe\">\n",
       "  <thead>\n",
       "    <tr style=\"text-align: right;\">\n",
       "      <th></th>\n",
       "      <th>file</th>\n",
       "      <th>Date</th>\n",
       "      <th>Max_TemperatureC</th>\n",
       "      <th>Mean_TemperatureC</th>\n",
       "      <th>Min_TemperatureC</th>\n",
       "      <th>Dew_PointC</th>\n",
       "      <th>MeanDew_PointC</th>\n",
       "      <th>Min_DewpointC</th>\n",
       "      <th>Max_Humidity</th>\n",
       "      <th>Mean_Humidity</th>\n",
       "      <th>...</th>\n",
       "      <th>Max_VisibilityKm</th>\n",
       "      <th>Mean_VisibilityKm</th>\n",
       "      <th>Min_VisibilitykM</th>\n",
       "      <th>Max_Wind_SpeedKm_h</th>\n",
       "      <th>Mean_Wind_SpeedKm_h</th>\n",
       "      <th>Max_Gust_SpeedKm_h</th>\n",
       "      <th>Precipitationmm</th>\n",
       "      <th>CloudCover</th>\n",
       "      <th>Events</th>\n",
       "      <th>WindDirDegrees</th>\n",
       "    </tr>\n",
       "  </thead>\n",
       "  <tbody>\n",
       "    <tr>\n",
       "      <th>0</th>\n",
       "      <td>NordrheinWestfalen</td>\n",
       "      <td>2013-01-01</td>\n",
       "      <td>8</td>\n",
       "      <td>4</td>\n",
       "      <td>2</td>\n",
       "      <td>7</td>\n",
       "      <td>5</td>\n",
       "      <td>1</td>\n",
       "      <td>94</td>\n",
       "      <td>87</td>\n",
       "      <td>...</td>\n",
       "      <td>31.0</td>\n",
       "      <td>12.0</td>\n",
       "      <td>4.0</td>\n",
       "      <td>39</td>\n",
       "      <td>26</td>\n",
       "      <td>58.0</td>\n",
       "      <td>5.08</td>\n",
       "      <td>6.0</td>\n",
       "      <td>Rain</td>\n",
       "      <td>215</td>\n",
       "    </tr>\n",
       "    <tr>\n",
       "      <th>1</th>\n",
       "      <td>NordrheinWestfalen</td>\n",
       "      <td>2013-01-02</td>\n",
       "      <td>7</td>\n",
       "      <td>4</td>\n",
       "      <td>1</td>\n",
       "      <td>5</td>\n",
       "      <td>3</td>\n",
       "      <td>2</td>\n",
       "      <td>93</td>\n",
       "      <td>85</td>\n",
       "      <td>...</td>\n",
       "      <td>31.0</td>\n",
       "      <td>14.0</td>\n",
       "      <td>10.0</td>\n",
       "      <td>24</td>\n",
       "      <td>16</td>\n",
       "      <td>NaN</td>\n",
       "      <td>0.00</td>\n",
       "      <td>6.0</td>\n",
       "      <td>Rain</td>\n",
       "      <td>225</td>\n",
       "    </tr>\n",
       "    <tr>\n",
       "      <th>2</th>\n",
       "      <td>NordrheinWestfalen</td>\n",
       "      <td>2013-01-03</td>\n",
       "      <td>11</td>\n",
       "      <td>8</td>\n",
       "      <td>6</td>\n",
       "      <td>10</td>\n",
       "      <td>8</td>\n",
       "      <td>4</td>\n",
       "      <td>100</td>\n",
       "      <td>93</td>\n",
       "      <td>...</td>\n",
       "      <td>31.0</td>\n",
       "      <td>8.0</td>\n",
       "      <td>2.0</td>\n",
       "      <td>26</td>\n",
       "      <td>21</td>\n",
       "      <td>NaN</td>\n",
       "      <td>1.02</td>\n",
       "      <td>7.0</td>\n",
       "      <td>Rain</td>\n",
       "      <td>240</td>\n",
       "    </tr>\n",
       "    <tr>\n",
       "      <th>3</th>\n",
       "      <td>NordrheinWestfalen</td>\n",
       "      <td>2013-01-04</td>\n",
       "      <td>9</td>\n",
       "      <td>9</td>\n",
       "      <td>8</td>\n",
       "      <td>9</td>\n",
       "      <td>9</td>\n",
       "      <td>8</td>\n",
       "      <td>100</td>\n",
       "      <td>94</td>\n",
       "      <td>...</td>\n",
       "      <td>11.0</td>\n",
       "      <td>5.0</td>\n",
       "      <td>2.0</td>\n",
       "      <td>23</td>\n",
       "      <td>14</td>\n",
       "      <td>NaN</td>\n",
       "      <td>0.25</td>\n",
       "      <td>7.0</td>\n",
       "      <td>Rain</td>\n",
       "      <td>263</td>\n",
       "    </tr>\n",
       "    <tr>\n",
       "      <th>4</th>\n",
       "      <td>NordrheinWestfalen</td>\n",
       "      <td>2013-01-05</td>\n",
       "      <td>8</td>\n",
       "      <td>8</td>\n",
       "      <td>7</td>\n",
       "      <td>8</td>\n",
       "      <td>7</td>\n",
       "      <td>6</td>\n",
       "      <td>100</td>\n",
       "      <td>94</td>\n",
       "      <td>...</td>\n",
       "      <td>10.0</td>\n",
       "      <td>6.0</td>\n",
       "      <td>3.0</td>\n",
       "      <td>16</td>\n",
       "      <td>10</td>\n",
       "      <td>NaN</td>\n",
       "      <td>0.00</td>\n",
       "      <td>7.0</td>\n",
       "      <td>Rain</td>\n",
       "      <td>268</td>\n",
       "    </tr>\n",
       "  </tbody>\n",
       "</table>\n",
       "<p>5 rows × 24 columns</p>\n",
       "</div>"
      ],
      "text/plain": [
       "                 file        Date  Max_TemperatureC  Mean_TemperatureC  \\\n",
       "0  NordrheinWestfalen  2013-01-01                 8                  4   \n",
       "1  NordrheinWestfalen  2013-01-02                 7                  4   \n",
       "2  NordrheinWestfalen  2013-01-03                11                  8   \n",
       "3  NordrheinWestfalen  2013-01-04                 9                  9   \n",
       "4  NordrheinWestfalen  2013-01-05                 8                  8   \n",
       "\n",
       "   Min_TemperatureC  Dew_PointC  MeanDew_PointC  Min_DewpointC  Max_Humidity  \\\n",
       "0                 2           7               5              1            94   \n",
       "1                 1           5               3              2            93   \n",
       "2                 6          10               8              4           100   \n",
       "3                 8           9               9              8           100   \n",
       "4                 7           8               7              6           100   \n",
       "\n",
       "   Mean_Humidity  ...  Max_VisibilityKm  Mean_VisibilityKm  Min_VisibilitykM  \\\n",
       "0             87  ...              31.0               12.0               4.0   \n",
       "1             85  ...              31.0               14.0              10.0   \n",
       "2             93  ...              31.0                8.0               2.0   \n",
       "3             94  ...              11.0                5.0               2.0   \n",
       "4             94  ...              10.0                6.0               3.0   \n",
       "\n",
       "   Max_Wind_SpeedKm_h  Mean_Wind_SpeedKm_h  Max_Gust_SpeedKm_h  \\\n",
       "0                  39                   26                58.0   \n",
       "1                  24                   16                 NaN   \n",
       "2                  26                   21                 NaN   \n",
       "3                  23                   14                 NaN   \n",
       "4                  16                   10                 NaN   \n",
       "\n",
       "   Precipitationmm  CloudCover  Events  WindDirDegrees  \n",
       "0             5.08         6.0    Rain             215  \n",
       "1             0.00         6.0    Rain             225  \n",
       "2             1.02         7.0    Rain             240  \n",
       "3             0.25         7.0    Rain             263  \n",
       "4             0.00         7.0    Rain             268  \n",
       "\n",
       "[5 rows x 24 columns]"
      ]
     },
     "metadata": {},
     "output_type": "display_data"
    },
    {
     "data": {
      "text/html": [
       "<div>\n",
       "<style scoped>\n",
       "    .dataframe tbody tr th:only-of-type {\n",
       "        vertical-align: middle;\n",
       "    }\n",
       "\n",
       "    .dataframe tbody tr th {\n",
       "        vertical-align: top;\n",
       "    }\n",
       "\n",
       "    .dataframe thead th {\n",
       "        text-align: right;\n",
       "    }\n",
       "</style>\n",
       "<table border=\"1\" class=\"dataframe\">\n",
       "  <thead>\n",
       "    <tr style=\"text-align: right;\">\n",
       "      <th></th>\n",
       "      <th>Id</th>\n",
       "      <th>Store</th>\n",
       "      <th>DayOfWeek</th>\n",
       "      <th>Date</th>\n",
       "      <th>Open</th>\n",
       "      <th>Promo</th>\n",
       "      <th>StateHoliday</th>\n",
       "      <th>SchoolHoliday</th>\n",
       "    </tr>\n",
       "  </thead>\n",
       "  <tbody>\n",
       "    <tr>\n",
       "      <th>0</th>\n",
       "      <td>1</td>\n",
       "      <td>1</td>\n",
       "      <td>4</td>\n",
       "      <td>2015-09-17</td>\n",
       "      <td>1.0</td>\n",
       "      <td>1</td>\n",
       "      <td>0</td>\n",
       "      <td>0</td>\n",
       "    </tr>\n",
       "    <tr>\n",
       "      <th>1</th>\n",
       "      <td>2</td>\n",
       "      <td>3</td>\n",
       "      <td>4</td>\n",
       "      <td>2015-09-17</td>\n",
       "      <td>1.0</td>\n",
       "      <td>1</td>\n",
       "      <td>0</td>\n",
       "      <td>0</td>\n",
       "    </tr>\n",
       "    <tr>\n",
       "      <th>2</th>\n",
       "      <td>3</td>\n",
       "      <td>7</td>\n",
       "      <td>4</td>\n",
       "      <td>2015-09-17</td>\n",
       "      <td>1.0</td>\n",
       "      <td>1</td>\n",
       "      <td>0</td>\n",
       "      <td>0</td>\n",
       "    </tr>\n",
       "    <tr>\n",
       "      <th>3</th>\n",
       "      <td>4</td>\n",
       "      <td>8</td>\n",
       "      <td>4</td>\n",
       "      <td>2015-09-17</td>\n",
       "      <td>1.0</td>\n",
       "      <td>1</td>\n",
       "      <td>0</td>\n",
       "      <td>0</td>\n",
       "    </tr>\n",
       "    <tr>\n",
       "      <th>4</th>\n",
       "      <td>5</td>\n",
       "      <td>9</td>\n",
       "      <td>4</td>\n",
       "      <td>2015-09-17</td>\n",
       "      <td>1.0</td>\n",
       "      <td>1</td>\n",
       "      <td>0</td>\n",
       "      <td>0</td>\n",
       "    </tr>\n",
       "  </tbody>\n",
       "</table>\n",
       "</div>"
      ],
      "text/plain": [
       "   Id  Store  DayOfWeek        Date  Open  Promo StateHoliday  SchoolHoliday\n",
       "0   1      1          4  2015-09-17   1.0      1            0              0\n",
       "1   2      3          4  2015-09-17   1.0      1            0              0\n",
       "2   3      7          4  2015-09-17   1.0      1            0              0\n",
       "3   4      8          4  2015-09-17   1.0      1            0              0\n",
       "4   5      9          4  2015-09-17   1.0      1            0              0"
      ]
     },
     "metadata": {},
     "output_type": "display_data"
    }
   ],
   "source": [
    "for t in tables: display(t.head())"
   ]
  },
  {
   "cell_type": "code",
   "execution_count": 12,
   "metadata": {},
   "outputs": [],
   "source": [
    "train, store, store_states, state_names, googletrend, weather, test = tables"
   ]
  },
  {
   "cell_type": "markdown",
   "metadata": {},
   "source": [
    "## Limpieza y formateo de datos"
   ]
  },
  {
   "cell_type": "code",
   "execution_count": 13,
   "metadata": {},
   "outputs": [],
   "source": [
    "#Convierto a booleanos\n",
    "train.StateHoliday = train.StateHoliday != '0'\n",
    "test.StateHoliday = test.StateHoliday != '0'"
   ]
  },
  {
   "cell_type": "code",
   "execution_count": 14,
   "metadata": {},
   "outputs": [],
   "source": [
    "#Left join (Outer joins) por eso checkeamos si tiene nulos en la nueva tabla despues de correrlo\n",
    "#Left join se queda con todas las filas de la primer tabla y mapea a los campos de la segunda tabla los que puede\n",
    "def join_df(left, right, left_on, right_on = None):\n",
    "    if right_on is None: right_on = left_on\n",
    "    return left.merge(right, how='left', left_on = left_on, right_on = right_on, suffixes = (\"\", \"_y\"))"
   ]
  },
  {
   "cell_type": "code",
   "execution_count": 15,
   "metadata": {},
   "outputs": [],
   "source": [
    "#Unimos tabla weather con state_names\n",
    "weather = join_df(weather, state_names, \"file\", \"StateName\")"
   ]
  },
  {
   "cell_type": "code",
   "execution_count": 16,
   "metadata": {},
   "outputs": [],
   "source": [
    "#Le asigna a la columna Date la primer fecha, la cual corresponde al comienzo de la semana\n",
    "googletrend['Date'] = googletrend.week.str.split(' - ', expand = True)[0]\n",
    "#Le asigna a la columna State la abreviacion del estado que escrita desoues del utimo _ en la columna 'file'\n",
    "googletrend['State'] = googletrend.file.str.split('_', expand = True)[2]\n",
    "#Cambia los valores NI de la columna State a HB,NI\n",
    "googletrend.loc[googletrend.State=='NI', \"State\"] = 'HB,NI'"
   ]
  },
  {
   "cell_type": "code",
   "execution_count": 17,
   "metadata": {},
   "outputs": [],
   "source": [
    "def add_datepart(df):\n",
    "    df.Date = pd.to_datetime(df.Date)\n",
    "    df[\"Year\"] = df.Date.dt.year\n",
    "    df[\"Month\"] = df.Date.dt.month\n",
    "    df[\"Week\"] = df.Date.dt.week\n",
    "    df[\"Day\"] = df.Date.dt.day"
   ]
  },
  {
   "cell_type": "code",
   "execution_count": 18,
   "metadata": {},
   "outputs": [
    {
     "name": "stderr",
     "output_type": "stream",
     "text": [
      "<ipython-input-17-07ed3435f455>:5: FutureWarning: Series.dt.weekofyear and Series.dt.week have been deprecated.  Please use Series.dt.isocalendar().week instead.\n",
      "  df[\"Week\"] = df.Date.dt.week\n"
     ]
    }
   ],
   "source": [
    "#Descomponemos la fecha en ano, mes, semana y dia y agregamos cada campo a la tabla\n",
    "add_datepart(weather)\n",
    "add_datepart(googletrend)\n",
    "add_datepart(train)\n",
    "add_datepart(test)"
   ]
  },
  {
   "cell_type": "code",
   "execution_count": 19,
   "metadata": {},
   "outputs": [],
   "source": [
    "#Guardamos todos los que tienen en file Rossmann_DE\n",
    "trend_de = googletrend[googletrend.file == 'Rossmann_DE']"
   ]
  },
  {
   "cell_type": "code",
   "execution_count": 20,
   "metadata": {},
   "outputs": [
    {
     "data": {
      "text/plain": [
       "0"
      ]
     },
     "execution_count": 20,
     "metadata": {},
     "output_type": "execute_result"
    }
   ],
   "source": [
    "#Al juntar las dos tablas agrega a la tabla Store el acronimo del estado \n",
    "store = join_df(store, store_states, \"Store\")\n",
    "#Cantidad de filas en tabla Store con State vacio (checqueo por el outer join)\n",
    "len(store[store.State.isnull()])"
   ]
  },
  {
   "cell_type": "code",
   "execution_count": 21,
   "metadata": {},
   "outputs": [
    {
     "data": {
      "text/plain": [
       "0"
      ]
     },
     "execution_count": 21,
     "metadata": {},
     "output_type": "execute_result"
    }
   ],
   "source": [
    "#Agrega a la tabla Train la informacion guardada en la tabla Store ya combinada (campos de Store + acronimo estado de cada tienda)\n",
    "joined = join_df(train, store, \"Store\")\n",
    "#Cantidad de filas en tabla Store con StoreType vacio\n",
    "len(joined[joined.StoreType.isnull()])"
   ]
  },
  {
   "cell_type": "code",
   "execution_count": 23,
   "metadata": {},
   "outputs": [
    {
     "data": {
      "text/plain": [
       "0"
      ]
     },
     "execution_count": 23,
     "metadata": {},
     "output_type": "execute_result"
    }
   ],
   "source": [
    "#Agrega a la tabla anterior los campos de googletrend uniendolos segun la total coincidencia de los campos state, year, week\n",
    "joined = join_df(joined, googletrend, [\"State\",\"Year\", \"Week\"])\n",
    "#Cantidad de filas en tabla resultante con trend vacio\n",
    "len(joined[joined.trend.isnull()])"
   ]
  },
  {
   "cell_type": "code",
   "execution_count": 24,
   "metadata": {},
   "outputs": [
    {
     "data": {
      "text/plain": [
       "0"
      ]
     },
     "execution_count": 24,
     "metadata": {},
     "output_type": "execute_result"
    }
   ],
   "source": [
    "#Juntamos con los de Rossmann_DE\n",
    "joined = joined.merge(trend_de, 'left', [\"Year\", \"Week\"], suffixes=('', '_DE'))\n",
    "#Cantidad de filas en tabla resultante con trend vacio\n",
    "len(joined[joined.trend_DE.isnull()])"
   ]
  },
  {
   "cell_type": "code",
   "execution_count": 25,
   "metadata": {},
   "outputs": [
    {
     "data": {
      "text/plain": [
       "0"
      ]
     },
     "execution_count": 25,
     "metadata": {},
     "output_type": "execute_result"
    }
   ],
   "source": [
    "#Juntamos con el clima en esa fecha en ese estado\n",
    "joined = join_df(joined, weather, [\"State\",\"Date\"])\n",
    "len(joined[joined.Mean_TemperatureC.isnull()])"
   ]
  },
  {
   "cell_type": "code",
   "execution_count": 26,
   "metadata": {},
   "outputs": [],
   "source": [
    "#Juntamos los de test con los de store\n",
    "#joined_test = test.merge(store, how='left', left_on = 'Store', right_index = True)\n",
    "#Cantidad de filas en tabla resultante con StoreType vacio\n",
    "#len(joined_test[joined_test.StoreType.isnull()])"
   ]
  },
  {
   "cell_type": "code",
   "execution_count": 27,
   "metadata": {},
   "outputs": [],
   "source": [
    "#Llenamos los campos de joined vacios\n",
    "joined.CompetitionOpenSinceYear = joined.CompetitionOpenSinceYear.fillna(1900).astype(np.int32)\n",
    "joined.CompetitionOpenSinceMonth = joined.CompetitionOpenSinceMonth.fillna(1).astype(np.int32)\n",
    "joined.Promo2SinceYear = joined.Promo2SinceYear.fillna(1900).astype(np.int32)\n",
    "joined.Promo2SinceWeek = joined.Promo2SinceWeek.fillna(1).astype(np.int32)\n",
    "#Llenar con 1900 y 1 no es problema porue cada vez que falta un ano falta un mes entonces cualquier modelo va a aprovechar este agrupamiento para clasificarlo y trazar la regresion sin introducir datos falsos"
   ]
  },
  {
   "cell_type": "code",
   "execution_count": 28,
   "metadata": {},
   "outputs": [],
   "source": [
    "#Agrega un campo fecha en la columna CompetitionOpenSince con ano=CompetitionOpensSinceYear, mes=CompetitionOpenSinceMonth, dia= 15 \n",
    "joined[\"CompetitionOpenSince\"] = pd.to_datetime(joined.apply(lambda x: datetime.datetime(\n",
    "    x.CompetitionOpenSinceYear, x.CompetitionOpenSinceMonth, 15), axis=1))\n",
    "#De la fecha del train le resta la de CompetitionOpenSince recien calculada y obtiene la cantidad de dias\n",
    "#Hace cuantos dias abrio la competencia al dia que se efectuo la venta\n",
    "joined[\"CompetitionDaysOpen\"] = joined.Date.subtract(joined[\"CompetitionOpenSince\"]).dt.days"
   ]
  },
  {
   "cell_type": "code",
   "execution_count": 29,
   "metadata": {},
   "outputs": [],
   "source": [
    "#Si la competencia abrio despues de la venta (dias o anos < 0) lo reemplazamos por 0 \n",
    "joined.loc[joined.CompetitionDaysOpen<0, \"CompetitionDaysOpen\"] = 0\n",
    "joined.loc[joined.CompetitionOpenSinceYear<1990, \"CompetitionDaysOpen\"] = 0"
   ]
  },
  {
   "cell_type": "code",
   "execution_count": 30,
   "metadata": {},
   "outputs": [
    {
     "data": {
      "text/plain": [
       "array([24,  3, 19,  9,  0, 16, 17,  7, 15, 22, 11, 13,  2, 23, 12,  4, 10,\n",
       "        1, 14, 20,  8, 18,  6, 21,  5], dtype=int64)"
      ]
     },
     "execution_count": 30,
     "metadata": {},
     "output_type": "execute_result"
    }
   ],
   "source": [
    "#Cantidad de meses (suponiendo 30 dias por mes) que la competencia lleva abierta (// es division entera) lo hago porque voy a usar embeddings con los meses (menos valores unicos)\n",
    "joined[\"CompetitionMonthsOpen\"] = joined[\"CompetitionDaysOpen\"]//30\n",
    "#Si la competencia lleva mas de 24 meses limitarla a 24 para que no crezca tanto el embedding (valores unicos)\n",
    "joined.loc[joined.CompetitionMonthsOpen>24, \"CompetitionMonthsOpen\"] = 24\n",
    "#Cuales son los valores unicos\n",
    "joined.CompetitionMonthsOpen.unique()"
   ]
  },
  {
   "cell_type": "code",
   "execution_count": 31,
   "metadata": {},
   "outputs": [
    {
     "data": {
      "text/plain": [
       "array([ 0, 25, 17,  8, 13, 24, 16,  7, 12, 23, 15,  6, 11, 22, 14,  5, 10,\n",
       "       21,  4,  9, 20,  3, 19,  2, 18,  1], dtype=int64)"
      ]
     },
     "execution_count": 31,
     "metadata": {},
     "output_type": "execute_result"
    }
   ],
   "source": [
    "#Idem anterior pero para Promo\n",
    "#Asigna a Promo2Since la fecha del lunes de la semana Promo2SinceWeek en el ano Promo2SinceYear\n",
    "joined[\"Promo2Since\"] = pd.to_datetime(joined.apply(lambda x: Week(\n",
    "    x.Promo2SinceYear, x.Promo2SinceWeek).monday(), axis=1))\n",
    "#Cant de dias que transcurrieron desde la promocion\n",
    "joined[\"Promo2Days\"] = joined.Date.subtract(joined[\"Promo2Since\"]).dt.days\n",
    "\n",
    "joined.loc[joined.Promo2Days<0, \"Promo2Days\"] = 0\n",
    "joined.loc[joined.Promo2SinceYear<1990, \"Promo2Days\"] = 0\n",
    "\n",
    "joined[\"Promo2Weeks\"] = joined[\"Promo2Days\"]//7\n",
    "joined.loc[joined.Promo2Weeks<0, \"Promo2Weeks\"] = 0\n",
    "joined.loc[joined.Promo2Weeks>25, \"Promo2Weeks\"] = 25\n",
    "joined.Promo2Weeks.unique()"
   ]
  },
  {
   "cell_type": "code",
   "execution_count": 32,
   "metadata": {},
   "outputs": [],
   "source": [
    "#Idem para test\n",
    "joined_test = join_df(test, store, \"Store\")\n",
    "joined_test = join_df(joined_test, googletrend, [\"State\",\"Year\", \"Week\"])\n",
    "joined_test = joined_test.merge(trend_de, 'left', [\"Year\", \"Week\"], suffixes=('', '_DE'))\n",
    "joined_test = join_df(joined_test, weather, [\"State\",\"Date\"])\n",
    "\n",
    "joined_test.CompetitionOpenSinceYear = joined_test.CompetitionOpenSinceYear.fillna(1900).astype(np.int32)\n",
    "joined_test.CompetitionOpenSinceMonth = joined_test.CompetitionOpenSinceMonth.fillna(1).astype(np.int32)\n",
    "joined_test.Promo2SinceYear = joined_test.Promo2SinceYear.fillna(1900).astype(np.int32)\n",
    "joined_test.Promo2SinceWeek = joined_test.Promo2SinceWeek.fillna(1).astype(np.int32)\n",
    "\n",
    "joined_test[\"CompetitionOpenSince\"] = pd.to_datetime(joined_test.apply(lambda x: datetime.datetime(\n",
    "    x.CompetitionOpenSinceYear, x.CompetitionOpenSinceMonth, 15), axis=1))\n",
    "joined_test[\"CompetitionDaysOpen\"] = joined_test.Date.subtract(joined_test[\"CompetitionOpenSince\"]).dt.days\n",
    "\n",
    "joined_test.loc[joined_test.CompetitionDaysOpen<0, \"CompetitionDaysOpen\"] = 0\n",
    "joined_test.loc[joined_test.CompetitionOpenSinceYear<1990, \"CompetitionDaysOpen\"] = 0\n",
    "\n",
    "joined_test[\"CompetitionMonthsOpen\"] = joined_test[\"CompetitionDaysOpen\"]//30\n",
    "joined_test.loc[joined_test.CompetitionMonthsOpen>24, \"CompetitionMonthsOpen\"] = 24\n",
    "\n",
    "joined_test[\"Promo2Since\"] = pd.to_datetime(joined_test.apply(lambda x: Week(\n",
    "    x.Promo2SinceYear, x.Promo2SinceWeek).monday(), axis=1))\n",
    "joined_test[\"Promo2Days\"] = joined_test.Date.subtract(joined_test[\"Promo2Since\"]).dt.days\n",
    "\n",
    "joined_test.loc[joined_test.Promo2Days<0, \"Promo2Days\"] = 0\n",
    "joined_test.loc[joined_test.Promo2SinceYear<1990, \"Promo2Days\"] = 0\n",
    "\n",
    "joined_test[\"Promo2Weeks\"] = joined_test[\"Promo2Days\"]//7\n",
    "joined_test.loc[joined_test.Promo2Weeks<0, \"Promo2Weeks\"] = 0\n",
    "joined_test.loc[joined_test.Promo2Weeks>25, \"Promo2Weeks\"] = 25"
   ]
  },
  {
   "cell_type": "markdown",
   "metadata": {},
   "source": [
    "## Duration"
   ]
  },
  {
   "cell_type": "markdown",
   "metadata": {},
   "source": [
    "### Feature engineering"
   ]
  },
  {
   "cell_type": "code",
   "execution_count": 33,
   "metadata": {},
   "outputs": [],
   "source": [
    "#Cada vez que hay una promocion o un feriado creo nuevos campos para esa venta de train como cuanto tiempo falta para las proximas vacaciones, las anteriores, promixa promocion, etc"
   ]
  },
  {
   "cell_type": "code",
   "execution_count": 34,
   "metadata": {},
   "outputs": [],
   "source": [
    "columns = [\"Date\", \"Store\", \"Promo\", \"StateHoliday\", \"SchoolHoliday\"]"
   ]
  },
  {
   "cell_type": "code",
   "execution_count": 35,
   "metadata": {},
   "outputs": [],
   "source": [
    "#Funcion que lleva la cuenta cuando fue la ultima vez que vi un feature (ej: state_holiday)\n",
    "class elapsed(object):\n",
    "    #Inicializacion\n",
    "    def __init__(self, fld):\n",
    "        self.fld = fld\n",
    "        self.last = pd.to_datetime(np.nan)\n",
    "        self.last_store = 0\n",
    "        \n",
    "    #Como los datos estan ordenado segun Store y luego fecha va recorriendo en sentido ascendente (o descentente) todas las ventas, y calculando por venta hace cuanto fue la ultima vez que vio ese feature (o cuando sera la proxima)\n",
    "    #al pasar a otro Store vuelve a inicializar\n",
    "    def get(self, row):\n",
    "        if row.Store != self.last_store:\n",
    "            self.last = pd.to_datetime(np.nan)\n",
    "            self.last_store = row.Store\n",
    "        if (row[self.fld]): self.last = row.Date\n",
    "        return row.Date-self.last"
   ]
  },
  {
   "cell_type": "code",
   "execution_count": 36,
   "metadata": {},
   "outputs": [],
   "source": [
    "#Tabla con las columnas especificadas arriba\n",
    "df = train[columns]"
   ]
  },
  {
   "cell_type": "code",
   "execution_count": 37,
   "metadata": {},
   "outputs": [],
   "source": [
    "#Agrega a la tabla el nuevo feature (tiempo transcurrido desde ultima vez o hasta la proxima vez)\n",
    "def add_elapsed(fld, prefix):\n",
    "    sh_el = elapsed(fld)\n",
    "    df[prefix+fld] = df.apply(sh_el.get, axis=1)"
   ]
  },
  {
   "cell_type": "code",
   "execution_count": 38,
   "metadata": {},
   "outputs": [],
   "source": [
    "fld = 'SchoolHoliday'\n",
    "df = df.sort_values(['Store', 'Date'])\n",
    "#La nueva columna se llamara 'nombre del campo'+'After'\n",
    "add_elapsed(fld, 'After')\n",
    "#Mismo pero en sentido inverso (hasta la proxima vez)\n",
    "df = df.sort_values(['Store', 'Date'], ascending=[True, False])\n",
    "add_elapsed(fld, 'Before')"
   ]
  },
  {
   "cell_type": "code",
   "execution_count": 39,
   "metadata": {},
   "outputs": [],
   "source": [
    "#Idem 2 campos mas\n",
    "fld = 'StateHoliday'\n",
    "df = df.sort_values(['Store', 'Date'])\n",
    "add_elapsed(fld, 'After')\n",
    "df = df.sort_values(['Store', 'Date'], ascending=[True, False])\n",
    "add_elapsed(fld, 'Before')"
   ]
  },
  {
   "cell_type": "code",
   "execution_count": 40,
   "metadata": {},
   "outputs": [],
   "source": [
    "fld = 'Promo'\n",
    "df = df.sort_values(['Store', 'Date'])\n",
    "add_elapsed(fld, 'After')\n",
    "df = df.sort_values(['Store', 'Date'], ascending=[True, False])\n",
    "add_elapsed(fld, 'Before')"
   ]
  },
  {
   "cell_type": "code",
   "execution_count": 41,
   "metadata": {},
   "outputs": [],
   "source": [
    "#Indexa por date (mas rapido)\n",
    "df = df.set_index(\"Date\")"
   ]
  },
  {
   "cell_type": "code",
   "execution_count": 42,
   "metadata": {},
   "outputs": [],
   "source": [
    "columns = ['SchoolHoliday', 'StateHoliday', 'Promo']"
   ]
  },
  {
   "cell_type": "code",
   "execution_count": 43,
   "metadata": {},
   "outputs": [],
   "source": [
    "#Rellena los valores nulos con 0s\n",
    "for o in ['Before', 'After']:\n",
    "    for p in columns:\n",
    "        a = o+p\n",
    "        df[a] = df[a].fillna(pd.Timedelta(0)).dt.days"
   ]
  },
  {
   "cell_type": "code",
   "execution_count": 44,
   "metadata": {},
   "outputs": [],
   "source": [
    "#Calcula el numero de feriados o promociones que hay en una semana (suma para 7 dias anteriores) avanzando dia por dia por tienda y los vuelca en una tabla\n",
    "bwd = df[['Store']+columns].sort_index().groupby(\"Store\").rolling(7, min_periods=1).sum()"
   ]
  },
  {
   "cell_type": "code",
   "execution_count": null,
   "metadata": {},
   "outputs": [],
   "source": [
    "#El resultado de aplicar rolling a Store no tiene mucho sentido se lo utiliza para agrupar\n",
    "bwd"
   ]
  },
  {
   "cell_type": "code",
   "execution_count": 45,
   "metadata": {},
   "outputs": [],
   "source": [
    "#Lo mismo pero para la semana siguiente en vez de la anterior (suma 7 dias futuros)\n",
    "fwd = df[['Store']+columns].sort_index(ascending=False\n",
    "                                      ).groupby(\"Store\").rolling(7, min_periods=1).sum()"
   ]
  },
  {
   "cell_type": "code",
   "execution_count": 46,
   "metadata": {},
   "outputs": [],
   "source": [
    "#Borramos la columna Store"
   ]
  },
  {
   "cell_type": "code",
   "execution_count": 47,
   "metadata": {},
   "outputs": [],
   "source": [
    "bwd.drop('Store',1,inplace=True)\n",
    "bwd.reset_index(inplace=True)"
   ]
  },
  {
   "cell_type": "code",
   "execution_count": 48,
   "metadata": {},
   "outputs": [],
   "source": [
    "fwd.drop('Store',1,inplace=True)\n",
    "fwd.reset_index(inplace=True)"
   ]
  },
  {
   "cell_type": "code",
   "execution_count": 49,
   "metadata": {},
   "outputs": [],
   "source": [
    "df.reset_index(inplace=True)"
   ]
  },
  {
   "cell_type": "code",
   "execution_count": 50,
   "metadata": {},
   "outputs": [],
   "source": [
    "#Combinamos estas tablas con la de df que habiamos armado con las series de tiempo\n",
    "#para juntarlas tienen que coincidir fecha y Store\n",
    "df = df.merge(bwd, 'left', ['Date', 'Store'], suffixes=['', '_bw'])\n",
    "df = df.merge(fwd, 'left', ['Date', 'Store'], suffixes=['', '_fw'])"
   ]
  },
  {
   "cell_type": "code",
   "execution_count": 51,
   "metadata": {},
   "outputs": [],
   "source": [
    "#Eliminamos las columnas porque estan repetidas\n",
    "df.drop(columns,1,inplace=True)"
   ]
  },
  {
   "cell_type": "code",
   "execution_count": 52,
   "metadata": {},
   "outputs": [],
   "source": [
    "#Guardamos la tabla en un archivo csv\n",
    "#df.to_csv('df.csv')"
   ]
  },
  {
   "cell_type": "code",
   "execution_count": 53,
   "metadata": {},
   "outputs": [
    {
     "name": "stderr",
     "output_type": "stream",
     "text": [
      "C:\\Users\\Patricio\\anaconda3\\envs\\curso\\lib\\site-packages\\numpy\\lib\\arraysetops.py:580: FutureWarning: elementwise comparison failed; returning scalar instead, but in the future will perform elementwise comparison\n",
      "  mask |= (ar1 == a)\n"
     ]
    }
   ],
   "source": [
    "#Cargamos la tabla del archivo\n",
    "#df = pd.read_csv('df.csv', index_col=0)"
   ]
  },
  {
   "cell_type": "code",
   "execution_count": 54,
   "metadata": {},
   "outputs": [],
   "source": [
    "df[\"Date\"] = pd.to_datetime(df.Date)"
   ]
  },
  {
   "cell_type": "code",
   "execution_count": 55,
   "metadata": {},
   "outputs": [],
   "source": [
    "joined = join_df(joined, df, ['Store', 'Date'])"
   ]
  },
  {
   "cell_type": "code",
   "execution_count": 56,
   "metadata": {},
   "outputs": [],
   "source": [
    "#Guardamos la tabla en un archivo csv\n",
    "joined.to_csv('joined.csv')"
   ]
  },
  {
   "cell_type": "code",
   "execution_count": 57,
   "metadata": {},
   "outputs": [],
   "source": [
    "#Cargamos la tabla del archivo\n",
    "joined = pd.read_csv('joined.csv', index_col=0)\n",
    "joined[\"Date\"] = pd.to_datetime(joined.Date)"
   ]
  },
  {
   "cell_type": "code",
   "execution_count": 58,
   "metadata": {},
   "outputs": [],
   "source": [
    "#Idem test\n",
    "def add_elapsed_to_test(fld, prefix):\n",
    "    sh_el = elapsed(fld)\n",
    "    df_test[prefix+fld] = df_test.apply(sh_el.get, axis=1)\n",
    "\n",
    "columns = [\"Date\", \"Store\", \"Promo\", \"StateHoliday\", \"SchoolHoliday\"]\n",
    "df_test = test[columns]\n",
    "\n",
    "fld = 'SchoolHoliday'\n",
    "df_test = df_test.sort_values(['Store', 'Date'])\n",
    "add_elapsed_to_test(fld, 'After')\n",
    "df_test = df_test.sort_values(['Store', 'Date'], ascending=[True, False])\n",
    "add_elapsed_to_test(fld, 'Before')\n",
    "\n",
    "fld = 'StateHoliday'\n",
    "df_test = df_test.sort_values(['Store', 'Date'])\n",
    "add_elapsed_to_test(fld, 'After')\n",
    "df_test = df_test.sort_values(['Store', 'Date'], ascending=[True, False])\n",
    "add_elapsed_to_test(fld, 'Before')\n",
    "\n",
    "fld = 'Promo'\n",
    "df_test = df_test.sort_values(['Store', 'Date'])\n",
    "add_elapsed_to_test(fld, 'After')\n",
    "df_test = df_test.sort_values(['Store', 'Date'], ascending=[True, False])\n",
    "add_elapsed_to_test(fld, 'Before')\n",
    "\n",
    "df_test = df_test.set_index(\"Date\")\n",
    "\n",
    "columns = ['SchoolHoliday', 'StateHoliday', 'Promo']\n",
    "\n",
    "for o in ['Before', 'After']:\n",
    "    for p in columns:\n",
    "        a = o+p\n",
    "        df_test[a] = df_test[a].fillna(pd.Timedelta(0)).dt.days\n",
    "        \n",
    "bwd_test = df_test[['Store']+columns].sort_index().groupby(\"Store\").rolling(7, min_periods=1).sum()\n",
    "fwd_test = df_test[['Store']+columns].sort_index(ascending=False\n",
    "                                      ).groupby(\"Store\").rolling(7, min_periods=1).sum()\n",
    "\n",
    "bwd_test.drop('Store',1,inplace=True)\n",
    "bwd_test.reset_index(inplace=True)\n",
    "\n",
    "fwd_test.drop('Store',1,inplace=True)\n",
    "fwd_test.reset_index(inplace=True)\n",
    "\n",
    "df_test.reset_index(inplace=True)\n",
    "\n",
    "df_test = df_test.merge(bwd_test, 'left', ['Date', 'Store'], suffixes=['', '_bw'])\n",
    "df_test = df_test.merge(fwd_test, 'left', ['Date', 'Store'], suffixes=['', '_fw'])\n",
    "\n",
    "df_test.drop(columns,1,inplace=True)\n",
    "\n",
    "df_test[\"Date\"] = pd.to_datetime(df_test.Date)\n",
    "\n",
    "joined_test = join_df(joined_test, df_test, ['Store', 'Date'])\n",
    "joined_test[\"Date\"] = pd.to_datetime(joined_test.Date)"
   ]
  },
  {
   "cell_type": "markdown",
   "metadata": {},
   "source": [
    "## Creamos los features con los que vamos a entrar al modelo"
   ]
  },
  {
   "cell_type": "code",
   "execution_count": 59,
   "metadata": {},
   "outputs": [],
   "source": [
    "from sklearn_pandas import DataFrameMapper\n",
    "from sklearn.preprocessing import LabelEncoder, StandardScaler\n",
    "from sklearn.impute import SimpleImputer"
   ]
  },
  {
   "cell_type": "code",
   "execution_count": 60,
   "metadata": {},
   "outputs": [],
   "source": [
    "#Defino la dimensionalidad de los embeddings para cada variable categorica\n",
    "cat_var_dict = {'Store': 50, 'DayOfWeek': 6, 'Year': 2, 'Month': 6,\n",
    "'Day': 10, 'StateHoliday': 3, 'CompetitionMonthsOpen': 2,\n",
    "'Promo2Weeks': 1, 'StoreType': 2, 'Assortment': 3, 'PromoInterval': 3,\n",
    "'CompetitionOpenSinceYear': 4, 'Promo2SinceYear': 4, 'State': 6,\n",
    "'Week': 2, 'Events': 4, 'Promo_fw': 1,\n",
    "'Promo_bw': 1, 'StateHoliday_fw': 1,\n",
    "'StateHoliday_bw': 1, 'SchoolHoliday_fw': 1,\n",
    "'SchoolHoliday_bw': 1}"
   ]
  },
  {
   "cell_type": "code",
   "execution_count": 61,
   "metadata": {},
   "outputs": [],
   "source": [
    "#Obtiene la key del diccionario ordenado segun los values en orden descendente y las guarda en cat_vars\n",
    "cat_vars = [o[0] for o in \n",
    "            sorted(cat_var_dict.items(), key=operator.itemgetter(1), reverse=True)]"
   ]
  },
  {
   "cell_type": "code",
   "execution_count": 62,
   "metadata": {},
   "outputs": [
    {
     "data": {
      "text/plain": [
       "['Store',\n",
       " 'Day',\n",
       " 'DayOfWeek',\n",
       " 'Month',\n",
       " 'State',\n",
       " 'CompetitionOpenSinceYear',\n",
       " 'Promo2SinceYear',\n",
       " 'Events',\n",
       " 'StateHoliday',\n",
       " 'Assortment',\n",
       " 'PromoInterval',\n",
       " 'Year',\n",
       " 'CompetitionMonthsOpen',\n",
       " 'StoreType',\n",
       " 'Week',\n",
       " 'Promo2Weeks',\n",
       " 'Promo_fw',\n",
       " 'Promo_bw',\n",
       " 'StateHoliday_fw',\n",
       " 'StateHoliday_bw',\n",
       " 'SchoolHoliday_fw',\n",
       " 'SchoolHoliday_bw']"
      ]
     },
     "execution_count": 62,
     "metadata": {},
     "output_type": "execute_result"
    }
   ],
   "source": [
    "cat_vars"
   ]
  },
  {
   "cell_type": "code",
   "execution_count": 63,
   "metadata": {},
   "outputs": [],
   "source": [
    "#Lista de variables continuas\n",
    "contin_vars = ['CompetitionDistance', \n",
    "   'Max_TemperatureC', 'Mean_TemperatureC', 'Min_TemperatureC',\n",
    "   'Max_Humidity', 'Mean_Humidity', 'Min_Humidity', 'Max_Wind_SpeedKm_h', \n",
    "   'Mean_Wind_SpeedKm_h', 'CloudCover', 'trend', 'trend_DE',\n",
    "   'AfterStateHoliday', 'BeforeStateHoliday', 'Promo', 'SchoolHoliday']"
   ]
  },
  {
   "cell_type": "code",
   "execution_count": 64,
   "metadata": {},
   "outputs": [],
   "source": [
    "#Reemplaza los nulls en los campos de la tabla joined con 0s para las variables continuas y con espacios vacios para las categoricas\n",
    "for v in contin_vars: joined.loc[joined[v].isnull(), v] = 0\n",
    "for v in cat_vars: joined.loc[joined[v].isnull(), v] = \"\""
   ]
  },
  {
   "cell_type": "code",
   "execution_count": 65,
   "metadata": {},
   "outputs": [],
   "source": [
    "#Idem test\n",
    "for v in contin_vars: joined_test.loc[joined_test[v].isnull(), v] = 0\n",
    "for v in cat_vars: joined_test.loc[joined_test[v].isnull(), v] = \"\""
   ]
  },
  {
   "cell_type": "markdown",
   "metadata": {},
   "source": [
    "#### DataFrame mapper"
   ]
  },
  {
   "cell_type": "code",
   "execution_count": 66,
   "metadata": {},
   "outputs": [],
   "source": [
    "#Tuplas donde el primer elemento es el nombre de la variable categorica y el segundo elemento es una instancia de la clase que hara el preprocesamiento para esa variable\n",
    "#Labelencoder analiza los valores unicos de la variable y los reemplaza con un set de enteros contiguos(ej: lunes a domingo->0 a 7)\n",
    "#El set de training y el de test tienen que tener la misma condificacion para las variables ej: domingo tiene que ser 6 en los dos. Por eso el objeto va a llevar la cuenta de que codificacion esta usando, lo guarda en el objeto \n",
    "cat_maps = [(o, LabelEncoder()) for o in cat_vars]\n",
    "#Normaliza las variables continuas\n",
    "#Tambien se debe respetar la misma media y desvio estandard para el set de test, por eso se guarda en el objeto\n",
    "contin_maps = [([o], StandardScaler()) for o in contin_vars]"
   ]
  },
  {
   "cell_type": "code",
   "execution_count": 67,
   "metadata": {},
   "outputs": [
    {
     "data": {
      "text/plain": [
       "22"
      ]
     },
     "execution_count": 67,
     "metadata": {},
     "output_type": "execute_result"
    }
   ],
   "source": [
    "#Contiene los features preprocesados, se le aplica la funcion de arriba (valores que se van a usar para embeddings)\n",
    "cat_mapper = DataFrameMapper(cat_maps)\n",
    "cat_map_fit = cat_mapper.fit(joined)\n",
    "cat_cols = len(cat_map_fit.features)\n",
    "cat_cols"
   ]
  },
  {
   "cell_type": "code",
   "execution_count": 68,
   "metadata": {},
   "outputs": [
    {
     "data": {
      "text/plain": [
       "16"
      ]
     },
     "execution_count": 68,
     "metadata": {},
     "output_type": "execute_result"
    }
   ],
   "source": [
    "#Mismo para las variables continuas\n",
    "contin_mapper = DataFrameMapper(contin_maps)\n",
    "contin_map_fit = contin_mapper.fit(joined)\n",
    "contin_cols = len(contin_map_fit.features)\n",
    "contin_cols"
   ]
  },
  {
   "cell_type": "code",
   "execution_count": 69,
   "metadata": {},
   "outputs": [
    {
     "data": {
      "text/plain": [
       "(array([ 0, 30,  4,  6,  4]),\n",
       " array([-0.53772351,  1.02444552,  0.81863226,  0.32504749,  0.61112004]))"
      ]
     },
     "execution_count": 69,
     "metadata": {},
     "output_type": "execute_result"
    }
   ],
   "source": [
    "cat_map_fit.transform(joined)[0,:5], contin_map_fit.transform(joined)[0,:5]"
   ]
  },
  {
   "cell_type": "code",
   "execution_count": 70,
   "metadata": {},
   "outputs": [],
   "source": [
    "#Guarda los encodings y los parametro de scaling\n",
    "pickle.dump(contin_map_fit, open('contin_maps.pickle', 'wb'))\n",
    "pickle.dump(cat_map_fit, open('cat_maps.pickle', 'wb'))"
   ]
  },
  {
   "cell_type": "code",
   "execution_count": 71,
   "metadata": {},
   "outputs": [
    {
     "data": {
      "text/plain": [
       "[1115, 31, 7, 12, 12, 23, 8, 22, 2, 3, 4, 3, 25, 4, 52, 26, 6, 6, 3, 3, 8, 8]"
      ]
     },
     "execution_count": 71,
     "metadata": {},
     "output_type": "execute_result"
    }
   ],
   "source": [
    "#Muestra la cantidad de variables unicas para las variables categoricas\n",
    "[len(o[1].classes_) for o in cat_map_fit.features]"
   ]
  },
  {
   "cell_type": "markdown",
   "metadata": {},
   "source": [
    "## Sample data"
   ]
  },
  {
   "cell_type": "code",
   "execution_count": 72,
   "metadata": {},
   "outputs": [],
   "source": [
    "#Descarto las que no tienen ventas (esto no es recomendable)\n",
    "joined_sales = joined[joined.Sales!=0]\n",
    "#Cant de filas\n",
    "n = len(joined_sales)"
   ]
  },
  {
   "cell_type": "code",
   "execution_count": 73,
   "metadata": {},
   "outputs": [],
   "source": [
    "#Muestreo aleatorio\n",
    "samp_size = 100000\n",
    "np.random.seed(42)\n",
    "idxs = sorted(np.random.choice(n, samp_size, replace=False))"
   ]
  },
  {
   "cell_type": "code",
   "execution_count": 74,
   "metadata": {},
   "outputs": [],
   "source": [
    "joined_samp = joined_sales.iloc[idxs].set_index(\"Date\")"
   ]
  },
  {
   "cell_type": "code",
   "execution_count": 75,
   "metadata": {},
   "outputs": [],
   "source": [
    "samp_size = n\n",
    "joined_samp = joined_sales.set_index(\"Date\")"
   ]
  },
  {
   "cell_type": "code",
   "execution_count": 76,
   "metadata": {},
   "outputs": [],
   "source": [
    "#Porcentaje de train-validacion\n",
    "train_ratio = 0.9\n",
    "train_size = int(samp_size * train_ratio)"
   ]
  },
  {
   "cell_type": "code",
   "execution_count": 77,
   "metadata": {},
   "outputs": [
    {
     "data": {
      "text/plain": [
       "(84434, 759904)"
      ]
     },
     "execution_count": 77,
     "metadata": {},
     "output_type": "execute_result"
    }
   ],
   "source": [
    "#El test set en un timeseries va a tener los datos mas recientes\n",
    "#Ya estan ordenados por fecha\n",
    "joined_valid = joined_samp[train_size:]\n",
    "joined_train = joined_samp[:train_size]\n",
    "len(joined_valid), len(joined_train)"
   ]
  },
  {
   "cell_type": "code",
   "execution_count": 78,
   "metadata": {},
   "outputs": [],
   "source": [
    "#Efectua la operacion del dataFrame\n",
    "#El cat_map_fir fue fitteado con los datos de train y validacion por lo tanto no habran valores extranos en validacion para las var cat\n",
    "def cat_preproc(dat):\n",
    "    return cat_map_fit.transform(dat).astype(np.int64)"
   ]
  },
  {
   "cell_type": "code",
   "execution_count": 79,
   "metadata": {},
   "outputs": [],
   "source": [
    "cat_map_train = cat_preproc(joined_train)\n",
    "cat_map_valid = cat_preproc(joined_valid)"
   ]
  },
  {
   "cell_type": "code",
   "execution_count": 81,
   "metadata": {},
   "outputs": [],
   "source": [
    "#Idem test\n",
    "cat_map_test = cat_preproc(joined_test)"
   ]
  },
  {
   "cell_type": "code",
   "execution_count": 82,
   "metadata": {},
   "outputs": [],
   "source": [
    "def contin_preproc(dat):\n",
    "    return contin_map_fit.transform(dat).astype(np.float32)"
   ]
  },
  {
   "cell_type": "code",
   "execution_count": 83,
   "metadata": {},
   "outputs": [],
   "source": [
    "contin_map_train = contin_preproc(joined_train)\n",
    "contin_map_valid = contin_preproc(joined_valid)"
   ]
  },
  {
   "cell_type": "code",
   "execution_count": 84,
   "metadata": {},
   "outputs": [],
   "source": [
    "#Idem test\n",
    "contin_map_test = contin_preproc(joined_test)"
   ]
  },
  {
   "cell_type": "code",
   "execution_count": 85,
   "metadata": {},
   "outputs": [],
   "source": [
    "y_train_orig = joined_train.Sales\n",
    "y_valid_orig = joined_valid.Sales"
   ]
  },
  {
   "cell_type": "code",
   "execution_count": 86,
   "metadata": {},
   "outputs": [],
   "source": [
    "#Modificamos los targets (ventas) tal que:\n",
    "max_log_y = np.max(np.log(joined_samp.Sales))\n",
    "y_train = np.log(y_train_orig)/max_log_y\n",
    "y_valid = np.log(y_valid_orig)/max_log_y\n",
    "#Los valores de y no superan 1, acorta la 'cola' es decir la distribucion de ventas no va a estar tan separada\n",
    "#Permite usar una sigmoidea como funcion de activacion y multiplicarla por el max_log_y (pero en realidad esta tecnica no contribuye mucho)"
   ]
  },
  {
   "cell_type": "code",
   "execution_count": 87,
   "metadata": {},
   "outputs": [],
   "source": [
    "#Implementamos la loss\n",
    "def rmspe(y_pred, targ = y_valid_orig):\n",
    "    pct_var = (targ - y_pred)/targ\n",
    "    return math.sqrt(np.square(pct_var).mean())"
   ]
  },
  {
   "cell_type": "code",
   "execution_count": 88,
   "metadata": {},
   "outputs": [],
   "source": [
    "def log_max_inv(preds, mx = max_log_y):\n",
    "    return np.exp(preds * mx)"
   ]
  },
  {
   "cell_type": "code",
   "execution_count": 89,
   "metadata": {},
   "outputs": [],
   "source": [
    "def normalize_inv(preds):\n",
    "    return preds * ystd + ymean"
   ]
  },
  {
   "cell_type": "markdown",
   "metadata": {},
   "source": [
    "## Creacion de modelos"
   ]
  },
  {
   "cell_type": "code",
   "execution_count": 90,
   "metadata": {},
   "outputs": [],
   "source": [
    "def split_cols(arr): return np.hsplit(arr,arr.shape[1])"
   ]
  },
  {
   "cell_type": "code",
   "execution_count": 91,
   "metadata": {},
   "outputs": [],
   "source": [
    "map_train = split_cols(cat_map_train) + [contin_map_train]\n",
    "map_valid = split_cols(cat_map_valid) + [contin_map_valid]"
   ]
  },
  {
   "cell_type": "code",
   "execution_count": 92,
   "metadata": {},
   "outputs": [],
   "source": [
    "map_test = split_cols(cat_map_test) + [contin_map_test]"
   ]
  },
  {
   "cell_type": "code",
   "execution_count": 93,
   "metadata": {},
   "outputs": [],
   "source": [
    "#map_train = split_cols(cat_map_train) + split_cols(contin_map_train)\n",
    "#map_valid = split_cols(cat_map_valid) + split_cols(contin_map_valid)"
   ]
  },
  {
   "cell_type": "code",
   "execution_count": 94,
   "metadata": {},
   "outputs": [],
   "source": [
    "def cat_map_info(feat): return feat[0], len(feat[1].classes_)"
   ]
  },
  {
   "cell_type": "code",
   "execution_count": 95,
   "metadata": {},
   "outputs": [
    {
     "data": {
      "text/plain": [
       "('Day', 31)"
      ]
     },
     "execution_count": 95,
     "metadata": {},
     "output_type": "execute_result"
    }
   ],
   "source": [
    "cat_map_info(cat_map_fit.features[1])"
   ]
  },
  {
   "cell_type": "code",
   "execution_count": 96,
   "metadata": {},
   "outputs": [],
   "source": [
    "def my_init(scale):\n",
    "    return lambda shape, name=None: initializations.uniform(shape, scale=scale, name=name)"
   ]
  },
  {
   "cell_type": "code",
   "execution_count": 97,
   "metadata": {},
   "outputs": [],
   "source": [
    "#Inicializa los pesos de los embeddings usando una distribucion uniforme \n",
    "def emb_init(shape, name=None): \n",
    "    #return initializations.uniform(shape, scale = 2/(shape[1]+1), name=name)\n",
    "    return initializations.uniform()"
   ]
  },
  {
   "cell_type": "code",
   "execution_count": 98,
   "metadata": {},
   "outputs": [],
   "source": [
    "#Genera los embeddings definiendo la dimension del embedding\n",
    "def get_emb(feat):\n",
    "    name, c = cat_map_info(feat)\n",
    "    #se podria usar en cambio cat_var_dict[name]\n",
    "    #Se fija en la cantidad de valores unicos para calcularla\n",
    "    c2 = (c+1)//2\n",
    "    if c2>50: c2=50\n",
    "    #Crea capa de entrada convencional\n",
    "    inp = Input(shape = (1,), dtype='int64', name=name+'_in')\n",
    "    #El flatten lo pone en un formato aceptable para la NN\n",
    "    u = Flatten(name=name+'_flt')(Embedding(c, c2, input_length=1)(inp))\n",
    "    return inp,u"
   ]
  },
  {
   "cell_type": "code",
   "execution_count": 99,
   "metadata": {},
   "outputs": [],
   "source": [
    "def get_contin(feat):\n",
    "    name = feat[0][0]\n",
    "    inp = Input((1,), name=name+'_in')\n",
    "    return inp, Dense(1, name=name+'_d', kernel_initializer=my_init(1.))(inp)"
   ]
  },
  {
   "cell_type": "code",
   "execution_count": 100,
   "metadata": {},
   "outputs": [],
   "source": [
    "from keras.layers import Input, Dense, Flatten, Embedding, merge, Dropout\n",
    "from keras import initializers as initializations\n",
    "from keras.models import Model"
   ]
  },
  {
   "cell_type": "code",
   "execution_count": 101,
   "metadata": {},
   "outputs": [],
   "source": [
    "#contin_inp = Input((contin_cols,), name='contin')\n",
    "contin_inp = Input((16,), name='contin')\n",
    "contin_out = Dense(contin_cols*10, activation='relu', name='contin_d')(contin_inp)"
   ]
  },
  {
   "cell_type": "code",
   "execution_count": 102,
   "metadata": {},
   "outputs": [],
   "source": [
    "embs = [get_emb(feat) for feat in cat_map_fit.features]\n",
    "#Combina los embeding con las variables continuas, esto va a ser la proxima entrada\n",
    "x = keras.layers.concatenate([emb for inp,emb in embs] + [contin_out])\n",
    "x = Dropout(0.02)(x)\n",
    "x = Dense(1000, activation='relu', kernel_initializer='uniform')(x)\n",
    "x = Dense(500, activation='relu', kernel_initializer='uniform')(x)\n",
    "x = Dropout(0.2)(x)\n",
    "x = Dense(1, activation='sigmoid')(x)\n",
    "\n",
    "model = Model([inp for inp,emb in embs] + [contin_inp], x)\n",
    "# model.compile(optimizer = \"adam\", loss = 'mean_squared_error')\n",
    "model.compile(optimizer = \"adam\", loss = 'mean_absolute_error')"
   ]
  },
  {
   "cell_type": "code",
   "execution_count": 103,
   "metadata": {},
   "outputs": [
    {
     "name": "stdout",
     "output_type": "stream",
     "text": [
      "Model: \"functional_1\"\n",
      "__________________________________________________________________________________________________\n",
      "Layer (type)                    Output Shape         Param #     Connected to                     \n",
      "==================================================================================================\n",
      "Store_in (InputLayer)           [(None, 1)]          0                                            \n",
      "__________________________________________________________________________________________________\n",
      "Day_in (InputLayer)             [(None, 1)]          0                                            \n",
      "__________________________________________________________________________________________________\n",
      "DayOfWeek_in (InputLayer)       [(None, 1)]          0                                            \n",
      "__________________________________________________________________________________________________\n",
      "Month_in (InputLayer)           [(None, 1)]          0                                            \n",
      "__________________________________________________________________________________________________\n",
      "State_in (InputLayer)           [(None, 1)]          0                                            \n",
      "__________________________________________________________________________________________________\n",
      "CompetitionOpenSinceYear_in (In [(None, 1)]          0                                            \n",
      "__________________________________________________________________________________________________\n",
      "Promo2SinceYear_in (InputLayer) [(None, 1)]          0                                            \n",
      "__________________________________________________________________________________________________\n",
      "Events_in (InputLayer)          [(None, 1)]          0                                            \n",
      "__________________________________________________________________________________________________\n",
      "StateHoliday_in (InputLayer)    [(None, 1)]          0                                            \n",
      "__________________________________________________________________________________________________\n",
      "Assortment_in (InputLayer)      [(None, 1)]          0                                            \n",
      "__________________________________________________________________________________________________\n",
      "PromoInterval_in (InputLayer)   [(None, 1)]          0                                            \n",
      "__________________________________________________________________________________________________\n",
      "Year_in (InputLayer)            [(None, 1)]          0                                            \n",
      "__________________________________________________________________________________________________\n",
      "CompetitionMonthsOpen_in (Input [(None, 1)]          0                                            \n",
      "__________________________________________________________________________________________________\n",
      "StoreType_in (InputLayer)       [(None, 1)]          0                                            \n",
      "__________________________________________________________________________________________________\n",
      "Week_in (InputLayer)            [(None, 1)]          0                                            \n",
      "__________________________________________________________________________________________________\n",
      "Promo2Weeks_in (InputLayer)     [(None, 1)]          0                                            \n",
      "__________________________________________________________________________________________________\n",
      "Promo_fw_in (InputLayer)        [(None, 1)]          0                                            \n",
      "__________________________________________________________________________________________________\n",
      "Promo_bw_in (InputLayer)        [(None, 1)]          0                                            \n",
      "__________________________________________________________________________________________________\n",
      "StateHoliday_fw_in (InputLayer) [(None, 1)]          0                                            \n",
      "__________________________________________________________________________________________________\n",
      "StateHoliday_bw_in (InputLayer) [(None, 1)]          0                                            \n",
      "__________________________________________________________________________________________________\n",
      "SchoolHoliday_fw_in (InputLayer [(None, 1)]          0                                            \n",
      "__________________________________________________________________________________________________\n",
      "SchoolHoliday_bw_in (InputLayer [(None, 1)]          0                                            \n",
      "__________________________________________________________________________________________________\n",
      "embedding (Embedding)           (None, 1, 50)        55750       Store_in[0][0]                   \n",
      "__________________________________________________________________________________________________\n",
      "embedding_1 (Embedding)         (None, 1, 16)        496         Day_in[0][0]                     \n",
      "__________________________________________________________________________________________________\n",
      "embedding_2 (Embedding)         (None, 1, 4)         28          DayOfWeek_in[0][0]               \n",
      "__________________________________________________________________________________________________\n",
      "embedding_3 (Embedding)         (None, 1, 6)         72          Month_in[0][0]                   \n",
      "__________________________________________________________________________________________________\n",
      "embedding_4 (Embedding)         (None, 1, 6)         72          State_in[0][0]                   \n",
      "__________________________________________________________________________________________________\n",
      "embedding_5 (Embedding)         (None, 1, 12)        276         CompetitionOpenSinceYear_in[0][0]\n",
      "__________________________________________________________________________________________________\n",
      "embedding_6 (Embedding)         (None, 1, 4)         32          Promo2SinceYear_in[0][0]         \n",
      "__________________________________________________________________________________________________\n",
      "embedding_7 (Embedding)         (None, 1, 11)        242         Events_in[0][0]                  \n",
      "__________________________________________________________________________________________________\n",
      "embedding_8 (Embedding)         (None, 1, 1)         2           StateHoliday_in[0][0]            \n",
      "__________________________________________________________________________________________________\n",
      "embedding_9 (Embedding)         (None, 1, 2)         6           Assortment_in[0][0]              \n",
      "__________________________________________________________________________________________________\n",
      "embedding_10 (Embedding)        (None, 1, 2)         8           PromoInterval_in[0][0]           \n",
      "__________________________________________________________________________________________________\n",
      "embedding_11 (Embedding)        (None, 1, 2)         6           Year_in[0][0]                    \n",
      "__________________________________________________________________________________________________\n",
      "embedding_12 (Embedding)        (None, 1, 13)        325         CompetitionMonthsOpen_in[0][0]   \n",
      "__________________________________________________________________________________________________\n",
      "embedding_13 (Embedding)        (None, 1, 2)         8           StoreType_in[0][0]               \n",
      "__________________________________________________________________________________________________\n",
      "embedding_14 (Embedding)        (None, 1, 26)        1352        Week_in[0][0]                    \n",
      "__________________________________________________________________________________________________\n",
      "embedding_15 (Embedding)        (None, 1, 13)        338         Promo2Weeks_in[0][0]             \n",
      "__________________________________________________________________________________________________\n",
      "embedding_16 (Embedding)        (None, 1, 3)         18          Promo_fw_in[0][0]                \n",
      "__________________________________________________________________________________________________\n",
      "embedding_17 (Embedding)        (None, 1, 3)         18          Promo_bw_in[0][0]                \n",
      "__________________________________________________________________________________________________\n",
      "embedding_18 (Embedding)        (None, 1, 2)         6           StateHoliday_fw_in[0][0]         \n",
      "__________________________________________________________________________________________________\n",
      "embedding_19 (Embedding)        (None, 1, 2)         6           StateHoliday_bw_in[0][0]         \n",
      "__________________________________________________________________________________________________\n",
      "embedding_20 (Embedding)        (None, 1, 4)         32          SchoolHoliday_fw_in[0][0]        \n",
      "__________________________________________________________________________________________________\n",
      "embedding_21 (Embedding)        (None, 1, 4)         32          SchoolHoliday_bw_in[0][0]        \n",
      "__________________________________________________________________________________________________\n",
      "contin (InputLayer)             [(None, 16)]         0                                            \n",
      "__________________________________________________________________________________________________\n",
      "Store_flt (Flatten)             (None, 50)           0           embedding[0][0]                  \n",
      "__________________________________________________________________________________________________\n",
      "Day_flt (Flatten)               (None, 16)           0           embedding_1[0][0]                \n",
      "__________________________________________________________________________________________________\n",
      "DayOfWeek_flt (Flatten)         (None, 4)            0           embedding_2[0][0]                \n",
      "__________________________________________________________________________________________________\n",
      "Month_flt (Flatten)             (None, 6)            0           embedding_3[0][0]                \n",
      "__________________________________________________________________________________________________\n",
      "State_flt (Flatten)             (None, 6)            0           embedding_4[0][0]                \n",
      "__________________________________________________________________________________________________\n",
      "CompetitionOpenSinceYear_flt (F (None, 12)           0           embedding_5[0][0]                \n",
      "__________________________________________________________________________________________________\n",
      "Promo2SinceYear_flt (Flatten)   (None, 4)            0           embedding_6[0][0]                \n",
      "__________________________________________________________________________________________________\n",
      "Events_flt (Flatten)            (None, 11)           0           embedding_7[0][0]                \n",
      "__________________________________________________________________________________________________\n",
      "StateHoliday_flt (Flatten)      (None, 1)            0           embedding_8[0][0]                \n",
      "__________________________________________________________________________________________________\n",
      "Assortment_flt (Flatten)        (None, 2)            0           embedding_9[0][0]                \n",
      "__________________________________________________________________________________________________\n",
      "PromoInterval_flt (Flatten)     (None, 2)            0           embedding_10[0][0]               \n",
      "__________________________________________________________________________________________________\n",
      "Year_flt (Flatten)              (None, 2)            0           embedding_11[0][0]               \n",
      "__________________________________________________________________________________________________\n",
      "CompetitionMonthsOpen_flt (Flat (None, 13)           0           embedding_12[0][0]               \n",
      "__________________________________________________________________________________________________\n",
      "StoreType_flt (Flatten)         (None, 2)            0           embedding_13[0][0]               \n",
      "__________________________________________________________________________________________________\n",
      "Week_flt (Flatten)              (None, 26)           0           embedding_14[0][0]               \n",
      "__________________________________________________________________________________________________\n",
      "Promo2Weeks_flt (Flatten)       (None, 13)           0           embedding_15[0][0]               \n",
      "__________________________________________________________________________________________________\n",
      "Promo_fw_flt (Flatten)          (None, 3)            0           embedding_16[0][0]               \n",
      "__________________________________________________________________________________________________\n",
      "Promo_bw_flt (Flatten)          (None, 3)            0           embedding_17[0][0]               \n",
      "__________________________________________________________________________________________________\n",
      "StateHoliday_fw_flt (Flatten)   (None, 2)            0           embedding_18[0][0]               \n",
      "__________________________________________________________________________________________________\n",
      "StateHoliday_bw_flt (Flatten)   (None, 2)            0           embedding_19[0][0]               \n",
      "__________________________________________________________________________________________________\n",
      "SchoolHoliday_fw_flt (Flatten)  (None, 4)            0           embedding_20[0][0]               \n",
      "__________________________________________________________________________________________________\n",
      "SchoolHoliday_bw_flt (Flatten)  (None, 4)            0           embedding_21[0][0]               \n",
      "__________________________________________________________________________________________________\n",
      "contin_d (Dense)                (None, 160)          2720        contin[0][0]                     \n",
      "__________________________________________________________________________________________________\n",
      "concatenate (Concatenate)       (None, 348)          0           Store_flt[0][0]                  \n",
      "                                                                 Day_flt[0][0]                    \n",
      "                                                                 DayOfWeek_flt[0][0]              \n",
      "                                                                 Month_flt[0][0]                  \n",
      "                                                                 State_flt[0][0]                  \n",
      "                                                                 CompetitionOpenSinceYear_flt[0][0\n",
      "                                                                 Promo2SinceYear_flt[0][0]        \n",
      "                                                                 Events_flt[0][0]                 \n",
      "                                                                 StateHoliday_flt[0][0]           \n",
      "                                                                 Assortment_flt[0][0]             \n",
      "                                                                 PromoInterval_flt[0][0]          \n",
      "                                                                 Year_flt[0][0]                   \n",
      "                                                                 CompetitionMonthsOpen_flt[0][0]  \n",
      "                                                                 StoreType_flt[0][0]              \n",
      "                                                                 Week_flt[0][0]                   \n",
      "                                                                 Promo2Weeks_flt[0][0]            \n",
      "                                                                 Promo_fw_flt[0][0]               \n",
      "                                                                 Promo_bw_flt[0][0]               \n",
      "                                                                 StateHoliday_fw_flt[0][0]        \n",
      "                                                                 StateHoliday_bw_flt[0][0]        \n",
      "                                                                 SchoolHoliday_fw_flt[0][0]       \n",
      "                                                                 SchoolHoliday_bw_flt[0][0]       \n",
      "                                                                 contin_d[0][0]                   \n",
      "__________________________________________________________________________________________________\n",
      "dropout (Dropout)               (None, 348)          0           concatenate[0][0]                \n",
      "__________________________________________________________________________________________________\n",
      "dense (Dense)                   (None, 1000)         349000      dropout[0][0]                    \n",
      "__________________________________________________________________________________________________\n",
      "dense_1 (Dense)                 (None, 500)          500500      dense[0][0]                      \n",
      "__________________________________________________________________________________________________\n",
      "dropout_1 (Dropout)             (None, 500)          0           dense_1[0][0]                    \n",
      "__________________________________________________________________________________________________\n",
      "dense_2 (Dense)                 (None, 1)            501         dropout_1[0][0]                  \n",
      "==================================================================================================\n",
      "Total params: 911,846\n",
      "Trainable params: 911,846\n",
      "Non-trainable params: 0\n",
      "__________________________________________________________________________________________________\n"
     ]
    }
   ],
   "source": [
    "model.summary()"
   ]
  },
  {
   "cell_type": "markdown",
   "metadata": {},
   "source": [
    "## Entreno el modelo"
   ]
  },
  {
   "cell_type": "code",
   "execution_count": 104,
   "metadata": {},
   "outputs": [
    {
     "data": {
      "text/plain": [
       "[[array([[  0],\n",
       "         [  1],\n",
       "         [  2],\n",
       "         [  3],\n",
       "         [  4],\n",
       "         [  5],\n",
       "         [  6],\n",
       "         [  7],\n",
       "         [  8],\n",
       "         [  9],\n",
       "         [ 10],\n",
       "         [ 11],\n",
       "         [ 12],\n",
       "         [ 13],\n",
       "         [ 14],\n",
       "         [ 15],\n",
       "         [ 16],\n",
       "         [ 17],\n",
       "         [ 18],\n",
       "         [ 19],\n",
       "         ...,\n",
       "         [126],\n",
       "         [127],\n",
       "         [128],\n",
       "         [129],\n",
       "         [130],\n",
       "         [131],\n",
       "         [132],\n",
       "         [133],\n",
       "         [134],\n",
       "         [135],\n",
       "         [136],\n",
       "         [137],\n",
       "         [138],\n",
       "         [139],\n",
       "         [140],\n",
       "         [141],\n",
       "         [142],\n",
       "         [143],\n",
       "         [144],\n",
       "         [145]], dtype=int64),\n",
       "  array([[30],\n",
       "         [30],\n",
       "         [30],\n",
       "         [30],\n",
       "         [30],\n",
       "         [30],\n",
       "         [30],\n",
       "         [30],\n",
       "         [30],\n",
       "         [30],\n",
       "         [30],\n",
       "         [30],\n",
       "         [30],\n",
       "         [30],\n",
       "         [30],\n",
       "         [30],\n",
       "         [30],\n",
       "         [30],\n",
       "         [30],\n",
       "         [30],\n",
       "         ...,\n",
       "         [ 1],\n",
       "         [ 1],\n",
       "         [ 1],\n",
       "         [ 1],\n",
       "         [ 1],\n",
       "         [ 1],\n",
       "         [ 1],\n",
       "         [ 1],\n",
       "         [ 1],\n",
       "         [ 1],\n",
       "         [ 1],\n",
       "         [ 1],\n",
       "         [ 1],\n",
       "         [ 1],\n",
       "         [ 1],\n",
       "         [ 1],\n",
       "         [ 1],\n",
       "         [ 1],\n",
       "         [ 1],\n",
       "         [ 1]], dtype=int64),\n",
       "  array([[4],\n",
       "         [4],\n",
       "         [4],\n",
       "         [4],\n",
       "         [4],\n",
       "         [4],\n",
       "         [4],\n",
       "         [4],\n",
       "         [4],\n",
       "         [4],\n",
       "         [4],\n",
       "         [4],\n",
       "         [4],\n",
       "         [4],\n",
       "         [4],\n",
       "         [4],\n",
       "         [4],\n",
       "         [4],\n",
       "         [4],\n",
       "         [4],\n",
       "         ...,\n",
       "         [1],\n",
       "         [1],\n",
       "         [1],\n",
       "         [1],\n",
       "         [1],\n",
       "         [1],\n",
       "         [1],\n",
       "         [1],\n",
       "         [1],\n",
       "         [1],\n",
       "         [1],\n",
       "         [1],\n",
       "         [1],\n",
       "         [1],\n",
       "         [1],\n",
       "         [1],\n",
       "         [1],\n",
       "         [1],\n",
       "         [1],\n",
       "         [1]], dtype=int64),\n",
       "  array([[6],\n",
       "         [6],\n",
       "         [6],\n",
       "         [6],\n",
       "         [6],\n",
       "         [6],\n",
       "         [6],\n",
       "         [6],\n",
       "         [6],\n",
       "         [6],\n",
       "         [6],\n",
       "         [6],\n",
       "         [6],\n",
       "         [6],\n",
       "         [6],\n",
       "         [6],\n",
       "         [6],\n",
       "         [6],\n",
       "         [6],\n",
       "         [6],\n",
       "         ...,\n",
       "         [3],\n",
       "         [3],\n",
       "         [3],\n",
       "         [3],\n",
       "         [3],\n",
       "         [3],\n",
       "         [3],\n",
       "         [3],\n",
       "         [3],\n",
       "         [3],\n",
       "         [3],\n",
       "         [3],\n",
       "         [3],\n",
       "         [3],\n",
       "         [3],\n",
       "         [3],\n",
       "         [3],\n",
       "         [3],\n",
       "         [3],\n",
       "         [3]], dtype=int64),\n",
       "  array([[ 4],\n",
       "         [11],\n",
       "         [ 6],\n",
       "         [ 0],\n",
       "         [ 9],\n",
       "         [ 9],\n",
       "         [ 8],\n",
       "         [ 8],\n",
       "         [ 6],\n",
       "         [ 3],\n",
       "         [ 8],\n",
       "         [ 8],\n",
       "         [ 2],\n",
       "         [ 6],\n",
       "         [ 8],\n",
       "         [ 1],\n",
       "         [11],\n",
       "         [11],\n",
       "         [ 6],\n",
       "         [ 2],\n",
       "         ...,\n",
       "         [ 2],\n",
       "         [ 4],\n",
       "         [ 2],\n",
       "         [ 4],\n",
       "         [ 6],\n",
       "         [ 2],\n",
       "         [11],\n",
       "         [ 0],\n",
       "         [ 4],\n",
       "         [ 2],\n",
       "         [ 2],\n",
       "         [ 9],\n",
       "         [ 2],\n",
       "         [ 4],\n",
       "         [ 1],\n",
       "         [ 6],\n",
       "         [ 7],\n",
       "         [ 2],\n",
       "         [ 2],\n",
       "         [ 6]], dtype=int64),\n",
       "  array([[15],\n",
       "         [14],\n",
       "         [13],\n",
       "         [16],\n",
       "         [22],\n",
       "         [20],\n",
       "         [20],\n",
       "         [21],\n",
       "         [ 7],\n",
       "         [16],\n",
       "         [18],\n",
       "         [ 0],\n",
       "         [ 0],\n",
       "         [21],\n",
       "         [17],\n",
       "         [ 0],\n",
       "         [12],\n",
       "         [17],\n",
       "         [ 0],\n",
       "         [16],\n",
       "         ...,\n",
       "         [12],\n",
       "         [ 0],\n",
       "         [ 0],\n",
       "         [ 0],\n",
       "         [22],\n",
       "         [ 0],\n",
       "         [20],\n",
       "         [15],\n",
       "         [ 0],\n",
       "         [17],\n",
       "         [22],\n",
       "         [21],\n",
       "         [15],\n",
       "         [17],\n",
       "         [ 0],\n",
       "         [ 9],\n",
       "         [ 9],\n",
       "         [ 0],\n",
       "         [ 0],\n",
       "         [ 1]], dtype=int64),\n",
       "  array([[0],\n",
       "         [2],\n",
       "         [3],\n",
       "         [0],\n",
       "         [0],\n",
       "         [0],\n",
       "         [0],\n",
       "         [0],\n",
       "         [0],\n",
       "         [0],\n",
       "         [4],\n",
       "         [2],\n",
       "         [1],\n",
       "         [3],\n",
       "         [3],\n",
       "         [0],\n",
       "         [2],\n",
       "         [4],\n",
       "         [3],\n",
       "         [6],\n",
       "         ...,\n",
       "         [2],\n",
       "         [5],\n",
       "         [3],\n",
       "         [2],\n",
       "         [0],\n",
       "         [4],\n",
       "         [6],\n",
       "         [0],\n",
       "         [5],\n",
       "         [4],\n",
       "         [6],\n",
       "         [0],\n",
       "         [3],\n",
       "         [5],\n",
       "         [4],\n",
       "         [0],\n",
       "         [0],\n",
       "         [0],\n",
       "         [1],\n",
       "         [4]], dtype=int64),\n",
       "  array([[ 1],\n",
       "         [ 1],\n",
       "         [ 1],\n",
       "         [ 0],\n",
       "         [ 0],\n",
       "         [ 0],\n",
       "         [11],\n",
       "         [11],\n",
       "         [ 1],\n",
       "         [ 0],\n",
       "         [11],\n",
       "         [11],\n",
       "         [ 0],\n",
       "         [ 1],\n",
       "         [11],\n",
       "         [ 0],\n",
       "         [ 1],\n",
       "         [ 1],\n",
       "         [ 1],\n",
       "         [ 0],\n",
       "         ...,\n",
       "         [ 0],\n",
       "         [ 0],\n",
       "         [ 0],\n",
       "         [ 0],\n",
       "         [ 0],\n",
       "         [ 0],\n",
       "         [19],\n",
       "         [ 0],\n",
       "         [ 0],\n",
       "         [ 0],\n",
       "         [ 0],\n",
       "         [19],\n",
       "         [ 0],\n",
       "         [ 0],\n",
       "         [ 0],\n",
       "         [ 0],\n",
       "         [ 0],\n",
       "         [ 0],\n",
       "         [ 0],\n",
       "         [ 0]], dtype=int64),\n",
       "  array([[0],\n",
       "         [0],\n",
       "         [0],\n",
       "         [0],\n",
       "         [0],\n",
       "         [0],\n",
       "         [0],\n",
       "         [0],\n",
       "         [0],\n",
       "         [0],\n",
       "         [0],\n",
       "         [0],\n",
       "         [0],\n",
       "         [0],\n",
       "         [0],\n",
       "         [0],\n",
       "         [0],\n",
       "         [0],\n",
       "         [0],\n",
       "         [0],\n",
       "         ...,\n",
       "         [0],\n",
       "         [0],\n",
       "         [0],\n",
       "         [0],\n",
       "         [0],\n",
       "         [0],\n",
       "         [0],\n",
       "         [0],\n",
       "         [0],\n",
       "         [0],\n",
       "         [0],\n",
       "         [0],\n",
       "         [0],\n",
       "         [0],\n",
       "         [0],\n",
       "         [0],\n",
       "         [0],\n",
       "         [0],\n",
       "         [0],\n",
       "         [0]], dtype=int64),\n",
       "  array([[0],\n",
       "         [0],\n",
       "         [0],\n",
       "         [2],\n",
       "         [0],\n",
       "         [0],\n",
       "         [2],\n",
       "         [0],\n",
       "         [2],\n",
       "         [0],\n",
       "         [2],\n",
       "         [2],\n",
       "         [0],\n",
       "         [0],\n",
       "         [2],\n",
       "         [2],\n",
       "         [0],\n",
       "         [2],\n",
       "         [2],\n",
       "         [0],\n",
       "         ...,\n",
       "         [0],\n",
       "         [2],\n",
       "         [0],\n",
       "         [0],\n",
       "         [0],\n",
       "         [2],\n",
       "         [0],\n",
       "         [0],\n",
       "         [0],\n",
       "         [2],\n",
       "         [0],\n",
       "         [2],\n",
       "         [0],\n",
       "         [2],\n",
       "         [2],\n",
       "         [0],\n",
       "         [0],\n",
       "         [2],\n",
       "         [0],\n",
       "         [2]], dtype=int64),\n",
       "  array([[0],\n",
       "         [2],\n",
       "         [2],\n",
       "         [0],\n",
       "         [0],\n",
       "         [0],\n",
       "         [0],\n",
       "         [0],\n",
       "         [0],\n",
       "         [0],\n",
       "         [2],\n",
       "         [2],\n",
       "         [1],\n",
       "         [2],\n",
       "         [2],\n",
       "         [0],\n",
       "         [2],\n",
       "         [2],\n",
       "         [3],\n",
       "         [2],\n",
       "         ...,\n",
       "         [2],\n",
       "         [2],\n",
       "         [2],\n",
       "         [2],\n",
       "         [0],\n",
       "         [2],\n",
       "         [3],\n",
       "         [0],\n",
       "         [2],\n",
       "         [1],\n",
       "         [2],\n",
       "         [0],\n",
       "         [2],\n",
       "         [2],\n",
       "         [3],\n",
       "         [0],\n",
       "         [0],\n",
       "         [0],\n",
       "         [1],\n",
       "         [2]], dtype=int64),\n",
       "  array([[2],\n",
       "         [2],\n",
       "         [2],\n",
       "         [2],\n",
       "         [2],\n",
       "         [2],\n",
       "         [2],\n",
       "         [2],\n",
       "         [2],\n",
       "         [2],\n",
       "         [2],\n",
       "         [2],\n",
       "         [2],\n",
       "         [2],\n",
       "         [2],\n",
       "         [2],\n",
       "         [2],\n",
       "         [2],\n",
       "         [2],\n",
       "         [2],\n",
       "         ...,\n",
       "         [0],\n",
       "         [0],\n",
       "         [0],\n",
       "         [0],\n",
       "         [0],\n",
       "         [0],\n",
       "         [0],\n",
       "         [0],\n",
       "         [0],\n",
       "         [0],\n",
       "         [0],\n",
       "         [0],\n",
       "         [0],\n",
       "         [0],\n",
       "         [0],\n",
       "         [0],\n",
       "         [0],\n",
       "         [0],\n",
       "         [0],\n",
       "         [0]], dtype=int64)],\n",
       " [array([[24],\n",
       "         [24],\n",
       "         [24],\n",
       "         [24],\n",
       "         [ 3],\n",
       "         [19],\n",
       "         [24],\n",
       "         [ 9],\n",
       "         [24],\n",
       "         [24],\n",
       "         [24],\n",
       "         [ 0],\n",
       "         [ 0],\n",
       "         [16],\n",
       "         [24],\n",
       "         [ 0],\n",
       "         [24],\n",
       "         [24],\n",
       "         [ 0],\n",
       "         [24],\n",
       "         ...,\n",
       "         [24],\n",
       "         [ 0],\n",
       "         [ 0],\n",
       "         [ 0],\n",
       "         [ 0],\n",
       "         [ 0],\n",
       "         [ 0],\n",
       "         [24],\n",
       "         [ 0],\n",
       "         [24],\n",
       "         [ 0],\n",
       "         [ 0],\n",
       "         [24],\n",
       "         [24],\n",
       "         [ 0],\n",
       "         [24],\n",
       "         [24],\n",
       "         [ 0],\n",
       "         [ 0],\n",
       "         [ 0]], dtype=int64),\n",
       "  array([[2],\n",
       "         [0],\n",
       "         [0],\n",
       "         [2],\n",
       "         [0],\n",
       "         [0],\n",
       "         [0],\n",
       "         [0],\n",
       "         [0],\n",
       "         [0],\n",
       "         [0],\n",
       "         [0],\n",
       "         [3],\n",
       "         [0],\n",
       "         [3],\n",
       "         [0],\n",
       "         [0],\n",
       "         [3],\n",
       "         [0],\n",
       "         [3],\n",
       "         ...,\n",
       "         [3],\n",
       "         [3],\n",
       "         [0],\n",
       "         [2],\n",
       "         [2],\n",
       "         [3],\n",
       "         [0],\n",
       "         [0],\n",
       "         [3],\n",
       "         [0],\n",
       "         [0],\n",
       "         [0],\n",
       "         [0],\n",
       "         [0],\n",
       "         [2],\n",
       "         [0],\n",
       "         [3],\n",
       "         [0],\n",
       "         [0],\n",
       "         [3]], dtype=int64),\n",
       "  array([[30],\n",
       "         [30],\n",
       "         [30],\n",
       "         [30],\n",
       "         [30],\n",
       "         [30],\n",
       "         [30],\n",
       "         [30],\n",
       "         [30],\n",
       "         [30],\n",
       "         [30],\n",
       "         [30],\n",
       "         [30],\n",
       "         [30],\n",
       "         [30],\n",
       "         [30],\n",
       "         [30],\n",
       "         [30],\n",
       "         [30],\n",
       "         [30],\n",
       "         ...,\n",
       "         [13],\n",
       "         [13],\n",
       "         [13],\n",
       "         [13],\n",
       "         [13],\n",
       "         [13],\n",
       "         [13],\n",
       "         [13],\n",
       "         [13],\n",
       "         [13],\n",
       "         [13],\n",
       "         [13],\n",
       "         [13],\n",
       "         [13],\n",
       "         [13],\n",
       "         [13],\n",
       "         [13],\n",
       "         [13],\n",
       "         [13],\n",
       "         [13]], dtype=int64),\n",
       "  array([[ 0],\n",
       "         [25],\n",
       "         [25],\n",
       "         [ 0],\n",
       "         [ 0],\n",
       "         [ 0],\n",
       "         [ 0],\n",
       "         [ 0],\n",
       "         [ 0],\n",
       "         [ 0],\n",
       "         [25],\n",
       "         [25],\n",
       "         [25],\n",
       "         [25],\n",
       "         [25],\n",
       "         [ 0],\n",
       "         [25],\n",
       "         [25],\n",
       "         [25],\n",
       "         [25],\n",
       "         ...,\n",
       "         [25],\n",
       "         [13],\n",
       "         [25],\n",
       "         [25],\n",
       "         [ 0],\n",
       "         [25],\n",
       "         [ 0],\n",
       "         [ 0],\n",
       "         [13],\n",
       "         [25],\n",
       "         [ 0],\n",
       "         [ 0],\n",
       "         [25],\n",
       "         [13],\n",
       "         [25],\n",
       "         [ 0],\n",
       "         [ 0],\n",
       "         [ 0],\n",
       "         [25],\n",
       "         [18]], dtype=int64),\n",
       "  array([[1],\n",
       "         [1],\n",
       "         [1],\n",
       "         [1],\n",
       "         [1],\n",
       "         [1],\n",
       "         [1],\n",
       "         [1],\n",
       "         [1],\n",
       "         [1],\n",
       "         [1],\n",
       "         [1],\n",
       "         [1],\n",
       "         [1],\n",
       "         [1],\n",
       "         [1],\n",
       "         [1],\n",
       "         [1],\n",
       "         [1],\n",
       "         [1],\n",
       "         ...,\n",
       "         [1],\n",
       "         [1],\n",
       "         [1],\n",
       "         [1],\n",
       "         [1],\n",
       "         [1],\n",
       "         [1],\n",
       "         [1],\n",
       "         [1],\n",
       "         [1],\n",
       "         [1],\n",
       "         [1],\n",
       "         [1],\n",
       "         [1],\n",
       "         [1],\n",
       "         [1],\n",
       "         [1],\n",
       "         [1],\n",
       "         [1],\n",
       "         [1]], dtype=int64),\n",
       "  array([[5],\n",
       "         [5],\n",
       "         [5],\n",
       "         [5],\n",
       "         [5],\n",
       "         [5],\n",
       "         [5],\n",
       "         [5],\n",
       "         [5],\n",
       "         [5],\n",
       "         [5],\n",
       "         [5],\n",
       "         [5],\n",
       "         [5],\n",
       "         [5],\n",
       "         [5],\n",
       "         [5],\n",
       "         [5],\n",
       "         [5],\n",
       "         [5],\n",
       "         ...,\n",
       "         [3],\n",
       "         [3],\n",
       "         [3],\n",
       "         [3],\n",
       "         [3],\n",
       "         [3],\n",
       "         [3],\n",
       "         [3],\n",
       "         [3],\n",
       "         [3],\n",
       "         [3],\n",
       "         [3],\n",
       "         [3],\n",
       "         [3],\n",
       "         [3],\n",
       "         [3],\n",
       "         [3],\n",
       "         [3],\n",
       "         [3],\n",
       "         [3]], dtype=int64),\n",
       "  array([[0],\n",
       "         [0],\n",
       "         [0],\n",
       "         [0],\n",
       "         [0],\n",
       "         [0],\n",
       "         [0],\n",
       "         [0],\n",
       "         [0],\n",
       "         [0],\n",
       "         [0],\n",
       "         [0],\n",
       "         [0],\n",
       "         [0],\n",
       "         [0],\n",
       "         [0],\n",
       "         [0],\n",
       "         [0],\n",
       "         [0],\n",
       "         [0],\n",
       "         ...,\n",
       "         [0],\n",
       "         [0],\n",
       "         [0],\n",
       "         [0],\n",
       "         [0],\n",
       "         [0],\n",
       "         [0],\n",
       "         [0],\n",
       "         [0],\n",
       "         [0],\n",
       "         [0],\n",
       "         [0],\n",
       "         [0],\n",
       "         [0],\n",
       "         [0],\n",
       "         [0],\n",
       "         [0],\n",
       "         [0],\n",
       "         [0],\n",
       "         [0]], dtype=int64),\n",
       "  array([[0],\n",
       "         [0],\n",
       "         [0],\n",
       "         [0],\n",
       "         [0],\n",
       "         [0],\n",
       "         [0],\n",
       "         [0],\n",
       "         [0],\n",
       "         [0],\n",
       "         [0],\n",
       "         [0],\n",
       "         [0],\n",
       "         [0],\n",
       "         [0],\n",
       "         [0],\n",
       "         [0],\n",
       "         [0],\n",
       "         [0],\n",
       "         [0],\n",
       "         ...,\n",
       "         [2],\n",
       "         [2],\n",
       "         [2],\n",
       "         [2],\n",
       "         [2],\n",
       "         [2],\n",
       "         [2],\n",
       "         [2],\n",
       "         [2],\n",
       "         [2],\n",
       "         [2],\n",
       "         [2],\n",
       "         [2],\n",
       "         [2],\n",
       "         [2],\n",
       "         [2],\n",
       "         [2],\n",
       "         [2],\n",
       "         [2],\n",
       "         [2]], dtype=int64),\n",
       "  array([[1],\n",
       "         [1],\n",
       "         [1],\n",
       "         [1],\n",
       "         [1],\n",
       "         [1],\n",
       "         [1],\n",
       "         [1],\n",
       "         [1],\n",
       "         [1],\n",
       "         [1],\n",
       "         [1],\n",
       "         [0],\n",
       "         [1],\n",
       "         [1],\n",
       "         [1],\n",
       "         [1],\n",
       "         [1],\n",
       "         [1],\n",
       "         [0],\n",
       "         ...,\n",
       "         [4],\n",
       "         [4],\n",
       "         [4],\n",
       "         [4],\n",
       "         [4],\n",
       "         [4],\n",
       "         [4],\n",
       "         [4],\n",
       "         [4],\n",
       "         [4],\n",
       "         [4],\n",
       "         [4],\n",
       "         [4],\n",
       "         [4],\n",
       "         [4],\n",
       "         [4],\n",
       "         [4],\n",
       "         [4],\n",
       "         [4],\n",
       "         [4]], dtype=int64),\n",
       "  array([[5],\n",
       "         [5],\n",
       "         [5],\n",
       "         [5],\n",
       "         [5],\n",
       "         [5],\n",
       "         [5],\n",
       "         [5],\n",
       "         [5],\n",
       "         [7],\n",
       "         [5],\n",
       "         [5],\n",
       "         [0],\n",
       "         [5],\n",
       "         [5],\n",
       "         [2],\n",
       "         [5],\n",
       "         [5],\n",
       "         [5],\n",
       "         [0],\n",
       "         ...,\n",
       "         [5],\n",
       "         [5],\n",
       "         [5],\n",
       "         [5],\n",
       "         [5],\n",
       "         [5],\n",
       "         [5],\n",
       "         [5],\n",
       "         [5],\n",
       "         [5],\n",
       "         [5],\n",
       "         [3],\n",
       "         [5],\n",
       "         [5],\n",
       "         [5],\n",
       "         [5],\n",
       "         [5],\n",
       "         [5],\n",
       "         [5],\n",
       "         [5]], dtype=int64),\n",
       "  array([[-5.3772348e-01,  1.0244455e+00,  8.1863225e-01,  3.2504749e-01,\n",
       "           6.1112005e-01, -1.5107893e+00, -1.6265600e+00,  1.4843667e-01,\n",
       "          -1.4766151e-01, -1.8591654e+00,  1.7443612e+00,  1.7430487e+00,\n",
       "           6.4437634e-01,  1.0724242e+00,  1.2732369e+00,  2.1442111e+00],\n",
       "         [-6.2851173e-01,  5.5189896e-01,  4.0421492e-01,  1.7024218e-01,\n",
       "           8.7027711e-01, -9.0502435e-01, -1.2698965e+00, -9.7007984e-01,\n",
       "          -1.4766151e-01, -4.9385792e-01,  1.3034385e+00,  1.7430487e+00,\n",
       "           9.6507323e-01,  1.0724242e+00,  1.2732369e+00,  2.1442111e+00],\n",
       "         [ 1.1301863e+00,  7.8817225e-01,  4.0421492e-01,  1.5436869e-02,\n",
       "           8.7027711e-01, -9.8074496e-01, -1.3208485e+00, -9.7007984e-01,\n",
       "          -1.1650956e+00, -1.4040630e+00,  1.8325456e+00,  1.7430487e+00,\n",
       "           6.4437634e-01,  1.0724242e+00,  1.2732369e+00,  2.1442111e+00],\n",
       "         [-6.2202686e-01,  5.5189896e-01,  5.4235405e-01,  4.7985280e-01,\n",
       "           9.2805915e-02, -9.8074496e-01, -1.0151370e+00,  3.6585018e-02,\n",
       "           7.0020026e-01,  4.1634712e-01,  7.7433145e-01,  1.7430487e+00,\n",
       "           9.6507323e-01,  1.0724242e+00,  1.2732369e+00,  2.1442111e+00],\n",
       "         [ 3.1768129e+00,  6.7003560e-01,  6.8049318e-01,  6.3465810e-01,\n",
       "          -1.4621365e+00, -1.4350687e+00, -1.2189447e+00, -9.7007984e-01,\n",
       "          -1.4766151e-01, -4.9385792e-01,  1.4798076e+00,  1.7430487e+00,\n",
       "           6.4437634e-01,  1.0724242e+00,  1.2732369e+00,  2.1442111e+00],\n",
       "         [-6.6223311e-01,  6.7003560e-01,  6.8049318e-01,  6.3465810e-01,\n",
       "          -1.4621365e+00, -1.4350687e+00, -1.2189447e+00, -9.7007984e-01,\n",
       "          -1.4766151e-01, -4.9385792e-01,  1.4798076e+00,  1.7430487e+00,\n",
       "           6.4437634e-01,  1.0724242e+00,  1.2732369e+00,  2.1442111e+00],\n",
       "         [ 2.4103007e+00,  4.3376228e-01,  5.4235405e-01,  3.2504749e-01,\n",
       "          -6.8466526e-01, -9.8074496e-01, -8.6228114e-01,  3.7213996e-01,\n",
       "           1.9148320e-01,  4.1634712e-01,  1.0388850e+00,  1.7430487e+00,\n",
       "           9.6507323e-01,  1.0724242e+00,  1.2732369e+00,  2.1442111e+00],\n",
       "         [ 2.7288586e-01,  4.3376228e-01,  5.4235405e-01,  3.2504749e-01,\n",
       "          -6.8466526e-01, -9.8074496e-01, -8.6228114e-01,  3.7213996e-01,\n",
       "           1.9148320e-01,  4.1634712e-01,  1.0388850e+00,  1.7430487e+00,\n",
       "           9.6507323e-01,  1.0724242e+00,  1.2732369e+00,  2.1442111e+00],\n",
       "         [-4.3915340e-01,  7.8817225e-01,  4.0421492e-01,  1.5436869e-02,\n",
       "           8.7027711e-01, -9.8074496e-01, -1.3208485e+00, -9.7007984e-01,\n",
       "          -1.1650956e+00, -1.4040630e+00,  1.8325456e+00,  1.7430487e+00,\n",
       "           6.4437634e-01,  1.0724242e+00,  1.2732369e+00,  2.1442111e+00],\n",
       "         [-2.9259524e-01,  4.3376228e-01,  4.0421492e-01,  3.2504749e-01,\n",
       "           9.2805915e-02, -5.2642125e-01, -1.0151370e+00, -1.8711828e-01,\n",
       "           1.9148320e-01, -3.8755402e-02,  1.3034385e+00,  1.7430487e+00,\n",
       "           9.6507323e-01,  1.0724242e+00,  1.2732369e+00,  2.1442111e+00],\n",
       "         [-5.7792974e-01,  4.3376228e-01,  5.4235405e-01,  3.2504749e-01,\n",
       "          -6.8466526e-01, -9.8074496e-01, -8.6228114e-01,  3.7213996e-01,\n",
       "           1.9148320e-01,  4.1634712e-01,  1.0388850e+00,  1.7430487e+00,\n",
       "           9.6507323e-01,  1.0724242e+00,  1.2732369e+00,  2.1442111e+00],\n",
       "         [-5.6366301e-01,  4.3376228e-01,  5.4235405e-01,  3.2504749e-01,\n",
       "          -6.8466526e-01, -9.8074496e-01, -8.6228114e-01,  3.7213996e-01,\n",
       "           1.9148320e-01,  4.1634712e-01,  1.0388850e+00,  1.7430487e+00,\n",
       "           9.6507323e-01,  1.0724242e+00,  1.2732369e+00,  2.1442111e+00],\n",
       "         [-6.6223311e-01,  1.0244455e+00,  9.5677137e-01,  6.3465810e-01,\n",
       "          -8.1424379e-01, -1.8136718e+00, -1.1679927e+00, -4.1082159e-01,\n",
       "          -9.9552327e-01, -2.3142679e+00,  1.8325456e+00,  1.7430487e+00,\n",
       "           6.4437634e-01,  1.0724242e+00,  1.2732369e+00, -4.6637198e-01],\n",
       "         [-5.3383261e-01,  7.8817225e-01,  4.0421492e-01,  1.5436869e-02,\n",
       "           8.7027711e-01, -9.8074496e-01, -1.3208485e+00, -9.7007984e-01,\n",
       "          -1.1650956e+00, -1.4040630e+00,  1.8325456e+00,  1.7430487e+00,\n",
       "           6.4437634e-01,  1.0724242e+00,  1.2732369e+00,  2.1442111e+00],\n",
       "         [-1.6938260e-01,  4.3376228e-01,  5.4235405e-01,  3.2504749e-01,\n",
       "          -6.8466526e-01, -9.8074496e-01, -8.6228114e-01,  3.7213996e-01,\n",
       "           1.9148320e-01,  4.1634712e-01,  1.0388850e+00,  1.7430487e+00,\n",
       "           9.6507323e-01,  1.0724242e+00,  1.2732369e+00,  2.1442111e+00],\n",
       "         [-2.7832851e-01,  1.0244455e+00,  6.8049318e-01,  1.7024218e-01,\n",
       "          -8.1424379e-01, -1.7379512e+00, -1.5246562e+00, -7.4637651e-01,\n",
       "          -3.1723386e-01, -1.4040630e+00,  2.2734683e+00,  1.7430487e+00,\n",
       "           6.4437634e-01,  1.0724242e+00,  1.2732369e+00,  2.1442111e+00],\n",
       "         [-6.9595444e-01,  5.5189896e-01,  4.0421492e-01,  1.7024218e-01,\n",
       "           8.7027711e-01, -9.0502435e-01, -1.2698965e+00, -9.7007984e-01,\n",
       "          -1.4766151e-01, -4.9385792e-01,  1.3034385e+00,  1.7430487e+00,\n",
       "           9.6507323e-01,  1.0724242e+00,  1.2732369e+00,  2.1442111e+00],\n",
       "         [ 1.0925740e+00,  5.5189896e-01,  4.0421492e-01,  1.7024218e-01,\n",
       "           8.7027711e-01, -9.0502435e-01, -1.2698965e+00, -9.7007984e-01,\n",
       "          -1.4766151e-01, -4.9385792e-01,  1.3034385e+00,  1.7430487e+00,\n",
       "           9.6507323e-01,  1.0724242e+00,  1.2732369e+00,  2.1442111e+00],\n",
       "         [-2.8221944e-01,  7.8817225e-01,  4.0421492e-01,  1.5436869e-02,\n",
       "           8.7027711e-01, -9.8074496e-01, -1.3208485e+00, -9.7007984e-01,\n",
       "          -1.1650956e+00, -1.4040630e+00,  1.8325456e+00,  1.7430487e+00,\n",
       "           6.4437634e-01,  1.0724242e+00,  1.2732369e+00,  2.1442111e+00],\n",
       "         [-3.9894718e-01,  1.0244455e+00,  9.5677137e-01,  6.3465810e-01,\n",
       "          -8.1424379e-01, -1.8136718e+00, -1.1679927e+00, -4.1082159e-01,\n",
       "          -9.9552327e-01, -2.3142679e+00,  1.8325456e+00,  1.7430487e+00,\n",
       "           6.4437634e-01,  1.0724242e+00,  1.2732369e+00, -4.6637198e-01],\n",
       "         ...,\n",
       "         [-5.2734768e-01, -1.2201507e+00, -1.2534544e+00, -1.0682003e+00,\n",
       "          -8.1424379e-01,  6.8510872e-01,  1.2776997e+00,  3.7213996e-01,\n",
       "           1.0393449e+00,  4.1634712e-01, -9.8935878e-01, -7.5218934e-01,\n",
       "          -1.1515261e+00,  1.8995789e-01, -7.8539979e-01,  2.1442111e+00],\n",
       "         [-4.4304433e-01, -7.4760419e-01, -9.7717619e-01, -1.2230057e+00,\n",
       "          -3.6649716e+00, -1.8893924e+00, -1.4227524e+00,  1.3788048e+00,\n",
       "           1.0393449e+00, -1.8591654e+00, -6.3662076e-01, -7.5218934e-01,\n",
       "          -1.1515261e+00,  1.8995789e-01, -7.8539979e-01,  2.1442111e+00],\n",
       "         [-3.8338348e-01, -1.2201507e+00, -1.2534544e+00, -1.0682003e+00,\n",
       "          -8.1424379e-01,  6.8510872e-01,  1.2776997e+00,  3.7213996e-01,\n",
       "           1.0393449e+00,  4.1634712e-01, -9.8935878e-01, -7.5218934e-01,\n",
       "          -1.1515261e+00,  1.8995789e-01, -7.8539979e-01,  2.1442111e+00],\n",
       "         [-5.8571160e-01, -7.4760419e-01, -9.7717619e-01, -1.2230057e+00,\n",
       "          -3.6649716e+00, -1.8893924e+00, -1.4227524e+00,  1.3788048e+00,\n",
       "           1.0393449e+00, -1.8591654e+00, -6.3662076e-01, -7.5218934e-01,\n",
       "          -1.1515261e+00,  1.8995789e-01, -7.8539979e-01,  2.1442111e+00],\n",
       "         [-5.8311760e-01, -7.4760419e-01, -1.1153153e+00, -1.3778110e+00,\n",
       "          -2.4987648e+00, -1.8893924e+00, -1.5246562e+00,  1.6025081e+00,\n",
       "           1.0393449e+00, -1.8591654e+00, -4.6025172e-01, -7.5218934e-01,\n",
       "          -1.1515261e+00,  1.8995789e-01, -7.8539979e-01,  2.1442111e+00],\n",
       "         [-5.6755394e-01, -1.2201507e+00, -1.2534544e+00, -1.0682003e+00,\n",
       "          -8.1424379e-01,  6.8510872e-01,  1.2776997e+00,  3.7213996e-01,\n",
       "           1.0393449e+00,  4.1634712e-01, -9.8935878e-01, -7.5218934e-01,\n",
       "          -1.1515261e+00,  1.8995789e-01, -7.8539979e-01,  2.1442111e+00],\n",
       "         [-6.6742098e-01, -1.5745606e+00, -1.6678717e+00, -1.5326163e+00,\n",
       "          -9.4382232e-01,  3.6231237e-03,  2.5866124e-01,  4.8399162e-01,\n",
       "           3.6105555e-01,  4.1634712e-01,  4.2159340e-01, -7.5218934e-01,\n",
       "          -1.1515261e+00,  1.8995789e-01, -7.8539979e-01,  2.1442111e+00],\n",
       "         [-5.4680234e-01, -1.4564240e+00, -1.6678717e+00, -1.8422269e+00,\n",
       "           8.7027711e-01, -4.5070061e-01, -4.5466572e-01,  3.6585018e-02,\n",
       "          -6.5637857e-01,  4.1634712e-01,  2.4522439e-01, -7.5218934e-01,\n",
       "          -1.1515261e+00,  1.8995789e-01, -7.8539979e-01,  2.1442111e+00],\n",
       "         [-2.9309310e-02, -7.4760419e-01, -9.7717619e-01, -1.2230057e+00,\n",
       "          -3.6649716e+00, -1.8893924e+00, -1.4227524e+00,  1.3788048e+00,\n",
       "           1.0393449e+00, -1.8591654e+00, -6.3662076e-01, -7.5218934e-01,\n",
       "          -1.1515261e+00,  1.8995789e-01, -7.8539979e-01,  2.1442111e+00],\n",
       "         [-4.1710484e-01, -1.2201507e+00, -1.2534544e+00, -1.0682003e+00,\n",
       "          -8.1424379e-01,  6.8510872e-01,  1.2776997e+00,  3.7213996e-01,\n",
       "           1.0393449e+00,  4.1634712e-01, -9.8935878e-01, -7.5218934e-01,\n",
       "          -1.1515261e+00,  1.8995789e-01, -7.8539979e-01,  2.1442111e+00],\n",
       "         [-4.7806266e-01, -1.2201507e+00, -1.2534544e+00, -1.0682003e+00,\n",
       "          -8.1424379e-01,  6.8510872e-01,  1.2776997e+00,  3.7213996e-01,\n",
       "           1.0393449e+00,  4.1634712e-01, -9.8935878e-01, -7.5218934e-01,\n",
       "          -1.1515261e+00,  1.8995789e-01, -7.8539979e-01,  2.1442111e+00],\n",
       "         [ 2.5866892e+00, -1.4564240e+00, -1.5297326e+00, -1.5326163e+00,\n",
       "           8.7027711e-01,  1.5506436e-01, -9.8002248e-02,  4.8399162e-01,\n",
       "          -1.4766151e-01,  4.1634712e-01, -1.0751367e-01, -7.5218934e-01,\n",
       "          -1.1515261e+00,  1.8995789e-01, -7.8539979e-01,  2.1442111e+00],\n",
       "         [-4.8195359e-01, -1.2201507e+00, -1.2534544e+00, -1.0682003e+00,\n",
       "          -8.1424379e-01,  6.8510872e-01,  1.2776997e+00,  3.7213996e-01,\n",
       "           1.0393449e+00,  4.1634712e-01, -9.8935878e-01, -7.5218934e-01,\n",
       "          -1.1515261e+00,  1.8995789e-01, -7.8539979e-01,  2.1442111e+00],\n",
       "         [-5.6106907e-01, -7.4760419e-01, -9.7717619e-01, -1.2230057e+00,\n",
       "          -3.6649716e+00, -1.8893924e+00, -1.4227524e+00,  1.3788048e+00,\n",
       "           1.0393449e+00, -1.8591654e+00, -6.3662076e-01, -7.5218934e-01,\n",
       "          -1.1515261e+00,  1.8995789e-01, -7.8539979e-01,  2.1442111e+00],\n",
       "         [-5.0270516e-01, -1.3382874e+00, -1.3915935e+00, -1.3778110e+00,\n",
       "          -2.3691862e+00, -6.0214186e-01,  3.9016048e-03, -5.2267325e-01,\n",
       "           1.9148320e-01,  8.7144965e-01, -1.9569819e-01, -7.5218934e-01,\n",
       "          -1.1515261e+00,  1.8995789e-01, -7.8539979e-01,  2.1442111e+00],\n",
       "         [-5.6106907e-01, -7.4760419e-01, -1.1153153e+00, -1.3778110e+00,\n",
       "          -2.4987648e+00, -1.8893924e+00, -1.5246562e+00,  1.6025081e+00,\n",
       "           1.0393449e+00, -1.8591654e+00, -4.6025172e-01, -7.5218934e-01,\n",
       "          -1.1515261e+00,  1.8995789e-01, -7.8539979e-01,  2.1442111e+00],\n",
       "         [-3.2242566e-01, -6.2946755e-01, -9.7717619e-01, -1.3778110e+00,\n",
       "          -3.1466575e+00, -2.2679956e+00, -1.4737042e+00, -1.8711828e-01,\n",
       "           3.6105555e-01, -4.9385792e-01, -1.9593885e+00, -7.5218934e-01,\n",
       "          -1.1515261e+00,  1.8995789e-01, -7.8539979e-01,  2.1442111e+00],\n",
       "         [ 1.4466482e+00, -1.2201507e+00, -1.2534544e+00, -1.0682003e+00,\n",
       "          -8.1424379e-01,  6.8510872e-01,  1.2776997e+00,  3.7213996e-01,\n",
       "           1.0393449e+00,  4.1634712e-01, -9.8935878e-01, -7.5218934e-01,\n",
       "          -1.1515261e+00,  1.8995789e-01, -7.8539979e-01,  2.1442111e+00],\n",
       "         [-6.6612405e-01, -1.2201507e+00, -1.2534544e+00, -1.0682003e+00,\n",
       "          -8.1424379e-01,  6.8510872e-01,  1.2776997e+00,  3.7213996e-01,\n",
       "           1.0393449e+00,  4.1634712e-01, -9.8935878e-01, -7.5218934e-01,\n",
       "          -1.1515261e+00,  1.8995789e-01, -7.8539979e-01,  2.1442111e+00],\n",
       "         [ 3.4162554e-01, -7.4760419e-01, -1.1153153e+00, -1.3778110e+00,\n",
       "          -2.4987648e+00, -1.8893924e+00, -1.5246562e+00,  1.6025081e+00,\n",
       "           1.0393449e+00, -1.8591654e+00, -4.6025172e-01, -7.5218934e-01,\n",
       "          -1.1515261e+00,  1.8995789e-01, -7.8539979e-01,  2.1442111e+00]],\n",
       "        dtype=float32)]]"
      ]
     },
     "execution_count": 104,
     "metadata": {},
     "output_type": "execute_result"
    }
   ],
   "source": [
    "[map_train[:12], map_train[12:]]"
   ]
  },
  {
   "cell_type": "code",
   "execution_count": 105,
   "metadata": {},
   "outputs": [
    {
     "data": {
      "text/plain": [
       "array([[0.20192393, 0.96050139, 0.62173128],\n",
       "       [0.5486503 , 0.22572067, 0.31411235],\n",
       "       [0.56502138, 0.9539454 , 0.61835525],\n",
       "       [0.93680245, 0.36742782, 0.72117127],\n",
       "       [0.58547176, 0.7111101 , 0.48867366],\n",
       "       [0.70881527, 0.56127437, 0.02590355],\n",
       "       [0.8798635 , 0.1992443 , 0.63033044],\n",
       "       [0.17521963, 0.35697165, 0.45377577],\n",
       "       [0.41689402, 0.95769188, 0.52814001],\n",
       "       [0.14653428, 0.3685551 , 0.18549803]])"
      ]
     },
     "execution_count": 105,
     "metadata": {},
     "output_type": "execute_result"
    }
   ],
   "source": [
    "np.random.random(size=(10,3))"
   ]
  },
  {
   "cell_type": "code",
   "execution_count": 106,
   "metadata": {},
   "outputs": [
    {
     "data": {
      "text/plain": [
       "array([3, 2, 1, 2, 3, 1, 3, 0, 1, 1])"
      ]
     },
     "execution_count": 106,
     "metadata": {},
     "output_type": "execute_result"
    }
   ],
   "source": [
    "np.random.randint(0,4,10)"
   ]
  },
  {
   "cell_type": "markdown",
   "metadata": {},
   "source": [
    "lista1 = [1,2,3,4,5,6,7,8,9,10]"
   ]
  },
  {
   "cell_type": "code",
   "execution_count": 107,
   "metadata": {},
   "outputs": [
    {
     "ename": "NameError",
     "evalue": "name 'lista1' is not defined",
     "output_type": "error",
     "traceback": [
      "\u001b[1;31m---------------------------------------------------------------------------\u001b[0m",
      "\u001b[1;31mNameError\u001b[0m                                 Traceback (most recent call last)",
      "\u001b[1;32m<ipython-input-107-b06aee9c256f>\u001b[0m in \u001b[0;36m<module>\u001b[1;34m\u001b[0m\n\u001b[1;32m----> 1\u001b[1;33m \u001b[1;33m[\u001b[0m\u001b[0mlista1\u001b[0m\u001b[1;33m[\u001b[0m\u001b[1;33m:\u001b[0m\u001b[1;36m4\u001b[0m\u001b[1;33m]\u001b[0m\u001b[1;33m,\u001b[0m \u001b[0mlista1\u001b[0m\u001b[1;33m[\u001b[0m\u001b[1;36m4\u001b[0m\u001b[1;33m:\u001b[0m\u001b[1;33m]\u001b[0m\u001b[1;33m]\u001b[0m\u001b[1;33m\u001b[0m\u001b[1;33m\u001b[0m\u001b[0m\n\u001b[0m",
      "\u001b[1;31mNameError\u001b[0m: name 'lista1' is not defined"
     ]
    }
   ],
   "source": [
    "[lista1[:4], lista1[4:]]"
   ]
  },
  {
   "cell_type": "code",
   "execution_count": 108,
   "metadata": {},
   "outputs": [
    {
     "data": {
      "text/plain": [
       "759904"
      ]
     },
     "execution_count": 108,
     "metadata": {},
     "output_type": "execute_result"
    }
   ],
   "source": [
    "len(map_train[0])"
   ]
  },
  {
   "cell_type": "code",
   "execution_count": 109,
   "metadata": {},
   "outputs": [
    {
     "data": {
      "text/plain": [
       "23"
      ]
     },
     "execution_count": 109,
     "metadata": {},
     "output_type": "execute_result"
    }
   ],
   "source": [
    "len(map_train)"
   ]
  },
  {
   "cell_type": "code",
   "execution_count": 110,
   "metadata": {},
   "outputs": [
    {
     "name": "stdout",
     "output_type": "stream",
     "text": [
      "Epoch 1/25\n",
      "5937/5937 [==============================] - 91s 15ms/step - loss: 0.0119 - val_loss: 0.0111\n",
      "Epoch 2/25\n",
      "5937/5937 [==============================] - 104s 18ms/step - loss: 0.0081 - val_loss: 0.0105\n",
      "Epoch 3/25\n",
      "5937/5937 [==============================] - 113s 19ms/step - loss: 0.0071 - val_loss: 0.0102\n",
      "Epoch 4/25\n",
      "5937/5937 [==============================] - 120s 20ms/step - loss: 0.0067 - val_loss: 0.0102\n",
      "Epoch 5/25\n",
      "5937/5937 [==============================] - 125s 21ms/step - loss: 0.0066 - val_loss: 0.0098\n",
      "Epoch 6/25\n",
      "5937/5937 [==============================] - 133s 22ms/step - loss: 0.0064 - val_loss: 0.0099\n",
      "Epoch 7/25\n",
      "5937/5937 [==============================] - 136s 23ms/step - loss: 0.0063 - val_loss: 0.0102\n",
      "Epoch 8/25\n",
      "5937/5937 [==============================] - 134s 23ms/step - loss: 0.0062 - val_loss: 0.0101\n",
      "Epoch 9/25\n",
      "5937/5937 [==============================] - 137s 23ms/step - loss: 0.0062 - val_loss: 0.0100\n",
      "Epoch 10/25\n",
      "5937/5937 [==============================] - 144s 24ms/step - loss: 0.0061 - val_loss: 0.0102\n",
      "Epoch 11/25\n",
      "5937/5937 [==============================] - 137s 23ms/step - loss: 0.0061 - val_loss: 0.0099\n",
      "Epoch 12/25\n",
      "5937/5937 [==============================] - 138s 23ms/step - loss: 0.0060 - val_loss: 0.0102\n",
      "Epoch 13/25\n",
      "5937/5937 [==============================] - 138s 23ms/step - loss: 0.0060 - val_loss: 0.0099\n",
      "Epoch 14/25\n",
      "5937/5937 [==============================] - 137s 23ms/step - loss: 0.0060 - val_loss: 0.0099\n",
      "Epoch 15/25\n",
      "5937/5937 [==============================] - 139s 23ms/step - loss: 0.0060 - val_loss: 0.0102\n",
      "Epoch 16/25\n",
      "5937/5937 [==============================] - 137s 23ms/step - loss: 0.0059 - val_loss: 0.0100\n",
      "Epoch 17/25\n",
      "5937/5937 [==============================] - 137s 23ms/step - loss: 0.0059 - val_loss: 0.0101\n",
      "Epoch 18/25\n",
      "5937/5937 [==============================] - 135s 23ms/step - loss: 0.0059 - val_loss: 0.0103\n",
      "Epoch 19/25\n",
      "5937/5937 [==============================] - 134s 23ms/step - loss: 0.0059 - val_loss: 0.0102\n",
      "Epoch 20/25\n",
      "5937/5937 [==============================] - 135s 23ms/step - loss: 0.0058 - val_loss: 0.0104\n",
      "Epoch 21/25\n",
      "5937/5937 [==============================] - 134s 23ms/step - loss: 0.0058 - val_loss: 0.0100\n",
      "Epoch 22/25\n",
      "5937/5937 [==============================] - 137s 23ms/step - loss: 0.0058 - val_loss: 0.0100\n",
      "Epoch 23/25\n",
      "5937/5937 [==============================] - 136s 23ms/step - loss: 0.0058 - val_loss: 0.0099\n",
      "Epoch 24/25\n",
      "5937/5937 [==============================] - 132s 22ms/step - loss: 0.0058 - val_loss: 0.0102\n",
      "Epoch 25/25\n",
      "5937/5937 [==============================] - 133s 22ms/step - loss: 0.0058 - val_loss: 0.0098\n"
     ]
    }
   ],
   "source": [
    "hist = model.fit(map_train, y_train, batch_size=128, epochs=25,\n",
    "                 verbose=1, validation_data=(map_valid, y_valid))"
   ]
  },
  {
   "cell_type": "code",
   "execution_count": 111,
   "metadata": {},
   "outputs": [
    {
     "name": "stdout",
     "output_type": "stream",
     "text": [
      "83/83 [==============================] - 1s 15ms/step\n"
     ]
    }
   ],
   "source": [
    "preds = np.squeeze(model.predict(map_valid, 1024, verbose=1))"
   ]
  },
  {
   "cell_type": "code",
   "execution_count": 112,
   "metadata": {},
   "outputs": [
    {
     "ename": "NameError",
     "evalue": "name 'ystd' is not defined",
     "output_type": "error",
     "traceback": [
      "\u001b[1;31m---------------------------------------------------------------------------\u001b[0m",
      "\u001b[1;31mNameError\u001b[0m                                 Traceback (most recent call last)",
      "\u001b[1;32m<ipython-input-112-2aaaecc83f47>\u001b[0m in \u001b[0;36m<module>\u001b[1;34m\u001b[0m\n\u001b[1;32m----> 1\u001b[1;33m \u001b[0mnormalize_inv\u001b[0m\u001b[1;33m(\u001b[0m\u001b[0mpreds\u001b[0m\u001b[1;33m)\u001b[0m\u001b[1;33m\u001b[0m\u001b[1;33m\u001b[0m\u001b[0m\n\u001b[0m",
      "\u001b[1;32m<ipython-input-89-0640878f98e0>\u001b[0m in \u001b[0;36mnormalize_inv\u001b[1;34m(preds)\u001b[0m\n\u001b[0;32m      1\u001b[0m \u001b[1;32mdef\u001b[0m \u001b[0mnormalize_inv\u001b[0m\u001b[1;33m(\u001b[0m\u001b[0mpreds\u001b[0m\u001b[1;33m)\u001b[0m\u001b[1;33m:\u001b[0m\u001b[1;33m\u001b[0m\u001b[1;33m\u001b[0m\u001b[0m\n\u001b[1;32m----> 2\u001b[1;33m     \u001b[1;32mreturn\u001b[0m \u001b[0mpreds\u001b[0m \u001b[1;33m*\u001b[0m \u001b[0mystd\u001b[0m \u001b[1;33m+\u001b[0m \u001b[0mymean\u001b[0m\u001b[1;33m\u001b[0m\u001b[1;33m\u001b[0m\u001b[0m\n\u001b[0m",
      "\u001b[1;31mNameError\u001b[0m: name 'ystd' is not defined"
     ]
    }
   ],
   "source": [
    "normalize_inv(preds)"
   ]
  },
  {
   "cell_type": "code",
   "execution_count": 120,
   "metadata": {},
   "outputs": [
    {
     "name": "stdout",
     "output_type": "stream",
     "text": [
      "1284/1284 [==============================] - 6s 5ms/step\n"
     ]
    }
   ],
   "source": [
    "preds_test = np.squeeze(model.predict(map_test, verbose=1))"
   ]
  },
  {
   "cell_type": "code",
   "execution_count": 113,
   "metadata": {},
   "outputs": [],
   "source": [
    "model.save_weights('trained_weights.hdf5')"
   ]
  },
  {
   "cell_type": "code",
   "execution_count": 116,
   "metadata": {},
   "outputs": [
    {
     "data": {
      "text/plain": [
       "[<matplotlib.lines.Line2D at 0xd77930730>]"
      ]
     },
     "execution_count": 116,
     "metadata": {},
     "output_type": "execute_result"
    },
    {
     "data": {
      "image/png": "[encoded data removed]",
      "text/plain": [
       "<Figure size 432x288 with 1 Axes>"
      ]
     },
     "metadata": {
      "needs_background": "light"
     },
     "output_type": "display_data"
    }
   ],
   "source": [
    "plt.plot(hist.history['val_loss'])\n",
    "plt.plot(hist.history['loss'])"
   ]
  },
  {
   "cell_type": "code",
   "execution_count": 117,
   "metadata": {},
   "outputs": [],
   "source": [
    "def log_max_inv(preds, mx = max_log_y):\n",
    "    return np.exp(preds * mx)"
   ]
  },
  {
   "cell_type": "code",
   "execution_count": 118,
   "metadata": {},
   "outputs": [
    {
     "name": "stdout",
     "output_type": "stream",
     "text": [
      "6568.476\n",
      "7955.999999999996\n",
      "0.1743996890122231\n"
     ]
    }
   ],
   "source": [
    "print(log_max_inv(preds, max_log_y)[0])\n",
    "print(log_max_inv(y_valid, max_log_y)[0])\n",
    "print(math.sqrt(np.square(((log_max_inv(preds, max_log_y)[0] - log_max_inv(y_valid, max_log_y)[0])/log_max_inv(y_valid, max_log_y)[0]).mean())))"
   ]
  },
  {
   "cell_type": "code",
   "execution_count": 119,
   "metadata": {},
   "outputs": [
    {
     "name": "stdout",
     "output_type": "stream",
     "text": [
      "[ 6568.476   8758.239   4729.9683  7416.6646  5806.5415  4910.66\n",
      "  5984.117   7140.2817  5094.0215  6452.6636  9326.851   7396.8228\n",
      "  6763.8555  4783.734   6866.139   4942.472   8009.398   5015.486\n",
      "  3560.537   6323.858  ...  5826.861  19023.127   4707.4766  5457.5195\n",
      " 10039.38   26654.287   3675.856   3397.5205  3940.5427  9337.708\n",
      "  3838.0398  3708.1396  2352.7239 10823.34    5761.69    3915.8103\n",
      " 10401.271   5366.175   5349.4204  6830.102 ]\n"
     ]
    }
   ],
   "source": [
    "preds_log_max_inv = log_max_inv(preds, max_log_y)\n",
    "print(preds_log_max_inv)"
   ]
  },
  {
   "cell_type": "code",
   "execution_count": 121,
   "metadata": {},
   "outputs": [
    {
     "name": "stdout",
     "output_type": "stream",
     "text": [
      "[ 3998.2937  7287.398   8564.776   7228.212   7654.6055  5507.693\n",
      "  6988.3335  7952.6562  4850.594   5763.4595  6796.7163  7950.4873\n",
      "  7230.232   9048.3545  5839.0767  4675.2056  5657.285  10058.748\n",
      " 10723.903   9662.266  ...  7369.9463 14676.54    6596.996   5869.846\n",
      "  7901.5894  8992.146   3523.8076  8963.404   7332.3203  5730.2905\n",
      "  6735.3594  5196.994   3222.0962  5457.9414  4278.577   3001.5486\n",
      "  8522.164   6200.7275 25600.88    7838.304 ]\n"
     ]
    }
   ],
   "source": [
    "#Idem test\n",
    "preds_test_log_max_inv = log_max_inv(preds_test, max_log_y)\n",
    "print(preds_test_log_max_inv)"
   ]
  },
  {
   "cell_type": "code",
   "execution_count": null,
   "metadata": {},
   "outputs": [],
   "source": [
    "y_valid_array =  log_max_inv(np.array(y_valid), max_log_y)\n",
    "print(y_valid_array)"
   ]
  },
  {
   "cell_type": "code",
   "execution_count": null,
   "metadata": {},
   "outputs": [],
   "source": [
    "print(np.sqrt(np.mean(np.square((preds_log_max_inv - y_valid_array)/y_valid_array))))"
   ]
  },
  {
   "cell_type": "code",
   "execution_count": 115,
   "metadata": {},
   "outputs": [
    {
     "name": "stdout",
     "output_type": "stream",
     "text": [
      "1284/1284 [==============================] - 6s 5ms/step\n"
     ]
    },
    {
     "ename": "NameError",
     "evalue": "name 'y_max' is not defined",
     "output_type": "error",
     "traceback": [
      "\u001b[1;31m---------------------------------------------------------------------------\u001b[0m",
      "\u001b[1;31mNameError\u001b[0m                                 Traceback (most recent call last)",
      "\u001b[1;32m<ipython-input-115-2a83629d18e7>\u001b[0m in \u001b[0;36m<module>\u001b[1;34m\u001b[0m\n\u001b[1;32m----> 1\u001b[1;33m \u001b[0my_pred_test\u001b[0m \u001b[1;33m=\u001b[0m \u001b[0mmodel\u001b[0m\u001b[1;33m.\u001b[0m\u001b[0mpredict\u001b[0m\u001b[1;33m(\u001b[0m\u001b[0mmap_test\u001b[0m\u001b[1;33m,\u001b[0m \u001b[0mverbose\u001b[0m\u001b[1;33m=\u001b[0m\u001b[1;36m1\u001b[0m\u001b[1;33m)\u001b[0m\u001b[1;33m[\u001b[0m\u001b[1;33m:\u001b[0m\u001b[1;33m,\u001b[0m\u001b[1;36m0\u001b[0m\u001b[1;33m]\u001b[0m\u001b[1;33m*\u001b[0m\u001b[0my_max\u001b[0m\u001b[1;33m\u001b[0m\u001b[1;33m\u001b[0m\u001b[0m\n\u001b[0m",
      "\u001b[1;31mNameError\u001b[0m: name 'y_max' is not defined"
     ]
    }
   ],
   "source": [
    "y_pred_test = model.predict(map_test, verbose=1)[:,0]*y_max"
   ]
  },
  {
   "cell_type": "code",
   "execution_count": 127,
   "metadata": {},
   "outputs": [],
   "source": [
    "import os\n",
    "cwd = os.getcwd()"
   ]
  },
  {
   "cell_type": "code",
   "execution_count": 128,
   "metadata": {},
   "outputs": [
    {
     "data": {
      "text/plain": [
       "'C:\\\\Users\\\\Patricio\\\\deep-learning\\\\Machine-Learning\\\\Laboratorio-Metodos de ensamble\\\\dataset\\\\rossmann'"
      ]
     },
     "execution_count": 128,
     "metadata": {},
     "output_type": "execute_result"
    }
   ],
   "source": [
    "cwd"
   ]
  },
  {
   "cell_type": "code",
   "execution_count": 130,
   "metadata": {},
   "outputs": [],
   "source": [
    "sample_csv = pd.read_csv('sample_submission.csv')\n",
    "sample_csv['Sales'] = preds_test_log_max_inv\n",
    "sample_csv.head()\n",
    "\n",
    "sample_csv.to_csv('rossmann_NN_video.csv', index=False)"
   ]
  },
  {
   "cell_type": "markdown",
   "metadata": {},
   "source": [
    "# XGBoost"
   ]
  },
  {
   "cell_type": "code",
   "execution_count": 172,
   "metadata": {},
   "outputs": [],
   "source": [
    "import xgboost as xgb\n",
    "from xgboost.sklearn import XGBRegressor"
   ]
  },
  {
   "cell_type": "code",
   "execution_count": 173,
   "metadata": {},
   "outputs": [
    {
     "data": {
      "text/plain": [
       "XGBRegressor(base_score=None, booster=None, colsample_bylevel=None,\n",
       "             colsample_bynode=None, colsample_bytree=None, gamma=0.005,\n",
       "             gpu_id=None, importance_type='gain', interaction_constraints=None,\n",
       "             learning_rate=0.25, max_delta_step=None, max_depth=8,\n",
       "             min_child_weight=None, missing=nan, monotone_constraints=None,\n",
       "             n_estimators=4000, n_jobs=12, num_parallel_tree=None,\n",
       "             random_state=None, reg_alpha=None, reg_lambda=None,\n",
       "             scale_pos_weight=None, subsample=None, tree_method=None,\n",
       "             validate_parameters=None, verbosity=None)"
      ]
     },
     "execution_count": 173,
     "metadata": {},
     "output_type": "execute_result"
    }
   ],
   "source": [
    "n_estimators=4000\n",
    "learning_rate=0.25\n",
    "model = XGBRegressor(n_estimators=n_estimators, learning_rate=learning_rate, \n",
    "                     objective='reg:squarederror', n_jobs=12, max_depth=8, gamma=0.005)\n",
    "model"
   ]
  },
  {
   "cell_type": "code",
   "execution_count": 176,
   "metadata": {},
   "outputs": [],
   "source": [
    "fit_params={\"early_stopping_rounds\":100, \n",
    "            \"eval_metric\" : 'rmse', \n",
    "            \"eval_set\" : [(X_valid, y_valid)],\n",
    "            'verbose': 100,\n",
    "           }"
   ]
  },
  {
   "cell_type": "code",
   "execution_count": 177,
   "metadata": {},
   "outputs": [
    {
     "name": "stdout",
     "output_type": "stream",
     "text": [
      "[0]\tvalidation_0-rmse:0.24067\n",
      "[100]\tvalidation_0-rmse:0.01680\n",
      "[200]\tvalidation_0-rmse:0.01570\n",
      "[276]\tvalidation_0-rmse:0.01570\n"
     ]
    },
    {
     "data": {
      "text/plain": [
       "XGBRegressor(base_score=0.5, booster='gbtree', colsample_bylevel=1,\n",
       "             colsample_bynode=1, colsample_bytree=1, gamma=0.005, gpu_id=-1,\n",
       "             importance_type='gain', interaction_constraints='',\n",
       "             learning_rate=0.25, max_delta_step=0, max_depth=8,\n",
       "             min_child_weight=1, missing=nan, monotone_constraints='()',\n",
       "             n_estimators=4000, n_jobs=12, num_parallel_tree=1, random_state=0,\n",
       "             reg_alpha=0, reg_lambda=1, scale_pos_weight=1, subsample=1,\n",
       "             tree_method='exact', validate_parameters=1, verbosity=None)"
      ]
     },
     "execution_count": 177,
     "metadata": {},
     "output_type": "execute_result"
    }
   ],
   "source": [
    "model.fit(X_train, y_train, **fit_params)"
   ]
  },
  {
   "cell_type": "code",
   "execution_count": 178,
   "metadata": {},
   "outputs": [],
   "source": [
    "y_pred_test = np.exp(model.predict(X_test)*max_log_y)"
   ]
  },
  {
   "cell_type": "code",
   "execution_count": 181,
   "metadata": {},
   "outputs": [],
   "source": [
    "sample_csv = pd.read_csv('sample_submission.csv')\n",
    "sample_csv['Sales'] = y_pred_test\n",
    "sample_csv.head()\n",
    "\n",
    "sample_csv.to_csv('rossmann_XGBoost.csv', index=False)"
   ]
  },
  {
   "cell_type": "code",
   "execution_count": null,
   "metadata": {},
   "outputs": [],
   "source": []
  }
 ],
 "metadata": {
  "kernelspec": {
   "display_name": "Python 3",
   "language": "python",
   "name": "python3"
  },
  "language_info": {
   "codemirror_mode": {
    "name": "ipython",
    "version": 3
   },
   "file_extension": ".py",
   "mimetype": "text/x-python",
   "name": "python",
   "nbconvert_exporter": "python",
   "pygments_lexer": "ipython3",
   "version": "3.8.8"
  }
 },
 "nbformat": 4,
 "nbformat_minor": 4
}
