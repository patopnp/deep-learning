{
  "cells": [
    {
      "cell_type": "code",
      "execution_count": null,
      "metadata": {
        "id": "r-mpXuyJT9UO"
      },
      "outputs": [],
      "source": [
        "from keras.datasets import imdb\n",
        "from keras.preprocessing.sequence import pad_sequences\n",
        "import numpy as np\n",
        "import gensim\n",
        "import os, re, csv, math, codecs\n",
        "num_words=30000\n",
        "(training_data, training_targets), (testing_data, testing_targets) = imdb.load_data(num_words=num_words+2,)\n",
        "data = np.concatenate((training_data, testing_data), axis=0)\n",
        "targets = np.concatenate((training_targets, testing_targets), axis=0)"
      ]
    },
    {
      "cell_type": "code",
      "execution_count": null,
      "metadata": {
        "colab": {
          "base_uri": "https://localhost:8080/",
          "height": 53
        },
        "id": "jEiPTqOBT_V7",
        "outputId": "b6f94ccb-8d35-4b8d-bcaa-9dbb3be8da45"
      },
      "outputs": [
        {
          "name": "stdout",
          "output_type": "stream",
          "text": [
            "Categories: [0 1]\n",
            "Number of unique words: 30000\n"
          ]
        }
      ],
      "source": [
        "num_words=len(np.unique(np.hstack(data)))\n",
        "print(\"Categories:\", np.unique(targets))\n",
        "print(\"Number of unique words:\", num_words)"
      ]
    },
    {
      "cell_type": "markdown",
      "metadata": {
        "id": "xSFu-CU_r2QK"
      },
      "source": [
        "Agregar este archivo a la carpeta de google drive\n",
        "\n",
        "https://drive.google.com/open?id=1zgSN39uX3OWxGyqwGDypKxQRokE0_njG"
      ]
    },
    {
      "cell_type": "code",
      "execution_count": null,
      "metadata": {
        "colab": {
          "base_uri": "https://localhost:8080/",
          "height": 127
        },
        "id": "Y9mmn9fpUIY6",
        "outputId": "f08e22a9-cb3a-4a8c-fa44-e20f2e2d2bee"
      },
      "outputs": [
        {
          "name": "stdout",
          "output_type": "stream",
          "text": [
            "Go to this URL in a browser: https://accounts.google.com/o/oauth2/auth?client_id=947318989803-6bn6qk8qdgf4n4g3pfee6491hc0brc4i.apps.googleusercontent.com&redirect_uri=urn%3Aietf%3Awg%3Aoauth%3A2.0%3Aoob&scope=email%20https%3A%2F%2Fwww.googleapis.com%2Fauth%2Fdocs.test%20https%3A%2F%2Fwww.googleapis.com%2Fauth%2Fdrive%20https%3A%2F%2Fwww.googleapis.com%2Fauth%2Fdrive.photos.readonly%20https%3A%2F%2Fwww.googleapis.com%2Fauth%2Fpeopleapi.readonly&response_type=code\n",
            "\n",
            "Enter your authorization code:\n",
            "··········\n",
            "Mounted at /content/drive\n"
          ]
        }
      ],
      "source": [
        "from google.colab import drive\n",
        "drive.mount('/content/drive')"
      ]
    },
    {
      "cell_type": "code",
      "execution_count": null,
      "metadata": {
        "colab": {
          "base_uri": "https://localhost:8080/",
          "height": 53
        },
        "id": "9tOvUY-MUJGH",
        "outputId": "fd50d629-4905-48d9-be97-97653ba702d4"
      },
      "outputs": [
        {
          "name": "stdout",
          "output_type": "stream",
          "text": [
            "Average Review length: 234.75892\n",
            "Standard Deviation: 173.0\n"
          ]
        }
      ],
      "source": [
        "length = [len(i) for i in data]\n",
        "print(\"Average Review length:\", np.mean(length))\n",
        "print(\"Standard Deviation:\", round(np.std(length)))"
      ]
    },
    {
      "cell_type": "code",
      "execution_count": null,
      "metadata": {
        "colab": {
          "base_uri": "https://localhost:8080/",
          "height": 73
        },
        "id": "jHY8EhzvUdzt",
        "outputId": "768ba4b5-a0d1-423e-fbd4-2d084021c1ce"
      },
      "outputs": [
        {
          "name": "stdout",
          "output_type": "stream",
          "text": [
            "Label: 1\n",
            "[1, 14, 22, 16, 43, 530, 973, 1622, 1385, 65, 458, 4468, 66, 3941, 4, 173, 36, 256, 5, 25, 100, 43, 838, 112, 50, 670, 22665, 9, 35, 480, 284, 5, 150, 4, 172, 112, 167, 21631, 336, 385, 39, 4, 172, 4536, 1111, 17, 546, 38, 13, 447, 4, 192, 50, 16, 6, 147, 2025, 19, 14, 22, 4, 1920, 4613, 469, 4, 22, 71, 87, 12, 16, 43, 530, 38, 76, 15, 13, 1247, 4, 22, 17, 515, 17, 12, 16, 626, 18, 19193, 5, 62, 386, 12, 8, 316, 8, 106, 5, 4, 2223, 5244, 16, 480, 66, 3785, 33, 4, 130, 12, 16, 38, 619, 5, 25, 124, 51, 36, 135, 48, 25, 1415, 33, 6, 22, 12, 215, 28, 77, 52, 5, 14, 407, 16, 82, 10311, 8, 4, 107, 117, 5952, 15, 256, 4, 2, 7, 3766, 5, 723, 36, 71, 43, 530, 476, 26, 400, 317, 46, 7, 4, 12118, 1029, 13, 104, 88, 4, 381, 15, 297, 98, 32, 2071, 56, 26, 141, 6, 194, 7486, 18, 4, 226, 22, 21, 134, 476, 26, 480, 5, 144, 30, 5535, 18, 51, 36, 28, 224, 92, 25, 104, 4, 226, 65, 16, 38, 1334, 88, 12, 16, 283, 5, 16, 4472, 113, 103, 32, 15, 16, 5345, 19, 178, 32]\n"
          ]
        }
      ],
      "source": [
        "print(\"Label:\", targets[0])\n",
        "\n",
        "Label: 1\n",
        "print(data[0])"
      ]
    },
    {
      "cell_type": "code",
      "execution_count": null,
      "metadata": {
        "colab": {
          "base_uri": "https://localhost:8080/",
          "height": 91
        },
        "id": "4lY7mGCLUf0M",
        "outputId": "734c4ef5-a66d-4705-c5da-5a21bb7560e8"
      },
      "outputs": [
        {
          "name": "stdout",
          "output_type": "stream",
          "text": [
            "Downloading data from https://s3.amazonaws.com/text-datasets/imdb_word_index.json\n",
            "1646592/1641221 [==============================] - 0s 0us/step\n",
            "# big hair big boobs bad music and a giant safety pin these are the words to best describe this terrible movie i love cheesy horror movies and i've seen hundreds but this had got to be on of the worst ever made the plot is paper thin and ridiculous the acting is an abomination the script is completely laughable the best is the end showdown with the cop and how he worked out who the killer is it's just so damn terribly written the clothes are sickening and funny in equal measures the hair is big lots of boobs bounce men wear those cut tee shirts that show off their stomachs sickening that men actually wore them and the music is just # trash that plays over and over again in almost every scene there is trashy music boobs and paramedics taking away bodies and the gym still doesn't close for # all joking aside this is a truly bad film whose only charm is to look back on the disaster that was the 80's and have a good old laugh at how bad everything was back then\n"
          ]
        }
      ],
      "source": [
        "index = imdb.get_word_index()\n",
        "reverse_index = dict([(value, key) for (key, value) in index.items()]) \n",
        "decoded = \" \".join( [reverse_index.get(i - 3, \"#\") for i in data[1]] )\n",
        "print(decoded)"
      ]
    },
    {
      "cell_type": "code",
      "execution_count": null,
      "metadata": {
        "colab": {
          "base_uri": "https://localhost:8080/",
          "height": 53
        },
        "id": "8Yp9nq3GuKL8",
        "outputId": "1dcd004d-9a7d-40d3-8c8a-d51fe3894571"
      },
      "outputs": [
        {
          "name": "stdout",
          "output_type": "stream",
          "text": [
            "loading word embeddings...\n",
            "found 999995 word vectors\n"
          ]
        }
      ],
      "source": [
        "#load embeddings\n",
        "EMBEDDING_DIR = \"/content/drive/My Drive/ITBA/Lab-NLP/Embeddings/fasttext/\"\n",
        "print('loading word embeddings...')\n",
        "embeddings_index = {}\n",
        "f = codecs.open(EMBEDDING_DIR+'wiki-news-300d-1M.vec', encoding='utf-8')\n",
        "for line in tqdm(f):\n",
        "    values = line.rstrip().rsplit(' ')\n",
        "    word = values[0]\n",
        "    coefs = np.asarray(values[1:], dtype='float32')\n",
        "    embeddings_index[word] = coefs\n",
        "f.close()\n",
        "print('found %s word vectors' % len(embeddings_index))"
      ]
    },
    {
      "cell_type": "code",
      "execution_count": null,
      "metadata": {
        "colab": {
          "base_uri": "https://localhost:8080/",
          "height": 1000
        },
        "id": "SDEVfp7RY489",
        "outputId": "b0b1ca62-5792-4d2f-dcb2-112d6ea2a925"
      },
      "outputs": [
        {
          "data": {
            "text/plain": [
              "array([-1.600e-02, -3.000e-04, -1.684e-01,  8.990e-02, -2.000e-02,\n",
              "       -9.300e-03,  4.820e-02, -3.080e-02, -4.510e-02,  6.000e-04,\n",
              "        1.680e-01,  9.650e-02,  3.061e-01, -4.110e-02,  2.960e-02,\n",
              "       -4.630e-02,  3.250e-02, -7.030e-02,  2.220e-02, -1.404e-01,\n",
              "       -2.638e-01, -1.340e-02,  1.277e-01,  1.227e-01,  1.803e-01,\n",
              "       -1.920e-02,  3.530e-02,  1.214e-01,  1.509e-01, -8.610e-02,\n",
              "        9.760e-02, -2.550e-02, -2.760e-02, -1.556e-01, -7.390e-02,\n",
              "        5.430e-02, -6.700e-02, -3.000e-03,  1.515e-01,  6.080e-02,\n",
              "        3.300e-02,  7.470e-02,  9.000e-04,  5.500e-02,  4.800e-03,\n",
              "       -1.320e-02, -2.620e-02, -1.804e-01,  8.050e-02,  4.640e-02,\n",
              "       -1.590e-02, -3.020e-02, -6.785e-01,  1.632e-01,  1.030e-02,\n",
              "        6.550e-02, -8.430e-02,  2.270e-02,  3.350e-02, -3.560e-02,\n",
              "       -6.380e-02, -1.111e-01, -1.700e-03,  9.780e-02,  5.650e-02,\n",
              "       -3.520e-02,  3.950e-02,  1.867e-01,  7.900e-02, -1.234e-01,\n",
              "        1.860e-02,  8.900e-02,  1.631e-01,  7.830e-02,  5.610e-02,\n",
              "        1.447e-01, -2.510e-02,  1.376e-01, -7.900e-03, -2.390e-02,\n",
              "        2.180e-02,  1.494e-01, -1.910e-02, -2.479e-01, -4.990e-02,\n",
              "        5.160e-02, -1.298e-01, -6.480e-02,  2.738e-01,  7.800e-03,\n",
              "        1.710e-02, -3.720e-02,  7.700e-02, -1.167e-01, -3.770e-02,\n",
              "       -4.320e-02,  1.860e-02,  2.090e-02, -1.670e-02,  3.450e-02,\n",
              "       -1.472e-01,  1.220e-02, -5.300e-02, -7.300e-03,  1.029e-01,\n",
              "        2.830e-02, -1.264e-01,  6.600e-03, -5.790e-02,  1.004e-01,\n",
              "       -1.225e-01,  2.470e-02,  8.080e-02, -3.990e-02, -1.080e-02,\n",
              "        4.300e-03,  1.840e-02,  4.880e-02, -1.740e-01, -3.181e-01,\n",
              "       -1.290e-01,  7.830e-02, -1.382e-01,  5.730e-02,  3.250e-02,\n",
              "        1.704e-01, -1.343e-01,  3.700e-03, -3.040e-02,  4.070e-02,\n",
              "        2.318e-01,  3.930e-02,  1.592e-01, -6.020e-02,  2.730e-02,\n",
              "        1.087e-01, -1.890e-02, -1.030e-01, -1.526e-01, -7.830e-02,\n",
              "       -1.257e-01,  1.261e-01, -8.320e-02,  1.561e-01, -2.254e-01,\n",
              "       -1.236e-01, -1.028e-01,  5.830e-02, -2.990e-02,  1.361e-01,\n",
              "       -4.360e-02, -1.580e-02, -1.210e-02,  1.076e-01, -1.770e-02,\n",
              "       -8.890e-02, -5.300e-03, -4.570e-02, -3.170e-02, -1.454e-01,\n",
              "       -1.237e-01, -8.860e-02, -1.620e-02, -1.603e-01,  5.050e-02,\n",
              "        1.500e-01,  6.970e-02, -7.150e-02, -2.450e-02, -9.900e-03,\n",
              "       -1.832e-01,  4.130e-02, -2.510e-02,  8.450e-02,  2.840e-02,\n",
              "       -1.314e-01,  3.021e-01, -1.812e-01, -7.380e-02, -9.990e-02,\n",
              "       -2.980e-02,  1.508e-01, -4.430e-02,  1.709e-01, -5.490e-02,\n",
              "       -1.333e-01, -4.600e-03,  3.950e-02, -2.540e-01, -6.960e-02,\n",
              "        1.900e-02, -4.140e-02,  7.290e-02,  5.560e-02, -9.210e-02,\n",
              "        9.860e-02,  4.900e-03, -1.271e-01,  9.580e-02, -1.140e-01,\n",
              "       -2.240e-02,  2.000e-02, -1.040e-02, -1.110e-02,  6.400e-03,\n",
              "        6.190e-02, -1.497e-01, -1.185e-01,  5.540e-02,  3.960e-02,\n",
              "        3.090e-02,  3.950e-02, -8.760e-02, -3.060e-02, -1.778e-01,\n",
              "        1.257e-01, -1.570e-01,  1.452e-01, -1.522e-01,  9.800e-03,\n",
              "        9.930e-02, -4.600e-03,  5.230e-02, -9.850e-02,  8.320e-02,\n",
              "       -2.352e-01,  2.050e-02,  1.426e-01, -8.500e-03, -3.160e-02,\n",
              "       -2.550e-02,  6.850e-02,  3.141e-01, -6.370e-02,  7.050e-02,\n",
              "       -1.557e-01, -2.177e-01,  1.380e-02, -2.602e-01,  4.350e-02,\n",
              "       -1.156e-01, -1.420e-02, -1.423e-01, -2.142e-01, -2.310e-02,\n",
              "       -7.290e-02,  1.277e-01, -1.052e-01, -1.444e-01,  4.128e-01,\n",
              "        1.017e-01, -1.077e-01,  7.220e-02, -6.290e-02, -9.490e-02,\n",
              "       -1.079e-01, -6.310e-02, -3.890e-02, -3.510e-02,  9.920e-02,\n",
              "        2.050e-02,  2.151e-01,  9.770e-02, -3.590e-02, -4.316e-01,\n",
              "        1.129e-01, -1.438e-01,  5.300e-03, -1.333e-01, -1.541e-01,\n",
              "        6.910e-02,  1.150e-01, -5.660e-02, -5.000e-03,  1.207e-01,\n",
              "       -6.110e-02, -4.740e-02, -1.151e-01, -2.870e-02,  1.378e-01,\n",
              "       -7.290e-02, -2.170e-02,  1.108e-01,  2.770e-02, -2.010e-02,\n",
              "       -2.236e-01, -1.250e-02, -6.930e-02,  2.340e-02, -2.140e-02,\n",
              "        6.940e-02, -5.070e-02, -5.490e-02, -9.270e-02,  7.020e-02,\n",
              "        1.719e-01, -1.370e-02,  6.800e-03,  1.336e-01,  2.860e-02],\n",
              "      dtype=float32)"
            ]
          },
          "execution_count": 11,
          "metadata": {
            "tags": []
          },
          "output_type": "execute_result"
        }
      ],
      "source": [
        "embeddings_index[\"car\"]"
      ]
    },
    {
      "cell_type": "code",
      "execution_count": null,
      "metadata": {
        "id": "DlY6kxXlUv_b"
      },
      "outputs": [],
      "source": [
        "embed_dim=300\n",
        "embedding_matrix=np.zeros([num_words+4,embed_dim])\n",
        "for word, idx in index.items():\n",
        "  if idx <= num_words and word in embeddings_index:\n",
        "    embedding_matrix[idx+3,:]=embeddings_index[word]"
      ]
    },
    {
      "cell_type": "code",
      "execution_count": null,
      "metadata": {
        "id": "_HdJ8KrrZszC"
      },
      "outputs": [],
      "source": [
        "maxlen=1000"
      ]
    },
    {
      "cell_type": "code",
      "execution_count": null,
      "metadata": {
        "id": "6r9jiL4QarNw"
      },
      "outputs": [],
      "source": [
        "data = pad_sequences(data,maxlen=maxlen)"
      ]
    },
    {
      "cell_type": "code",
      "execution_count": null,
      "metadata": {
        "colab": {
          "base_uri": "https://localhost:8080/",
          "height": 35
        },
        "id": "OiL4twmwas3F",
        "outputId": "42e6eb9c-1b16-42ad-8314-a71673d96b4c"
      },
      "outputs": [
        {
          "data": {
            "text/plain": [
              "1000"
            ]
          },
          "execution_count": 20,
          "metadata": {
            "tags": []
          },
          "output_type": "execute_result"
        }
      ],
      "source": [
        "len(data[0])"
      ]
    },
    {
      "cell_type": "code",
      "execution_count": null,
      "metadata": {
        "colab": {
          "base_uri": "https://localhost:8080/",
          "height": 35
        },
        "id": "XoPdGTyaaudk",
        "outputId": "b243aeb8-e77a-4c18-d29c-bdb5c275ba71"
      },
      "outputs": [
        {
          "data": {
            "text/plain": [
              "1000"
            ]
          },
          "execution_count": 21,
          "metadata": {
            "tags": []
          },
          "output_type": "execute_result"
        }
      ],
      "source": [
        "len(data[1])"
      ]
    },
    {
      "cell_type": "code",
      "execution_count": null,
      "metadata": {
        "id": "H9HdnsE2awBy"
      },
      "outputs": [],
      "source": [
        "data=np.array(data)"
      ]
    },
    {
      "cell_type": "code",
      "execution_count": null,
      "metadata": {
        "colab": {
          "base_uri": "https://localhost:8080/",
          "height": 35
        },
        "id": "ri0xt9ueaxlK",
        "outputId": "d2f846a3-736c-48af-8e81-100c3dea8906"
      },
      "outputs": [
        {
          "data": {
            "text/plain": [
              "(50000, 1000)"
            ]
          },
          "execution_count": 23,
          "metadata": {
            "tags": []
          },
          "output_type": "execute_result"
        }
      ],
      "source": [
        "data.shape"
      ]
    },
    {
      "cell_type": "code",
      "execution_count": null,
      "metadata": {
        "colab": {
          "base_uri": "https://localhost:8080/",
          "height": 1000
        },
        "id": "CjoQz25NazxB",
        "outputId": "a5485671-b44d-4284-c3d9-0a021c135857"
      },
      "outputs": [
        {
          "name": "stdout",
          "output_type": "stream",
          "text": [
            "WARNING:tensorflow:From /usr/local/lib/python3.6/dist-packages/keras/backend/tensorflow_backend.py:66: The name tf.get_default_graph is deprecated. Please use tf.compat.v1.get_default_graph instead.\n",
            "\n",
            "WARNING:tensorflow:From /usr/local/lib/python3.6/dist-packages/keras/backend/tensorflow_backend.py:541: The name tf.placeholder is deprecated. Please use tf.compat.v1.placeholder instead.\n",
            "\n",
            "WARNING:tensorflow:From /usr/local/lib/python3.6/dist-packages/keras/backend/tensorflow_backend.py:4432: The name tf.random_uniform is deprecated. Please use tf.random.uniform instead.\n",
            "\n",
            "WARNING:tensorflow:From /usr/local/lib/python3.6/dist-packages/keras/backend/tensorflow_backend.py:190: The name tf.get_default_session is deprecated. Please use tf.compat.v1.get_default_session instead.\n",
            "\n",
            "WARNING:tensorflow:From /usr/local/lib/python3.6/dist-packages/keras/backend/tensorflow_backend.py:197: The name tf.ConfigProto is deprecated. Please use tf.compat.v1.ConfigProto instead.\n",
            "\n",
            "WARNING:tensorflow:From /usr/local/lib/python3.6/dist-packages/keras/backend/tensorflow_backend.py:203: The name tf.Session is deprecated. Please use tf.compat.v1.Session instead.\n",
            "\n",
            "WARNING:tensorflow:From /usr/local/lib/python3.6/dist-packages/keras/backend/tensorflow_backend.py:207: The name tf.global_variables is deprecated. Please use tf.compat.v1.global_variables instead.\n",
            "\n",
            "WARNING:tensorflow:From /usr/local/lib/python3.6/dist-packages/keras/backend/tensorflow_backend.py:216: The name tf.is_variable_initialized is deprecated. Please use tf.compat.v1.is_variable_initialized instead.\n",
            "\n",
            "WARNING:tensorflow:From /usr/local/lib/python3.6/dist-packages/keras/backend/tensorflow_backend.py:223: The name tf.variables_initializer is deprecated. Please use tf.compat.v1.variables_initializer instead.\n",
            "\n",
            "WARNING:tensorflow:From /usr/local/lib/python3.6/dist-packages/keras/backend/tensorflow_backend.py:4267: The name tf.nn.max_pool is deprecated. Please use tf.nn.max_pool2d instead.\n",
            "\n",
            "WARNING:tensorflow:From /usr/local/lib/python3.6/dist-packages/keras/backend/tensorflow_backend.py:148: The name tf.placeholder_with_default is deprecated. Please use tf.compat.v1.placeholder_with_default instead.\n",
            "\n",
            "WARNING:tensorflow:From /usr/local/lib/python3.6/dist-packages/keras/backend/tensorflow_backend.py:3733: calling dropout (from tensorflow.python.ops.nn_ops) with keep_prob is deprecated and will be removed in a future version.\n",
            "Instructions for updating:\n",
            "Please use `rate` instead of `keep_prob`. Rate should be set to `rate = 1 - keep_prob`.\n",
            "WARNING:tensorflow:From /usr/local/lib/python3.6/dist-packages/keras/optimizers.py:793: The name tf.train.Optimizer is deprecated. Please use tf.compat.v1.train.Optimizer instead.\n",
            "\n",
            "WARNING:tensorflow:From /usr/local/lib/python3.6/dist-packages/keras/backend/tensorflow_backend.py:3657: The name tf.log is deprecated. Please use tf.math.log instead.\n",
            "\n",
            "WARNING:tensorflow:From /usr/local/lib/python3.6/dist-packages/tensorflow_core/python/ops/nn_impl.py:183: where (from tensorflow.python.ops.array_ops) is deprecated and will be removed in a future version.\n",
            "Instructions for updating:\n",
            "Use tf.where in 2.0, which has the same broadcast rule as np.where\n",
            "Model: \"sequential_1\"\n",
            "_________________________________________________________________\n",
            "Layer (type)                 Output Shape              Param #   \n",
            "=================================================================\n",
            "embedding_1 (Embedding)      (None, 1000, 300)         9001200   \n",
            "_________________________________________________________________\n",
            "conv1d_1 (Conv1D)            (None, 1000, 64)          134464    \n",
            "_________________________________________________________________\n",
            "max_pooling1d_1 (MaxPooling1 (None, 500, 64)           0         \n",
            "_________________________________________________________________\n",
            "conv1d_2 (Conv1D)            (None, 500, 128)          57472     \n",
            "_________________________________________________________________\n",
            "global_max_pooling1d_1 (Glob (None, 128)               0         \n",
            "_________________________________________________________________\n",
            "dropout_1 (Dropout)          (None, 128)               0         \n",
            "_________________________________________________________________\n",
            "dense_1 (Dense)              (None, 32)                4128      \n",
            "_________________________________________________________________\n",
            "dense_2 (Dense)              (None, 1)                 33        \n",
            "=================================================================\n",
            "Total params: 9,197,297\n",
            "Trainable params: 196,097\n",
            "Non-trainable params: 9,001,200\n",
            "_________________________________________________________________\n"
          ]
        }
      ],
      "source": [
        "from keras.layers import Embedding, Conv1D, MaxPooling1D, GlobalMaxPooling1D, Dropout, Dense\n",
        "from keras.models import Sequential\n",
        "from keras import optimizers\n",
        "nb_words=num_words+4\n",
        "num_filters=64\n",
        "model = Sequential()\n",
        "model.add(Embedding(nb_words, embed_dim, weights=[embedding_matrix], input_length=maxlen, trainable=False))\n",
        "model.add(Conv1D(num_filters, 7, activation='relu', padding='same'))\n",
        "model.add(MaxPooling1D(2))\n",
        "model.add(Conv1D(num_filters*2, 7, activation='relu', padding='same'))\n",
        "model.add(GlobalMaxPooling1D())\n",
        "model.add(Dropout(0.5))\n",
        "model.add(Dense(32, activation='relu'))\n",
        "model.add(Dense(1, activation='sigmoid'))  #multi-label (k-hot encoding)\n",
        "\n",
        "adam = optimizers.Adam(lr=0.001, beta_1=0.9, beta_2=0.999, epsilon=1e-08, decay=0.0)\n",
        "model.compile(loss='binary_crossentropy', optimizer=adam, metrics=['accuracy'])\n",
        "model.summary()"
      ]
    },
    {
      "cell_type": "code",
      "execution_count": null,
      "metadata": {
        "colab": {
          "base_uri": "https://localhost:8080/",
          "height": 865
        },
        "id": "fnkm8psrbO3A",
        "outputId": "b3a3bac8-1354-41c8-c6fd-7b589e5a739c"
      },
      "outputs": [
        {
          "name": "stdout",
          "output_type": "stream",
          "text": [
            "WARNING:tensorflow:From /usr/local/lib/python3.6/dist-packages/keras/backend/tensorflow_backend.py:1033: The name tf.assign_add is deprecated. Please use tf.compat.v1.assign_add instead.\n",
            "\n",
            "WARNING:tensorflow:From /usr/local/lib/python3.6/dist-packages/keras/backend/tensorflow_backend.py:1020: The name tf.assign is deprecated. Please use tf.compat.v1.assign instead.\n",
            "\n",
            "Train on 40000 samples, validate on 10000 samples\n",
            "Epoch 1/20\n",
            "40000/40000 [==============================] - 34s 851us/step - loss: 0.3868 - acc: 0.8236 - val_loss: 0.2666 - val_acc: 0.8876\n",
            "Epoch 2/20\n",
            "40000/40000 [==============================] - 30s 758us/step - loss: 0.2732 - acc: 0.8872 - val_loss: 0.2487 - val_acc: 0.8994\n",
            "Epoch 3/20\n",
            "40000/40000 [==============================] - 30s 754us/step - loss: 0.2255 - acc: 0.9096 - val_loss: 0.2420 - val_acc: 0.9000\n",
            "Epoch 4/20\n",
            "40000/40000 [==============================] - 30s 756us/step - loss: 0.1846 - acc: 0.9272 - val_loss: 0.2429 - val_acc: 0.9012\n",
            "Epoch 5/20\n",
            "40000/40000 [==============================] - 30s 757us/step - loss: 0.1577 - acc: 0.9392 - val_loss: 0.2783 - val_acc: 0.8908\n",
            "Epoch 6/20\n",
            "40000/40000 [==============================] - 30s 754us/step - loss: 0.1271 - acc: 0.9524 - val_loss: 0.2612 - val_acc: 0.9004\n",
            "Epoch 7/20\n",
            "40000/40000 [==============================] - 30s 759us/step - loss: 0.1036 - acc: 0.9617 - val_loss: 0.2966 - val_acc: 0.8990\n",
            "Epoch 8/20\n",
            "40000/40000 [==============================] - 30s 756us/step - loss: 0.0854 - acc: 0.9686 - val_loss: 0.3340 - val_acc: 0.8874\n",
            "Epoch 9/20\n",
            "40000/40000 [==============================] - 30s 757us/step - loss: 0.0739 - acc: 0.9730 - val_loss: 0.3527 - val_acc: 0.8972\n",
            "Epoch 10/20\n",
            "40000/40000 [==============================] - 30s 758us/step - loss: 0.0637 - acc: 0.9757 - val_loss: 0.3824 - val_acc: 0.8902\n",
            "Epoch 11/20\n",
            "40000/40000 [==============================] - 30s 757us/step - loss: 0.0528 - acc: 0.9812 - val_loss: 0.4154 - val_acc: 0.8956\n",
            "Epoch 12/20\n",
            "40000/40000 [==============================] - 30s 756us/step - loss: 0.0530 - acc: 0.9812 - val_loss: 0.4043 - val_acc: 0.8946\n",
            "Epoch 13/20\n",
            "40000/40000 [==============================] - 30s 759us/step - loss: 0.0445 - acc: 0.9835 - val_loss: 0.4797 - val_acc: 0.8922\n",
            "Epoch 14/20\n",
            "40000/40000 [==============================] - 30s 757us/step - loss: 0.0411 - acc: 0.9848 - val_loss: 0.4840 - val_acc: 0.8933\n",
            "Epoch 15/20\n",
            "40000/40000 [==============================] - 30s 758us/step - loss: 0.0386 - acc: 0.9860 - val_loss: 0.4747 - val_acc: 0.8985\n",
            "Epoch 16/20\n",
            "40000/40000 [==============================] - 30s 757us/step - loss: 0.0362 - acc: 0.9859 - val_loss: 0.5010 - val_acc: 0.8960\n",
            "Epoch 17/20\n",
            "40000/40000 [==============================] - 30s 760us/step - loss: 0.0348 - acc: 0.9873 - val_loss: 0.4519 - val_acc: 0.8933\n",
            "Epoch 18/20\n",
            "40000/40000 [==============================] - 30s 758us/step - loss: 0.0326 - acc: 0.9884 - val_loss: 0.4976 - val_acc: 0.8927\n",
            "Epoch 19/20\n",
            "40000/40000 [==============================] - 30s 757us/step - loss: 0.0294 - acc: 0.9893 - val_loss: 0.5397 - val_acc: 0.8897\n",
            "Epoch 20/20\n",
            "40000/40000 [==============================] - 30s 755us/step - loss: 0.0295 - acc: 0.9896 - val_loss: 0.5469 - val_acc: 0.8946\n"
          ]
        },
        {
          "data": {
            "text/plain": [
              "<keras.callbacks.History at 0x7fc8b06c49b0>"
            ]
          },
          "execution_count": 25,
          "metadata": {
            "tags": []
          },
          "output_type": "execute_result"
        }
      ],
      "source": [
        "model.fit(data,targets,batch_size=32,epochs=20,validation_split=0.2)"
      ]
    },
    {
      "cell_type": "code",
      "execution_count": null,
      "metadata": {
        "colab": {
          "base_uri": "https://localhost:8080/",
          "height": 251
        },
        "id": "WymZVTH8b4lQ",
        "outputId": "14d43313-7f02-4faa-dd58-1d30102c9f95"
      },
      "outputs": [
        {
          "data": {
            "text/plain": [
              "array([[ 0.        ,  0.        ,  0.        , ...,  0.        ,\n",
              "         0.        ,  0.        ],\n",
              "       [ 0.08007812,  0.10498047,  0.04980469, ...,  0.00366211,\n",
              "         0.04760742, -0.06884766],\n",
              "       [ 0.        ,  0.        ,  0.        , ...,  0.        ,\n",
              "         0.        ,  0.        ],\n",
              "       ...,\n",
              "       [ 0.13378906,  0.1640625 , -0.17382812, ..., -0.25585938,\n",
              "        -0.11669922,  0.08984375],\n",
              "       [-0.12353516,  0.21777344, -0.578125  , ...,  0.12695312,\n",
              "         0.20507812, -0.00543213],\n",
              "       [-0.2265625 , -0.05151367,  0.14941406, ..., -0.19238281,\n",
              "         0.01190186, -0.06542969]])"
            ]
          },
          "execution_count": 58,
          "metadata": {
            "tags": []
          },
          "output_type": "execute_result"
        }
      ],
      "source": [
        "embedding_matrix"
      ]
    },
    {
      "cell_type": "code",
      "execution_count": null,
      "metadata": {
        "id": "wCaQWMIVdSiI"
      },
      "outputs": [],
      "source": [
        ""
      ]
    }
  ],
  "metadata": {
    "accelerator": "GPU",
    "colab": {
      "machine_shape": "hm",
      "name": "Fasttext - Embeddings.ipynb",
      "provenance": []
    },
    "kernelspec": {
      "display_name": "Python 3",
      "language": "python",
      "name": "python3"
    },
    "language_info": {
      "codemirror_mode": {
        "name": "ipython",
        "version": 3
      },
      "file_extension": ".py",
      "mimetype": "text/x-python",
      "name": "python",
      "nbconvert_exporter": "python",
      "pygments_lexer": "ipython3",
      "version": "3.7.3"
    }
  },
  "nbformat": 4,
  "nbformat_minor": 0
}