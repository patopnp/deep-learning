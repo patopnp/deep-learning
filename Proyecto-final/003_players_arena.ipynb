{
 "cells": [
  {
   "cell_type": "code",
   "execution_count": 1,
   "id": "08877595-17b1-43e5-acda-60b6515254a5",
   "metadata": {},
   "outputs": [],
   "source": [
    "%load_ext autoreload\n",
    "%autoreload 2"
   ]
  },
  {
   "cell_type": "markdown",
   "id": "c7003fe5-24d6-4689-903e-2ff8370d6acc",
   "metadata": {},
   "source": [
    "# Importar entorno y familiarizarse"
   ]
  },
  {
   "cell_type": "code",
   "execution_count": 2,
   "id": "fd1c580c-9d7a-44a0-adab-d75c9a7dcd74",
   "metadata": {},
   "outputs": [],
   "source": [
    "from boardgame2 import ReversiEnv\n",
    "import numpy as np"
   ]
  },
  {
   "cell_type": "markdown",
   "id": "7d9f0214-b031-431d-ab8b-5fb7bba5a64e",
   "metadata": {},
   "source": [
    "# Crear 3 tipos de jugador\n",
    "- Random: Selecciona uniformemente una de las acciones válidas\n",
    "- Greedy: Selecciona la acción que le da más ganancia inmediata (cantidad de piezas que come). Si hay más de una acción que da máxima ganancia samplear uniformemente entre ellas\n",
    "- Optimum (solo para 4x4): Usando resultados de la PI optima obtenida por policy iteration"
   ]
  },
  {
   "cell_type": "markdown",
   "id": "4f9950fc-9ebe-4d31-b733-1a13047f1b87",
   "metadata": {},
   "source": [
    "Tener en cuenta que:\n",
    "- ReversiEnv tiene los métodos get_valid y next_step y no es necesario mantener el estado del entorno\n",
    "- env.PASS ([-1,  0]) es una acción valida posible y debería hacerse cuando no get_valid devuelve una matriz de ceros"
   ]
  },
  {
   "cell_type": "markdown",
   "id": "dc3ae9f1-4f78-47e2-ac3a-1c65d57e359c",
   "metadata": {},
   "source": [
    "Para el optimo en 4x4 bajar usar la PI obtenida en la notebook anterior guardado en /mdp"
   ]
  },
  {
   "cell_type": "code",
   "execution_count": 9,
   "id": "6e8269ba-fe4f-476a-b4f1-107c379f8dcc",
   "metadata": {},
   "outputs": [],
   "source": [
    "class GreedyPlayer():\n",
    "    def __init__(self, player=1, board_shape=None, env=None, flatten_action=False):\n",
    "        if (env is None) and (board_shape is None):\n",
    "            print(\"board_shape and env can't be both None\")\n",
    "        if env is None:\n",
    "            env = ReversiEnv(board_shape=board_shape)\n",
    "        self.env = env\n",
    "        self.player = player # player number. 1 o -1\n",
    "        self.flatten_action = flatten_action\n",
    "        self.board_shape = self.env.board.shape[0]\n",
    "    \n",
    "    def predict(self, board):\n",
    "        # defino las acciones validas\n",
    "        acciones_validas = np.argwhere(self.env.get_valid((board, self.player)) == 1)\n",
    "        # Si no hay opciones validas paso\n",
    "        if len(acciones_validas) == 0:\n",
    "            action = self.env.PASS\n",
    "            print(\"pass\")\n",
    "        else:\n",
    "            puntajes_jugadas = []\n",
    "            for a in acciones_validas:\n",
    "                proximo_estado, _, _, _ = self.env.next_step((board, self.player), a)\n",
    "                puntajes_jugadas.append(proximo_estado[0].sum() * self.player)\n",
    "            mejor_puntaje = max(puntajes_jugadas)\n",
    "            mejores_jugadas = acciones_validas[np.array(puntajes_jugadas)==mejor_puntaje]\n",
    "            #Samplea entre las mejores jugadas\n",
    "            action = mejores_jugadas[np.random.randint(len(mejores_jugadas))]\n",
    "        \n",
    "        if self.flatten_action:\n",
    "            return action[0] * self.board_shape + action[1]\n",
    "        else:\n",
    "            return action\n",
    "        \n",
    "class RandomPlayer():\n",
    "    def __init__(self, player=1, board_shape=None, env=None, flatten_action=False):\n",
    "        if (env is None) and (board_shape is None):\n",
    "            print(\"board_shape and env can't be both None\")\n",
    "        if env is None:\n",
    "            env = ReversiEnv(board_shape=board_shape)\n",
    "        self.env = env\n",
    "        self.player = player\n",
    "        self.flatten_action = flatten_action\n",
    "        self.board_shape = self.env.board.shape[0]\n",
    "    \n",
    "    def predict(self, board):\n",
    "        # defino las acciones validas\n",
    "        acciones_validas = np.argwhere(self.env.get_valid((board, self.player)) == 1)\n",
    "        # Si no hay opciones validas paso\n",
    "        if len(acciones_validas) == 0:\n",
    "            action = self.env.PASS\n",
    "            print(\"pass\")\n",
    "        else:\n",
    "            # Muestrea aleatoriamente las acciones válidas\n",
    "            action = acciones_validas[np.random.randint(len(acciones_validas))]\n",
    "        if self.flatten_action:\n",
    "            return action[0] * self.board_shape + action[1]\n",
    "        else:\n",
    "            return action\n",
    "        \n",
    "\n",
    "class DictPolicyPlayer():\n",
    "    def __init__(self, player=1, board_shape=4, env=None, flatten_action=False, dict_folder='mdp/pi_mdp.npy'):\n",
    "        self.pi_dict = np.load(dict_folder, allow_pickle=True).item()\n",
    "        if env is None:\n",
    "            env = ReversiEnv(board_shape=board_shape)\n",
    "        self.player = player\n",
    "        self.flatten_action = flatten_action\n",
    "        self.board_shape = board_shape\n",
    "    \n",
    "    def predict(self, board):\n",
    "        # Elegir la acción optima y devolverla\n",
    "        board_tuple = tuple((board * self.player).reshape(-1))\n",
    "        action = self.pi_dict[board_tuple]\n",
    "        return action\n",
    "        if self.flatten_action:\n",
    "            return action\n",
    "        else:\n",
    "            #Formatea la salida a fila col\n",
    "            return [action // self.board_shape, action % self.board_shape]"
   ]
  },
  {
   "cell_type": "code",
   "execution_count": 10,
   "id": "6c3d0d3e-81d5-4138-ad47-e219dcc2f4b2",
   "metadata": {},
   "outputs": [],
   "source": [
    "gp = GreedyPlayer(player=1, board_shape=4)\n",
    "rp = RandomPlayer(player=1, board_shape=4)"
   ]
  },
  {
   "cell_type": "markdown",
   "id": "c838c900-4efb-45f5-acdd-241f867e825e",
   "metadata": {},
   "source": [
    "# Verificar que el pass funciona OK"
   ]
  },
  {
   "cell_type": "code",
   "execution_count": 11,
   "id": "c214dba4-3ef5-432f-bb40-8d5f399b5d91",
   "metadata": {},
   "outputs": [
    {
     "name": "stdout",
     "output_type": "stream",
     "text": [
      "pass\n",
      "pass\n"
     ]
    },
    {
     "data": {
      "text/plain": [
       "array([-1,  0])"
      ]
     },
     "execution_count": 11,
     "metadata": {},
     "output_type": "execute_result"
    }
   ],
   "source": [
    "board = np.array([\n",
    "    [-1, 0, 0, 0],\n",
    "    [0, 1, 1, 0],\n",
    "    [0, 1, 1, 0],\n",
    "    [0, 0, 0, 0]]\n",
    ")\n",
    "rp.predict(board)\n",
    "gp.predict(board)"
   ]
  },
  {
   "cell_type": "markdown",
   "id": "63a0e973-3682-480a-9f69-3b381d73cda9",
   "metadata": {},
   "source": [
    "# Completar la función que dado dos jugadores imprima estadísticas de las partidas"
   ]
  },
  {
   "cell_type": "raw",
   "id": "60f47a75-560a-415d-8b34-ae4f897d80fe",
   "metadata": {},
   "source": [
    "Por ejemplo:\n",
    "(Las estadísticas son relativas el que se pasa primero en la función)\n",
    "\n",
    "Wins as first: 0.35\n",
    "Wins as second: 0.55\n",
    "Plays as first: 2457\n",
    "Plays as second: 2543\n",
    "Avg game duration: 5.937"
   ]
  },
  {
   "cell_type": "code",
   "execution_count": null,
   "id": "65edb7cd-d87a-4138-b7c4-e82f4fd68180",
   "metadata": {},
   "outputs": [],
   "source": []
  },
  {
   "cell_type": "code",
   "execution_count": 12,
   "id": "bef78de3-e74b-41bb-b612-dcab6ec8ab6d",
   "metadata": {},
   "outputs": [],
   "source": [
    "def arena_stats(Player_1, Player_2, board_shape, N=500):\n",
    "    \n",
    "    env = ReversiEnv(board_shape=board_shape)\n",
    "    wins_as_first = 0\n",
    "    wins_as_second = 0\n",
    "    plays_as_first = 0\n",
    "    plays_as_second = 0\n",
    "    total_steps = 0\n",
    "    player_1 = Player_1(player=1, board_shape=board_shape, flatten_action=False)\n",
    "    player_2 = Player_2(player=1, board_shape=board_shape, flatten_action=False)\n",
    "    for i in range(N):\n",
    "        # Aveces empieza un jugador, a veces el otro\n",
    "        first_player = np.random.choice([-1, 1])\n",
    "        player_1.player = first_player\n",
    "        player_2.player = -first_player\n",
    "        \n",
    "        plays_as_first = plays_as_first + (first_player == 1)\n",
    "        plays_as_second = plays_as_second + (first_player == -1)\n",
    "        \n",
    "        done = False\n",
    "        n_steps = 0\n",
    "        (board, player) = env.reset()\n",
    "        \n",
    "        while not done:\n",
    "            if first_player == player:\n",
    "                action = player_1.predict(board)\n",
    "            else:\n",
    "                action = player_2.predict(board)\n",
    "            (board, player), reward, done, info = env.step(action)\n",
    "            n_steps = n_steps + 1\n",
    "        total_steps = total_steps + n_steps\n",
    "        wins_as_first = wins_as_first + (reward == first_player) * (first_player == 1)\n",
    "        wins_as_second = wins_as_second + (reward == first_player) * (first_player == -1)\n",
    "    print(f'Wins as first: {wins_as_first/plays_as_first}')\n",
    "    print(f'Wins as second: {wins_as_second/plays_as_second}')\n",
    "    print(f'Plays as first: {plays_as_first}')\n",
    "    print(f'Plays as second: {plays_as_second}')\n",
    "    print(f'Avg game duration: {total_steps/N}')\n",
    "        \n",
    "    "
   ]
  },
  {
   "cell_type": "code",
   "execution_count": 13,
   "id": "0eb85b44-7c8d-4b96-a0fb-a0ab41ff75d5",
   "metadata": {},
   "outputs": [
    {
     "name": "stdout",
     "output_type": "stream",
     "text": [
      "Wins as first: 0.8274428274428275\n",
      "Wins as second: 1.0\n",
      "Plays as first: 962\n",
      "Plays as second: 1038\n",
      "Avg game duration: 11.731\n"
     ]
    }
   ],
   "source": [
    "arena_stats(DictPolicyPlayer, GreedyPlayer, 4, N=2000)"
   ]
  },
  {
   "cell_type": "code",
   "execution_count": 14,
   "id": "f83803e3-b172-44f8-9f9b-413c75975a70",
   "metadata": {},
   "outputs": [
    {
     "name": "stdout",
     "output_type": "stream",
     "text": [
      "Wins as first: 0.8187250996015937\n",
      "Wins as second: 1.0\n",
      "Plays as first: 502\n",
      "Plays as second: 498\n",
      "Avg game duration: 11.668\n"
     ]
    }
   ],
   "source": [
    "arena_stats(DictPolicyPlayer, RandomPlayer, 4, N=1000)"
   ]
  },
  {
   "cell_type": "code",
   "execution_count": 15,
   "id": "4a4790ea-396c-4691-925d-1e84441ea129",
   "metadata": {},
   "outputs": [
    {
     "name": "stdout",
     "output_type": "stream",
     "text": [
      "Wins as first: 0.0\n",
      "Wins as second: 0.1590909090909091\n",
      "Plays as first: 472\n",
      "Plays as second: 528\n",
      "Avg game duration: 11.663\n"
     ]
    }
   ],
   "source": [
    "arena_stats(RandomPlayer, DictPolicyPlayer, 4, N=1000)"
   ]
  },
  {
   "cell_type": "code",
   "execution_count": 16,
   "id": "c157f772-2a91-40d4-83f4-6f1ca8fb9c29",
   "metadata": {},
   "outputs": [
    {
     "name": "stdout",
     "output_type": "stream",
     "text": [
      "Wins as first: 0.4356060606060606\n",
      "Wins as second: 0.559322033898305\n",
      "Plays as first: 528\n",
      "Plays as second: 472\n",
      "Avg game duration: 11.668\n"
     ]
    }
   ],
   "source": [
    "arena_stats(RandomPlayer, GreedyPlayer, 4, N=1000)"
   ]
  },
  {
   "cell_type": "code",
   "execution_count": 17,
   "id": "3f3ee8f6-6a86-41a6-8aca-4831ca280897",
   "metadata": {},
   "outputs": [
    {
     "name": "stdout",
     "output_type": "stream",
     "text": [
      "Wins as first: 0.3384615384615385\n",
      "Wins as second: 0.5333333333333333\n",
      "Plays as first: 260\n",
      "Plays as second: 240\n",
      "Avg game duration: 11.824\n"
     ]
    }
   ],
   "source": [
    "arena_stats(RandomPlayer, RandomPlayer, 4)"
   ]
  },
  {
   "cell_type": "code",
   "execution_count": 18,
   "id": "2583b3c6-a24a-4737-bf4a-a9cb114f4958",
   "metadata": {},
   "outputs": [
    {
     "name": "stdout",
     "output_type": "stream",
     "text": [
      "Wins as first: 0.4659090909090909\n",
      "Wins as second: 0.461864406779661\n",
      "Plays as first: 264\n",
      "Plays as second: 236\n",
      "Avg game duration: 11.478\n"
     ]
    }
   ],
   "source": [
    "arena_stats(GreedyPlayer, GreedyPlayer, 4)"
   ]
  },
  {
   "cell_type": "code",
   "execution_count": 19,
   "id": "f1ae26ae-ad80-4111-8aa5-a24dd32e1773",
   "metadata": {},
   "outputs": [
    {
     "name": "stdout",
     "output_type": "stream",
     "text": [
      "Wins as first: 0.35655737704918034\n",
      "Wins as second: 0.3125\n",
      "Plays as first: 488\n",
      "Plays as second: 512\n",
      "Avg game duration: 58.178\n"
     ]
    }
   ],
   "source": [
    "arena_stats(RandomPlayer, GreedyPlayer, 8, N=1000)"
   ]
  },
  {
   "cell_type": "markdown",
   "id": "842e235c-b140-4989-8065-e03bf9fa40ca",
   "metadata": {},
   "source": [
    "# Guardar todas las clases de jugadores en un player.py para que luego se puedan importar de la siguiente forma:\n",
    "\n",
    "from players import RandomPlayer\n",
    "\n",
    "from players import GreedyPlayer"
   ]
  },
  {
   "cell_type": "code",
   "execution_count": null,
   "id": "1366c04f-65a4-4464-8cdb-34103fe17d06",
   "metadata": {},
   "outputs": [],
   "source": []
  },
  {
   "cell_type": "markdown",
   "id": "459c7da2-bfe2-4037-9fbc-be431d4983d2",
   "metadata": {},
   "source": [
    "# Programación Dinámica Cuestionario"
   ]
  },
  {
   "cell_type": "markdown",
   "id": "d670a690-ac4f-4f41-b798-a50975e34cc0",
   "metadata": {},
   "source": [
    "## Respuesta a los ejercicios de laboratorio (continuacion)"
   ]
  },
  {
   "cell_type": "markdown",
   "id": "f835aea7-ec56-494f-9a53-1119ff74475a",
   "metadata": {},
   "source": [
    "### 6)"
   ]
  },
  {
   "cell_type": "markdown",
   "id": "f43fcd00-8996-4899-9f83-7a8e3d010667",
   "metadata": {},
   "source": [
    "arena_stats(DictPolicyPlayer, RandomPlayer, 4, N=1000)\n",
    "\n",
    "Wins as second: 1.0\n",
    "\n",
    "#### gana 100% veces"
   ]
  },
  {
   "cell_type": "markdown",
   "id": "55e94859-b201-4cef-903b-df512d2585f4",
   "metadata": {},
   "source": [
    "arena_stats(DictPolicyPlayer, RandomPlayer, 4, N=1000)\n",
    "\n",
    "Wins as first: 0.8187250996015937\n",
    "\n",
    "#### gana cerca del 80% de las veces"
   ]
  },
  {
   "cell_type": "markdown",
   "id": "40cb5ae9-af65-40b2-a13f-12b61c7614e1",
   "metadata": {},
   "source": [
    "arena_stats(DictPolicyPlayer, GreedyPlayer, 4, N=2000)\n",
    "\n",
    "Wins as first: 0.8274428274428275\n",
    "\n",
    "#### gana cerca del 80% de las veces"
   ]
  },
  {
   "cell_type": "markdown",
   "id": "823f063e-8b92-4b86-bd9e-a16768d2b23a",
   "metadata": {},
   "source": [
    "arena_stats(RandomPlayer, GreedyPlayer, 8, N=1000)\n",
    "\n",
    "Wins as first: 0.35655737704918034\n",
    "\n",
    "Wins as second: 0.3125\n"
   ]
  },
  {
   "cell_type": "markdown",
   "id": "475c8825-46d6-42ba-ae58-060269e004ab",
   "metadata": {},
   "source": [
    "#### porcentaje de empates:"
   ]
  },
  {
   "cell_type": "code",
   "execution_count": 24,
   "id": "cb25c28c-c08c-4965-a69a-3c284aba9e51",
   "metadata": {},
   "outputs": [
    {
     "data": {
      "text/plain": [
       "0.33094262295081966"
      ]
     },
     "execution_count": 24,
     "metadata": {},
     "output_type": "execute_result"
    }
   ],
   "source": [
    "(1-(0.35655737704918034 + 0.3125))"
   ]
  },
  {
   "cell_type": "code",
   "execution_count": null,
   "id": "ec8f9f3d-fec9-4938-bd59-a4b3849584f1",
   "metadata": {},
   "outputs": [],
   "source": []
  }
 ],
 "metadata": {
  "kernelspec": {
   "display_name": "Python 3",
   "language": "python",
   "name": "python3"
  },
  "language_info": {
   "codemirror_mode": {
    "name": "ipython",
    "version": 3
   },
   "file_extension": ".py",
   "mimetype": "text/x-python",
   "name": "python",
   "nbconvert_exporter": "python",
   "pygments_lexer": "ipython3",
   "version": "3.8.10"
  }
 },
 "nbformat": 4,
 "nbformat_minor": 5
}
