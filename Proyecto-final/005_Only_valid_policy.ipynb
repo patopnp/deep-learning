{
 "cells": [
  {
   "cell_type": "code",
   "execution_count": 1,
   "id": "ccb5793f-80b2-4c6b-b15b-51abf33c83e2",
   "metadata": {},
   "outputs": [],
   "source": [
    "%load_ext autoreload\n",
    "%autoreload 2"
   ]
  },
  {
   "cell_type": "code",
   "execution_count": 2,
   "id": "50a9f67b-265e-401e-85c7-55b3827c9e28",
   "metadata": {},
   "outputs": [],
   "source": [
    "from multi_env import make_reversi_vec_env, SelfPlayEnv\n",
    "import torch as th\n",
    "from players import RandomPlayer\n",
    "from stable_baselines3 import PPO\n",
    "from stable_baselines3.common.policies import ActorCriticPolicy\n",
    "import numpy as np"
   ]
  },
  {
   "cell_type": "code",
   "execution_count": 3,
   "id": "b07411d1-263f-445f-9dc8-92ef55cd4c72",
   "metadata": {},
   "outputs": [],
   "source": [
    "board_shape = 4\n",
    "n_envs = 10\n",
    "env = make_reversi_vec_env(\n",
    "    SelfPlayEnv, n_envs=n_envs,\n",
    "    env_kwargs={\n",
    "        'board_shape': board_shape,\n",
    "        'LocalPlayer': RandomPlayer\n",
    "    }\n",
    ")"
   ]
  },
  {
   "cell_type": "markdown",
   "id": "e31f7b6a-ab0b-495f-9b9b-03220308f75b",
   "metadata": {},
   "source": [
    "# Modificación de librería para que haga argmax solo sobre las válidas"
   ]
  },
  {
   "cell_type": "code",
   "execution_count": 4,
   "id": "65966e76-d302-40f5-be6a-1b00565194cf",
   "metadata": {},
   "outputs": [],
   "source": [
    "model = PPO(\n",
    "    ActorCriticPolicy,\n",
    "    env,\n",
    "    verbose=0,\n",
    ")"
   ]
  },
  {
   "cell_type": "code",
   "execution_count": 5,
   "id": "ac109405-906a-4c2e-92bd-0ab6d8146190",
   "metadata": {},
   "outputs": [
    {
     "data": {
      "text/plain": [
       "(array([ 5, 15, 11, 12,  9, 15,  9, 11, 12,  8], dtype=int64), None)"
      ]
     },
     "execution_count": 5,
     "metadata": {},
     "output_type": "execute_result"
    }
   ],
   "source": [
    "model.predict(env.reset())"
   ]
  },
  {
   "cell_type": "markdown",
   "id": "efe8ae4f-2113-4031-8b6a-3b8210285937",
   "metadata": {},
   "source": [
    "# Custom ActorCriticPolicy \n",
    "\n",
    "https://github.com/DLR-RM/stable-baselines3/blob/master/stable_baselines3/common/policies.py"
   ]
  },
  {
   "cell_type": "code",
   "execution_count": 6,
   "id": "d4552377-3076-44dd-a6d4-d504b5915e6f",
   "metadata": {},
   "outputs": [],
   "source": [
    "from boardgame2 import ReversiEnv"
   ]
  },
  {
   "cell_type": "code",
   "execution_count": 7,
   "id": "13b9569a-4fed-4508-8cbd-73b7aac5058d",
   "metadata": {},
   "outputs": [],
   "source": [
    "env_not_vect = ReversiEnv(board_shape)"
   ]
  },
  {
   "cell_type": "code",
   "execution_count": null,
   "id": "58553f62-ab53-41b9-9815-df9706caffc0",
   "metadata": {},
   "outputs": [],
   "source": [
    "env_not_vect.get_valid((state, player))"
   ]
  },
  {
   "cell_type": "code",
   "execution_count": 10,
   "id": "4898c124-9b43-4088-a366-03adc8b31ba4",
   "metadata": {},
   "outputs": [],
   "source": [
    "def get_actions_mask(state):\n",
    "    player = 1\n",
    "    valid_actions = env_not_vect.get_valid((state, player))\n",
    "    return valid_actions.reshape(-1)  \n"
   ]
  },
  {
   "cell_type": "code",
   "execution_count": 11,
   "id": "1d92fe71-689f-4a7f-8f0b-4ee7453a4db1",
   "metadata": {},
   "outputs": [
    {
     "data": {
      "text/plain": [
       "array([0, 0, 1, 0, 0, 0, 0, 1, 1, 0, 0, 0, 0, 1, 0, 0], dtype=int8)"
      ]
     },
     "execution_count": 11,
     "metadata": {},
     "output_type": "execute_result"
    }
   ],
   "source": [
    "get_actions_mask(env.reset()[0][0])"
   ]
  },
  {
   "cell_type": "code",
   "execution_count": 12,
   "id": "a8599b62-07b5-4972-88fc-126faedeb133",
   "metadata": {},
   "outputs": [],
   "source": [
    "class CustomActorCriticPolicy(ActorCriticPolicy):\n",
    "    def __init__(\n",
    "        self,\n",
    "        *args, # Todos los argumentos posicionales de ActorCriticPolicy\n",
    "        actions_mask_func=None, # El nuevo argumento\n",
    "        **kwargs # Todos los argumentos opcionales de ActorCriticPolicy\n",
    "    ):\n",
    "        super(CustomActorCriticPolicy, self).__init__(\n",
    "            *args,\n",
    "            **kwargs\n",
    "        )\n",
    "        if actions_mask_func:\n",
    "            self.get_actions_mask = actions_mask_func\n",
    "    \n",
    "    #Devuelve las mascara con acciones validas\n",
    "    def get_mask(obs):\n",
    "        masks = np.zeros((len(obs), obs.shape[-1] * obs.shape[-2]))\n",
    "        for i, board in enumerate(obs):\n",
    "            board = board[0].cpu().numpy()\n",
    "            masks[i] = 1 - self.get_actions_mask(board)\n",
    "        return th.from_numpy(masks).to(self.device)    \n",
    "    \n",
    "    def sample_masked_actions(self, obs, distribution, deterministic=False, return_distribution=False):\n",
    "\n",
    "        masks = get_mask(obs)\n",
    "        masks[masks == 1] = -np.inf\n",
    "        masked_logits = distribution.logits + masks\n",
    "        if return_distribution:\n",
    "            #Devuelve la distribucion nueva\n",
    "            return th.distributions.Categorical(logits=masked_logits)\n",
    "        if deterministic:\n",
    "            #Devuelve la de mayor prboabilidad\n",
    "            return th.argmax(masked_logits, axis=1)\n",
    "        #Samplea la distribucion\n",
    "        return th.distributions.Categorical(logits=masked_logits).sample()\n",
    "    \n",
    "    def _predict(self, observation, deterministic=False):\n",
    "        \"\"\"\n",
    "        Get the action according to the policy for a given observation.\n",
    "        :param observation:\n",
    "        :param deterministic: Whether to use stochastic or deterministic actions\n",
    "        :return: Taken action according to the policy\n",
    "        \"\"\"\n",
    "        latent_pi, _, latent_sde = self._get_latent(observation)\n",
    "        distribution = self._get_action_dist_from_latent(latent_pi, latent_sde)\n",
    "        \n",
    "        if self.get_actions_mask:\n",
    "            actions = self.sample_masked_actions(observation, distribution.distribution, deterministic=deterministic)\n",
    "        else:\n",
    "            actions = distribution.get_actions(deterministic=deterministic)\n",
    "        \n",
    "        return actions\n",
    "    \n",
    "    def forward(self, obs: th.Tensor, deterministic: bool = False):\n",
    "        \"\"\"\n",
    "        Forward pass in all the networks (actor and critic)\n",
    "        :param obs: Observation\n",
    "        :param deterministic: Whether to sample or use deterministic actions\n",
    "        :return: action, value and log probability of the action\n",
    "        \"\"\"\n",
    "        latent_pi, latent_vf, latent_sde = self._get_latent(obs)\n",
    "        # Evaluate the values for the given observations\n",
    "        values = self.value_net(latent_vf)\n",
    "        distribution = self._get_action_dist_from_latent(latent_pi, latent_sde=latent_sde)\n",
    "        \n",
    "        \n",
    "        if self.get_actions_mask:\n",
    "            actions = self.sample_masked_actions(obs, distribution.distribution, deterministic=deterministic)\n",
    "        else:\n",
    "            actions = distribution.get_actions(deterministic=deterministic)\n",
    "\n",
    "        log_prob = distribution.log_prob(actions)\n",
    "        return actions, values, log_prob\n",
    "    \n",
    "    def evaluate_actions(self, obs: th.Tensor, actions: th.Tensor):\n",
    "        \"\"\"\n",
    "        Evaluate actions according to the current policy,\n",
    "        given the observations.\n",
    "        :param obs:\n",
    "        :param actions:\n",
    "        :return: estimated value, log likelihood of taking those actions\n",
    "            and entropy of the action distribution.\n",
    "        \"\"\"\n",
    "        latent_pi, latent_vf, latent_sde = self._get_latent(obs)\n",
    "        distribution = self._get_action_dist_from_latent(latent_pi, latent_sde)\n",
    "        distrib = self.sample_masked_actions(obs, distribution.distribution, return_distribution=True)\n",
    "\n",
    "        log_prob = distrib.log_prob(actions)\n",
    "        values = self.value_net(latent_vf)\n",
    "        return values, log_prob, distrib.entropy()"
   ]
  },
  {
   "cell_type": "code",
   "execution_count": 13,
   "id": "122d6fef-5538-48d5-bffb-e8f92ab55b8c",
   "metadata": {},
   "outputs": [],
   "source": [
    "model = PPO(\n",
    "    CustomActorCriticPolicy,\n",
    "    env,\n",
    "    verbose=0,\n",
    "    policy_kwargs = {'actions_mask_func': get_actions_mask}\n",
    ")"
   ]
  },
  {
   "cell_type": "code",
   "execution_count": 14,
   "id": "d500b8c8-ffbf-4175-a803-269502c9e044",
   "metadata": {},
   "outputs": [
    {
     "data": {
      "text/plain": [
       "array([0, 0, 0, 0, 1, 0, 0, 0, 0, 0, 0, 0, 1, 0, 1, 0], dtype=int8)"
      ]
     },
     "execution_count": 14,
     "metadata": {},
     "output_type": "execute_result"
    }
   ],
   "source": [
    "# Testeo de predict\n",
    "model.policy.get_actions_mask(env.reset()[0][0])"
   ]
  },
  {
   "cell_type": "code",
   "execution_count": 15,
   "id": "6034c6de-b20c-441f-8230-9b289b748f80",
   "metadata": {},
   "outputs": [],
   "source": [
    "obs = env.reset()"
   ]
  },
  {
   "cell_type": "code",
   "execution_count": 16,
   "id": "860228c6-91e8-4a2e-925f-993cc700e972",
   "metadata": {},
   "outputs": [],
   "source": [
    "actions, _ = model.predict(obs)"
   ]
  },
  {
   "cell_type": "code",
   "execution_count": 17,
   "id": "e8bf9fbd-5077-4255-8eac-e84462c35378",
   "metadata": {},
   "outputs": [
    {
     "data": {
      "text/plain": [
       "array([ 2,  2,  4,  3, 14,  7, 11,  1, 14,  2], dtype=int64)"
      ]
     },
     "execution_count": 17,
     "metadata": {},
     "output_type": "execute_result"
    }
   ],
   "source": [
    "# Verificar que las acciones son válidas\n",
    "actions"
   ]
  },
  {
   "cell_type": "code",
   "execution_count": 18,
   "id": "09a65995-f994-4f0b-a369-4db7c6981a10",
   "metadata": {},
   "outputs": [
    {
     "data": {
      "text/plain": [
       "(tensor([13, 13,  4, 11, 14,  2,  1,  1, 12,  8]),\n",
       " tensor([[ 0.4753],\n",
       "         [ 0.4753],\n",
       "         [ 0.2941],\n",
       "         [-0.2490],\n",
       "         [ 0.2941],\n",
       "         [ 0.4753],\n",
       "         [-0.3658],\n",
       "         [-0.2490],\n",
       "         [ 0.5616],\n",
       "         [ 0.4753]], grad_fn=<AddmmBackward0>),\n",
       " tensor([-2.7672, -2.7672, -2.7714, -2.7734, -2.7667, -2.7703, -2.7669, -2.7729,\n",
       "         -2.7731, -2.7737], grad_fn=<SqueezeBackward1>))"
      ]
     },
     "execution_count": 18,
     "metadata": {},
     "output_type": "execute_result"
    }
   ],
   "source": [
    "# Testeo de forward\n",
    "model.policy(th.from_numpy(obs).to(model.device))"
   ]
  },
  {
   "cell_type": "markdown",
   "id": "3b41a057-bfa4-4901-b102-c3d385dedabf",
   "metadata": {},
   "source": [
    "# Corremos PPO"
   ]
  },
  {
   "cell_type": "code",
   "execution_count": 19,
   "id": "bd2b2d58-5bd1-4963-8fc0-3a7c65590b51",
   "metadata": {},
   "outputs": [],
   "source": [
    "board_shape = 4\n",
    "n_envs = 6\n",
    "gamma = 0.99\n",
    "ent_coef = 0.0\n",
    "gae_lambda = 0.95\n",
    "n_epochs = 10"
   ]
  },
  {
   "cell_type": "code",
   "execution_count": 20,
   "id": "b565b606-2942-48a4-af53-5c78608e7707",
   "metadata": {},
   "outputs": [
    {
     "name": "stdout",
     "output_type": "stream",
     "text": [
      "Reversi_PPO_4by4_0.99_0.95_0.0_10_6_masked_actions\n",
      "./models/Reversi_PPO_4by4_0.99_0.95_0.0_10_6_masked_actions\n"
     ]
    }
   ],
   "source": [
    "prefix = 'Reversi_PPO'\n",
    "suffix = 'masked_actions'\n",
    "model_name = f'{prefix}_{board_shape}by{board_shape}_{gamma}_{gae_lambda}_{ent_coef}_{n_epochs}_{n_envs}_{suffix}'\n",
    "best_model_save_path = f'./models/{model_name}'\n",
    "print(model_name)\n",
    "print(best_model_save_path)"
   ]
  },
  {
   "cell_type": "code",
   "execution_count": 21,
   "id": "8640461a-dd62-4ba1-a8bd-d03509a2789d",
   "metadata": {},
   "outputs": [],
   "source": [
    "model = PPO(\n",
    "    CustomActorCriticPolicy,\n",
    "    env,\n",
    "    verbose=0,\n",
    "    tensorboard_log='tensorboard_log',\n",
    "    gamma=gamma,\n",
    "    gae_lambda=gae_lambda,\n",
    "    ent_coef=ent_coef,\n",
    "    n_epochs=n_epochs,\n",
    "    policy_kwargs = {'actions_mask_func': get_actions_mask}\n",
    ")"
   ]
  },
  {
   "cell_type": "code",
   "execution_count": 22,
   "id": "0c554a4a-2b95-45cf-a96c-9c836ca45232",
   "metadata": {},
   "outputs": [],
   "source": [
    "from stable_baselines3.common.callbacks import EvalCallback"
   ]
  },
  {
   "cell_type": "code",
   "execution_count": 23,
   "id": "147117ff-2ff0-4aa8-a7b6-fb1914d54e4e",
   "metadata": {},
   "outputs": [],
   "source": [
    "# El entorno de evaluación no corre en paralelo por eso uno solo\n",
    "eval_env = make_reversi_vec_env(\n",
    "    SelfPlayEnv, n_envs=1,\n",
    "    env_kwargs={\n",
    "        'board_shape': board_shape,\n",
    "        'LocalPlayer': RandomPlayer\n",
    "    }\n",
    ")"
   ]
  },
  {
   "cell_type": "code",
   "execution_count": 24,
   "id": "80a6e75e-66cd-42d2-a023-ab9f662130b4",
   "metadata": {},
   "outputs": [],
   "source": [
    "eval_callback = EvalCallback(\n",
    "    eval_env = eval_env,\n",
    "    eval_freq=1_000,\n",
    "    n_eval_episodes=500,\n",
    "    deterministic=True,\n",
    "    verbose=1,\n",
    "    best_model_save_path=best_model_save_path,\n",
    ") "
   ]
  },
  {
   "cell_type": "code",
   "execution_count": 25,
   "id": "7e5041b9-700a-473a-9102-6becaad5a7d8",
   "metadata": {},
   "outputs": [
    {
     "name": "stdout",
     "output_type": "stream",
     "text": [
      "Eval num_timesteps=10000, episode_reward=-0.15 +/- 0.94\n",
      "Episode length: 5.76 +/- 0.73\n",
      "New best mean reward!\n",
      "Eval num_timesteps=20000, episode_reward=-0.00 +/- 0.96\n",
      "Episode length: 5.84 +/- 0.69\n",
      "New best mean reward!\n",
      "Eval num_timesteps=30000, episode_reward=0.54 +/- 0.83\n",
      "Episode length: 6.11 +/- 0.58\n",
      "New best mean reward!\n",
      "Eval num_timesteps=40000, episode_reward=0.53 +/- 0.83\n",
      "Episode length: 6.12 +/- 0.59\n",
      "Eval num_timesteps=50000, episode_reward=0.54 +/- 0.83\n",
      "Episode length: 6.32 +/- 0.70\n",
      "Eval num_timesteps=60000, episode_reward=0.57 +/- 0.82\n",
      "Episode length: 6.30 +/- 0.64\n",
      "New best mean reward!\n",
      "Eval num_timesteps=70000, episode_reward=0.35 +/- 0.89\n",
      "Episode length: 6.03 +/- 0.54\n",
      "Eval num_timesteps=80000, episode_reward=0.53 +/- 0.82\n",
      "Episode length: 6.03 +/- 0.55\n",
      "Eval num_timesteps=90000, episode_reward=0.63 +/- 0.72\n",
      "Episode length: 6.21 +/- 0.52\n",
      "New best mean reward!\n",
      "Eval num_timesteps=100000, episode_reward=0.61 +/- 0.73\n",
      "Episode length: 6.18 +/- 0.49\n",
      "Eval num_timesteps=110000, episode_reward=0.32 +/- 0.93\n",
      "Episode length: 6.10 +/- 0.58\n",
      "Eval num_timesteps=120000, episode_reward=0.44 +/- 0.88\n",
      "Episode length: 6.14 +/- 0.59\n",
      "Eval num_timesteps=130000, episode_reward=0.40 +/- 0.87\n",
      "Episode length: 6.15 +/- 0.53\n",
      "Eval num_timesteps=140000, episode_reward=0.48 +/- 0.84\n",
      "Episode length: 6.13 +/- 0.59\n",
      "Eval num_timesteps=150000, episode_reward=0.60 +/- 0.78\n",
      "Episode length: 6.08 +/- 0.84\n",
      "Eval num_timesteps=160000, episode_reward=0.56 +/- 0.81\n",
      "Episode length: 6.11 +/- 0.90\n",
      "Eval num_timesteps=170000, episode_reward=0.34 +/- 0.90\n",
      "Episode length: 5.89 +/- 0.86\n",
      "Eval num_timesteps=180000, episode_reward=0.38 +/- 0.89\n",
      "Episode length: 5.91 +/- 0.86\n",
      "Eval num_timesteps=190000, episode_reward=0.08 +/- 0.95\n",
      "Episode length: 5.92 +/- 0.63\n",
      "Eval num_timesteps=200000, episode_reward=0.08 +/- 0.95\n",
      "Episode length: 5.97 +/- 0.61\n",
      "Eval num_timesteps=210000, episode_reward=0.45 +/- 0.87\n",
      "Episode length: 6.22 +/- 0.74\n",
      "Eval num_timesteps=220000, episode_reward=0.38 +/- 0.90\n",
      "Episode length: 6.17 +/- 0.70\n",
      "Eval num_timesteps=230000, episode_reward=0.16 +/- 0.90\n",
      "Episode length: 6.15 +/- 0.75\n",
      "Eval num_timesteps=240000, episode_reward=0.14 +/- 0.93\n",
      "Episode length: 6.12 +/- 0.77\n",
      "Eval num_timesteps=250000, episode_reward=0.21 +/- 0.95\n",
      "Episode length: 6.04 +/- 0.78\n",
      "Eval num_timesteps=260000, episode_reward=0.13 +/- 0.97\n",
      "Episode length: 6.01 +/- 0.79\n",
      "Eval num_timesteps=270000, episode_reward=-0.01 +/- 0.90\n",
      "Episode length: 5.95 +/- 0.77\n",
      "Eval num_timesteps=280000, episode_reward=-0.02 +/- 0.92\n",
      "Episode length: 5.94 +/- 0.81\n",
      "Eval num_timesteps=290000, episode_reward=0.32 +/- 0.91\n",
      "Episode length: 6.18 +/- 0.75\n",
      "Eval num_timesteps=300000, episode_reward=0.34 +/- 0.91\n",
      "Episode length: 6.15 +/- 0.81\n",
      "Eval num_timesteps=310000, episode_reward=0.51 +/- 0.84\n",
      "Episode length: 6.19 +/- 0.63\n",
      "Eval num_timesteps=320000, episode_reward=0.50 +/- 0.85\n",
      "Episode length: 6.21 +/- 0.67\n",
      "Eval num_timesteps=330000, episode_reward=0.45 +/- 0.84\n",
      "Episode length: 6.10 +/- 0.65\n",
      "Eval num_timesteps=340000, episode_reward=0.30 +/- 0.92\n",
      "Episode length: 6.05 +/- 0.67\n",
      "Eval num_timesteps=350000, episode_reward=0.31 +/- 0.89\n",
      "Episode length: 6.07 +/- 0.78\n",
      "Eval num_timesteps=360000, episode_reward=0.33 +/- 0.88\n",
      "Episode length: 6.04 +/- 0.85\n",
      "Eval num_timesteps=370000, episode_reward=0.11 +/- 0.96\n",
      "Episode length: 5.60 +/- 0.85\n",
      "Eval num_timesteps=380000, episode_reward=0.07 +/- 0.97\n",
      "Episode length: 5.66 +/- 0.87\n",
      "Eval num_timesteps=390000, episode_reward=0.52 +/- 0.79\n",
      "Episode length: 5.97 +/- 0.88\n",
      "Eval num_timesteps=400000, episode_reward=0.51 +/- 0.82\n",
      "Episode length: 5.95 +/- 0.93\n",
      "Eval num_timesteps=410000, episode_reward=-0.12 +/- 0.95\n",
      "Episode length: 5.78 +/- 0.88\n",
      "Eval num_timesteps=420000, episode_reward=-0.18 +/- 0.93\n",
      "Episode length: 5.76 +/- 0.81\n",
      "Eval num_timesteps=430000, episode_reward=-0.17 +/- 0.93\n",
      "Episode length: 5.77 +/- 0.86\n",
      "Eval num_timesteps=440000, episode_reward=0.44 +/- 0.88\n",
      "Episode length: 6.17 +/- 0.76\n",
      "Eval num_timesteps=450000, episode_reward=0.49 +/- 0.83\n",
      "Episode length: 6.19 +/- 0.70\n",
      "Eval num_timesteps=460000, episode_reward=0.01 +/- 0.97\n",
      "Episode length: 5.97 +/- 0.75\n",
      "Eval num_timesteps=470000, episode_reward=0.01 +/- 0.95\n",
      "Episode length: 5.97 +/- 0.76\n",
      "Eval num_timesteps=480000, episode_reward=0.25 +/- 0.91\n",
      "Episode length: 6.13 +/- 0.77\n",
      "Eval num_timesteps=490000, episode_reward=0.27 +/- 0.91\n",
      "Episode length: 6.07 +/- 0.74\n",
      "Eval num_timesteps=500000, episode_reward=0.19 +/- 0.96\n",
      "Episode length: 6.00 +/- 0.51\n",
      "Eval num_timesteps=510000, episode_reward=0.22 +/- 0.95\n",
      "Episode length: 5.99 +/- 0.48\n",
      "Eval num_timesteps=520000, episode_reward=0.39 +/- 0.90\n",
      "Episode length: 6.12 +/- 0.65\n",
      "Eval num_timesteps=530000, episode_reward=0.37 +/- 0.89\n",
      "Episode length: 6.08 +/- 0.64\n",
      "Eval num_timesteps=540000, episode_reward=0.42 +/- 0.86\n",
      "Episode length: 6.15 +/- 0.60\n",
      "Eval num_timesteps=550000, episode_reward=0.39 +/- 0.87\n",
      "Episode length: 6.10 +/- 0.60\n",
      "Eval num_timesteps=560000, episode_reward=0.24 +/- 0.93\n",
      "Episode length: 6.00 +/- 0.79\n",
      "Eval num_timesteps=570000, episode_reward=0.28 +/- 0.94\n",
      "Episode length: 5.97 +/- 0.78\n",
      "Eval num_timesteps=580000, episode_reward=0.74 +/- 0.59\n",
      "Episode length: 6.32 +/- 0.56\n",
      "New best mean reward!\n",
      "Eval num_timesteps=590000, episode_reward=0.81 +/- 0.51\n",
      "Episode length: 6.35 +/- 0.55\n",
      "New best mean reward!\n",
      "Eval num_timesteps=600000, episode_reward=0.33 +/- 0.91\n",
      "Episode length: 6.03 +/- 0.70\n",
      "Eval num_timesteps=610000, episode_reward=0.30 +/- 0.91\n",
      "Episode length: 6.06 +/- 0.64\n",
      "Eval num_timesteps=620000, episode_reward=-0.03 +/- 0.97\n",
      "Episode length: 5.87 +/- 0.73\n",
      "Eval num_timesteps=630000, episode_reward=-0.02 +/- 0.96\n",
      "Episode length: 5.91 +/- 0.74\n",
      "Eval num_timesteps=640000, episode_reward=0.50 +/- 0.84\n",
      "Episode length: 6.12 +/- 0.64\n",
      "Eval num_timesteps=650000, episode_reward=0.53 +/- 0.81\n",
      "Episode length: 6.15 +/- 0.59\n",
      "Eval num_timesteps=660000, episode_reward=0.27 +/- 0.94\n",
      "Episode length: 6.12 +/- 0.72\n",
      "Eval num_timesteps=670000, episode_reward=0.17 +/- 0.95\n",
      "Episode length: 6.12 +/- 0.70\n",
      "Eval num_timesteps=680000, episode_reward=0.52 +/- 0.85\n",
      "Episode length: 6.26 +/- 0.64\n",
      "Eval num_timesteps=690000, episode_reward=0.44 +/- 0.88\n",
      "Episode length: 6.21 +/- 0.68\n",
      "Eval num_timesteps=700000, episode_reward=0.38 +/- 0.91\n",
      "Episode length: 5.93 +/- 0.75\n",
      "Eval num_timesteps=710000, episode_reward=0.30 +/- 0.95\n",
      "Episode length: 5.92 +/- 0.84\n",
      "Eval num_timesteps=720000, episode_reward=0.07 +/- 0.96\n",
      "Episode length: 5.93 +/- 0.82\n",
      "Eval num_timesteps=730000, episode_reward=0.05 +/- 0.96\n",
      "Episode length: 5.88 +/- 0.84\n",
      "Eval num_timesteps=740000, episode_reward=0.61 +/- 0.78\n",
      "Episode length: 6.28 +/- 0.73\n",
      "Eval num_timesteps=750000, episode_reward=0.52 +/- 0.84\n",
      "Episode length: 6.22 +/- 0.71\n",
      "Eval num_timesteps=760000, episode_reward=0.20 +/- 0.89\n",
      "Episode length: 6.03 +/- 0.59\n",
      "Eval num_timesteps=770000, episode_reward=0.32 +/- 0.89\n",
      "Episode length: 6.02 +/- 0.59\n",
      "Eval num_timesteps=780000, episode_reward=0.43 +/- 0.88\n",
      "Episode length: 6.28 +/- 0.61\n",
      "Eval num_timesteps=790000, episode_reward=0.35 +/- 0.91\n",
      "Episode length: 6.20 +/- 0.65\n",
      "Eval num_timesteps=800000, episode_reward=0.58 +/- 0.78\n",
      "Episode length: 6.26 +/- 0.66\n",
      "Eval num_timesteps=810000, episode_reward=0.53 +/- 0.81\n",
      "Episode length: 6.23 +/- 0.64\n",
      "Eval num_timesteps=820000, episode_reward=0.47 +/- 0.88\n",
      "Episode length: 6.21 +/- 0.59\n",
      "Eval num_timesteps=830000, episode_reward=0.40 +/- 0.90\n",
      "Episode length: 6.21 +/- 0.56\n",
      "Eval num_timesteps=840000, episode_reward=0.44 +/- 0.86\n",
      "Episode length: 6.14 +/- 0.67\n",
      "Eval num_timesteps=850000, episode_reward=0.46 +/- 0.83\n",
      "Episode length: 6.13 +/- 0.63\n",
      "Eval num_timesteps=860000, episode_reward=0.54 +/- 0.80\n",
      "Episode length: 6.15 +/- 0.66\n",
      "Eval num_timesteps=870000, episode_reward=0.35 +/- 0.89\n",
      "Episode length: 6.15 +/- 0.78\n",
      "Eval num_timesteps=880000, episode_reward=0.37 +/- 0.89\n",
      "Episode length: 6.15 +/- 0.83\n",
      "Eval num_timesteps=890000, episode_reward=0.09 +/- 0.94\n",
      "Episode length: 5.97 +/- 0.85\n",
      "Eval num_timesteps=900000, episode_reward=0.12 +/- 0.93\n",
      "Episode length: 5.97 +/- 0.71\n",
      "Eval num_timesteps=910000, episode_reward=0.11 +/- 0.95\n",
      "Episode length: 5.83 +/- 0.76\n",
      "Eval num_timesteps=920000, episode_reward=0.03 +/- 0.96\n",
      "Episode length: 5.80 +/- 0.76\n",
      "Eval num_timesteps=930000, episode_reward=0.68 +/- 0.70\n",
      "Episode length: 6.30 +/- 0.63\n",
      "Eval num_timesteps=940000, episode_reward=0.70 +/- 0.69\n",
      "Episode length: 6.26 +/- 0.66\n",
      "Eval num_timesteps=950000, episode_reward=0.46 +/- 0.84\n",
      "Episode length: 6.10 +/- 0.56\n",
      "Eval num_timesteps=960000, episode_reward=0.42 +/- 0.85\n",
      "Episode length: 6.10 +/- 0.54\n",
      "Eval num_timesteps=970000, episode_reward=0.21 +/- 0.91\n",
      "Episode length: 6.04 +/- 0.79\n",
      "Eval num_timesteps=980000, episode_reward=0.19 +/- 0.93\n",
      "Episode length: 6.14 +/- 0.66\n",
      "Eval num_timesteps=990000, episode_reward=-0.01 +/- 0.96\n",
      "Episode length: 5.88 +/- 0.87\n",
      "Eval num_timesteps=1000000, episode_reward=0.05 +/- 0.95\n",
      "Episode length: 5.93 +/- 0.80\n",
      "Eval num_timesteps=1010000, episode_reward=0.22 +/- 0.94\n",
      "Episode length: 5.86 +/- 0.91\n"
     ]
    },
    {
     "ename": "KeyboardInterrupt",
     "evalue": "",
     "output_type": "error",
     "traceback": [
      "\u001b[1;31m---------------------------------------------------------------------------\u001b[0m",
      "\u001b[1;31mKeyboardInterrupt\u001b[0m                         Traceback (most recent call last)",
      "\u001b[1;32m<ipython-input-25-fcdfd34ad521>\u001b[0m in \u001b[0;36m<module>\u001b[1;34m\u001b[0m\n\u001b[1;32m----> 1\u001b[1;33m \u001b[0mmodel\u001b[0m\u001b[1;33m.\u001b[0m\u001b[0mlearn\u001b[0m\u001b[1;33m(\u001b[0m\u001b[0mtotal_timesteps\u001b[0m\u001b[1;33m=\u001b[0m\u001b[0mint\u001b[0m\u001b[1;33m(\u001b[0m\u001b[1;36m1e10\u001b[0m\u001b[1;33m)\u001b[0m\u001b[1;33m,\u001b[0m \u001b[0mcallback\u001b[0m\u001b[1;33m=\u001b[0m\u001b[1;33m[\u001b[0m\u001b[0meval_callback\u001b[0m\u001b[1;33m]\u001b[0m\u001b[1;33m)\u001b[0m\u001b[1;33m\u001b[0m\u001b[1;33m\u001b[0m\u001b[0m\n\u001b[0m",
      "\u001b[1;32m~\\anaconda3\\envs\\curso\\lib\\site-packages\\stable_baselines3\\ppo\\ppo.py\u001b[0m in \u001b[0;36mlearn\u001b[1;34m(self, total_timesteps, callback, log_interval, eval_env, eval_freq, n_eval_episodes, tb_log_name, eval_log_path, reset_num_timesteps)\u001b[0m\n\u001b[0;32m    278\u001b[0m     ) -> \"PPO\":\n\u001b[0;32m    279\u001b[0m \u001b[1;33m\u001b[0m\u001b[0m\n\u001b[1;32m--> 280\u001b[1;33m         return super(PPO, self).learn(\n\u001b[0m\u001b[0;32m    281\u001b[0m             \u001b[0mtotal_timesteps\u001b[0m\u001b[1;33m=\u001b[0m\u001b[0mtotal_timesteps\u001b[0m\u001b[1;33m,\u001b[0m\u001b[1;33m\u001b[0m\u001b[1;33m\u001b[0m\u001b[0m\n\u001b[0;32m    282\u001b[0m             \u001b[0mcallback\u001b[0m\u001b[1;33m=\u001b[0m\u001b[0mcallback\u001b[0m\u001b[1;33m,\u001b[0m\u001b[1;33m\u001b[0m\u001b[1;33m\u001b[0m\u001b[0m\n",
      "\u001b[1;32m~\\anaconda3\\envs\\curso\\lib\\site-packages\\stable_baselines3\\common\\on_policy_algorithm.py\u001b[0m in \u001b[0;36mlearn\u001b[1;34m(self, total_timesteps, callback, log_interval, eval_env, eval_freq, n_eval_episodes, tb_log_name, eval_log_path, reset_num_timesteps)\u001b[0m\n\u001b[0;32m    225\u001b[0m         \u001b[1;32mwhile\u001b[0m \u001b[0mself\u001b[0m\u001b[1;33m.\u001b[0m\u001b[0mnum_timesteps\u001b[0m \u001b[1;33m<\u001b[0m \u001b[0mtotal_timesteps\u001b[0m\u001b[1;33m:\u001b[0m\u001b[1;33m\u001b[0m\u001b[1;33m\u001b[0m\u001b[0m\n\u001b[0;32m    226\u001b[0m \u001b[1;33m\u001b[0m\u001b[0m\n\u001b[1;32m--> 227\u001b[1;33m             \u001b[0mcontinue_training\u001b[0m \u001b[1;33m=\u001b[0m \u001b[0mself\u001b[0m\u001b[1;33m.\u001b[0m\u001b[0mcollect_rollouts\u001b[0m\u001b[1;33m(\u001b[0m\u001b[0mself\u001b[0m\u001b[1;33m.\u001b[0m\u001b[0menv\u001b[0m\u001b[1;33m,\u001b[0m \u001b[0mcallback\u001b[0m\u001b[1;33m,\u001b[0m \u001b[0mself\u001b[0m\u001b[1;33m.\u001b[0m\u001b[0mrollout_buffer\u001b[0m\u001b[1;33m,\u001b[0m \u001b[0mn_rollout_steps\u001b[0m\u001b[1;33m=\u001b[0m\u001b[0mself\u001b[0m\u001b[1;33m.\u001b[0m\u001b[0mn_steps\u001b[0m\u001b[1;33m)\u001b[0m\u001b[1;33m\u001b[0m\u001b[1;33m\u001b[0m\u001b[0m\n\u001b[0m\u001b[0;32m    228\u001b[0m \u001b[1;33m\u001b[0m\u001b[0m\n\u001b[0;32m    229\u001b[0m             \u001b[1;32mif\u001b[0m \u001b[0mcontinue_training\u001b[0m \u001b[1;32mis\u001b[0m \u001b[1;32mFalse\u001b[0m\u001b[1;33m:\u001b[0m\u001b[1;33m\u001b[0m\u001b[1;33m\u001b[0m\u001b[0m\n",
      "\u001b[1;32m~\\anaconda3\\envs\\curso\\lib\\site-packages\\stable_baselines3\\common\\on_policy_algorithm.py\u001b[0m in \u001b[0;36mcollect_rollouts\u001b[1;34m(self, env, callback, rollout_buffer, n_rollout_steps)\u001b[0m\n\u001b[0;32m    166\u001b[0m                 \u001b[0mclipped_actions\u001b[0m \u001b[1;33m=\u001b[0m \u001b[0mnp\u001b[0m\u001b[1;33m.\u001b[0m\u001b[0mclip\u001b[0m\u001b[1;33m(\u001b[0m\u001b[0mactions\u001b[0m\u001b[1;33m,\u001b[0m \u001b[0mself\u001b[0m\u001b[1;33m.\u001b[0m\u001b[0maction_space\u001b[0m\u001b[1;33m.\u001b[0m\u001b[0mlow\u001b[0m\u001b[1;33m,\u001b[0m \u001b[0mself\u001b[0m\u001b[1;33m.\u001b[0m\u001b[0maction_space\u001b[0m\u001b[1;33m.\u001b[0m\u001b[0mhigh\u001b[0m\u001b[1;33m)\u001b[0m\u001b[1;33m\u001b[0m\u001b[1;33m\u001b[0m\u001b[0m\n\u001b[0;32m    167\u001b[0m \u001b[1;33m\u001b[0m\u001b[0m\n\u001b[1;32m--> 168\u001b[1;33m             \u001b[0mnew_obs\u001b[0m\u001b[1;33m,\u001b[0m \u001b[0mrewards\u001b[0m\u001b[1;33m,\u001b[0m \u001b[0mdones\u001b[0m\u001b[1;33m,\u001b[0m \u001b[0minfos\u001b[0m \u001b[1;33m=\u001b[0m \u001b[0menv\u001b[0m\u001b[1;33m.\u001b[0m\u001b[0mstep\u001b[0m\u001b[1;33m(\u001b[0m\u001b[0mclipped_actions\u001b[0m\u001b[1;33m)\u001b[0m\u001b[1;33m\u001b[0m\u001b[1;33m\u001b[0m\u001b[0m\n\u001b[0m\u001b[0;32m    169\u001b[0m \u001b[1;33m\u001b[0m\u001b[0m\n\u001b[0;32m    170\u001b[0m             \u001b[0mself\u001b[0m\u001b[1;33m.\u001b[0m\u001b[0mnum_timesteps\u001b[0m \u001b[1;33m+=\u001b[0m \u001b[0menv\u001b[0m\u001b[1;33m.\u001b[0m\u001b[0mnum_envs\u001b[0m\u001b[1;33m\u001b[0m\u001b[1;33m\u001b[0m\u001b[0m\n",
      "\u001b[1;32m~\\anaconda3\\envs\\curso\\lib\\site-packages\\stable_baselines3\\common\\vec_env\\base_vec_env.py\u001b[0m in \u001b[0;36mstep\u001b[1;34m(self, actions)\u001b[0m\n\u001b[0;32m    161\u001b[0m         \"\"\"\n\u001b[0;32m    162\u001b[0m         \u001b[0mself\u001b[0m\u001b[1;33m.\u001b[0m\u001b[0mstep_async\u001b[0m\u001b[1;33m(\u001b[0m\u001b[0mactions\u001b[0m\u001b[1;33m)\u001b[0m\u001b[1;33m\u001b[0m\u001b[1;33m\u001b[0m\u001b[0m\n\u001b[1;32m--> 163\u001b[1;33m         \u001b[1;32mreturn\u001b[0m \u001b[0mself\u001b[0m\u001b[1;33m.\u001b[0m\u001b[0mstep_wait\u001b[0m\u001b[1;33m(\u001b[0m\u001b[1;33m)\u001b[0m\u001b[1;33m\u001b[0m\u001b[1;33m\u001b[0m\u001b[0m\n\u001b[0m\u001b[0;32m    164\u001b[0m \u001b[1;33m\u001b[0m\u001b[0m\n\u001b[0;32m    165\u001b[0m     \u001b[1;32mdef\u001b[0m \u001b[0mget_images\u001b[0m\u001b[1;33m(\u001b[0m\u001b[0mself\u001b[0m\u001b[1;33m)\u001b[0m \u001b[1;33m->\u001b[0m \u001b[0mSequence\u001b[0m\u001b[1;33m[\u001b[0m\u001b[0mnp\u001b[0m\u001b[1;33m.\u001b[0m\u001b[0mndarray\u001b[0m\u001b[1;33m]\u001b[0m\u001b[1;33m:\u001b[0m\u001b[1;33m\u001b[0m\u001b[1;33m\u001b[0m\u001b[0m\n",
      "\u001b[1;32m~\\anaconda3\\envs\\curso\\lib\\site-packages\\stable_baselines3\\common\\vec_env\\dummy_vec_env.py\u001b[0m in \u001b[0;36mstep_wait\u001b[1;34m(self)\u001b[0m\n\u001b[0;32m     49\u001b[0m                 \u001b[0mobs\u001b[0m \u001b[1;33m=\u001b[0m \u001b[0mself\u001b[0m\u001b[1;33m.\u001b[0m\u001b[0menvs\u001b[0m\u001b[1;33m[\u001b[0m\u001b[0menv_idx\u001b[0m\u001b[1;33m]\u001b[0m\u001b[1;33m.\u001b[0m\u001b[0mreset\u001b[0m\u001b[1;33m(\u001b[0m\u001b[1;33m)\u001b[0m\u001b[1;33m\u001b[0m\u001b[1;33m\u001b[0m\u001b[0m\n\u001b[0;32m     50\u001b[0m             \u001b[0mself\u001b[0m\u001b[1;33m.\u001b[0m\u001b[0m_save_obs\u001b[0m\u001b[1;33m(\u001b[0m\u001b[0menv_idx\u001b[0m\u001b[1;33m,\u001b[0m \u001b[0mobs\u001b[0m\u001b[1;33m)\u001b[0m\u001b[1;33m\u001b[0m\u001b[1;33m\u001b[0m\u001b[0m\n\u001b[1;32m---> 51\u001b[1;33m         \u001b[1;32mreturn\u001b[0m \u001b[1;33m(\u001b[0m\u001b[0mself\u001b[0m\u001b[1;33m.\u001b[0m\u001b[0m_obs_from_buf\u001b[0m\u001b[1;33m(\u001b[0m\u001b[1;33m)\u001b[0m\u001b[1;33m,\u001b[0m \u001b[0mnp\u001b[0m\u001b[1;33m.\u001b[0m\u001b[0mcopy\u001b[0m\u001b[1;33m(\u001b[0m\u001b[0mself\u001b[0m\u001b[1;33m.\u001b[0m\u001b[0mbuf_rews\u001b[0m\u001b[1;33m)\u001b[0m\u001b[1;33m,\u001b[0m \u001b[0mnp\u001b[0m\u001b[1;33m.\u001b[0m\u001b[0mcopy\u001b[0m\u001b[1;33m(\u001b[0m\u001b[0mself\u001b[0m\u001b[1;33m.\u001b[0m\u001b[0mbuf_dones\u001b[0m\u001b[1;33m)\u001b[0m\u001b[1;33m,\u001b[0m \u001b[0mdeepcopy\u001b[0m\u001b[1;33m(\u001b[0m\u001b[0mself\u001b[0m\u001b[1;33m.\u001b[0m\u001b[0mbuf_infos\u001b[0m\u001b[1;33m)\u001b[0m\u001b[1;33m)\u001b[0m\u001b[1;33m\u001b[0m\u001b[1;33m\u001b[0m\u001b[0m\n\u001b[0m\u001b[0;32m     52\u001b[0m \u001b[1;33m\u001b[0m\u001b[0m\n\u001b[0;32m     53\u001b[0m     \u001b[1;32mdef\u001b[0m \u001b[0mseed\u001b[0m\u001b[1;33m(\u001b[0m\u001b[0mself\u001b[0m\u001b[1;33m,\u001b[0m \u001b[0mseed\u001b[0m\u001b[1;33m:\u001b[0m \u001b[0mOptional\u001b[0m\u001b[1;33m[\u001b[0m\u001b[0mint\u001b[0m\u001b[1;33m]\u001b[0m \u001b[1;33m=\u001b[0m \u001b[1;32mNone\u001b[0m\u001b[1;33m)\u001b[0m \u001b[1;33m->\u001b[0m \u001b[0mList\u001b[0m\u001b[1;33m[\u001b[0m\u001b[0mUnion\u001b[0m\u001b[1;33m[\u001b[0m\u001b[1;32mNone\u001b[0m\u001b[1;33m,\u001b[0m \u001b[0mint\u001b[0m\u001b[1;33m]\u001b[0m\u001b[1;33m]\u001b[0m\u001b[1;33m:\u001b[0m\u001b[1;33m\u001b[0m\u001b[1;33m\u001b[0m\u001b[0m\n",
      "\u001b[1;32m<__array_function__ internals>\u001b[0m in \u001b[0;36mcopy\u001b[1;34m(*args, **kwargs)\u001b[0m\n",
      "\u001b[1;32m~\\anaconda3\\envs\\curso\\lib\\site-packages\\numpy\\lib\\function_base.py\u001b[0m in \u001b[0;36mcopy\u001b[1;34m(a, order, subok)\u001b[0m\n\u001b[0;32m    791\u001b[0m \u001b[1;33m\u001b[0m\u001b[0m\n\u001b[0;32m    792\u001b[0m     \"\"\"\n\u001b[1;32m--> 793\u001b[1;33m     \u001b[1;32mreturn\u001b[0m \u001b[0marray\u001b[0m\u001b[1;33m(\u001b[0m\u001b[0ma\u001b[0m\u001b[1;33m,\u001b[0m \u001b[0morder\u001b[0m\u001b[1;33m=\u001b[0m\u001b[0morder\u001b[0m\u001b[1;33m,\u001b[0m \u001b[0msubok\u001b[0m\u001b[1;33m=\u001b[0m\u001b[0msubok\u001b[0m\u001b[1;33m,\u001b[0m \u001b[0mcopy\u001b[0m\u001b[1;33m=\u001b[0m\u001b[1;32mTrue\u001b[0m\u001b[1;33m)\u001b[0m\u001b[1;33m\u001b[0m\u001b[1;33m\u001b[0m\u001b[0m\n\u001b[0m\u001b[0;32m    794\u001b[0m \u001b[1;33m\u001b[0m\u001b[0m\n\u001b[0;32m    795\u001b[0m \u001b[1;31m# Basic operations\u001b[0m\u001b[1;33m\u001b[0m\u001b[1;33m\u001b[0m\u001b[1;33m\u001b[0m\u001b[0m\n",
      "\u001b[1;31mKeyboardInterrupt\u001b[0m: "
     ]
    }
   ],
   "source": [
    "model.learn(total_timesteps=int(1e10), callback=[eval_callback])"
   ]
  },
  {
   "cell_type": "markdown",
   "id": "2af52cc1-568e-43a5-9fe9-93dbca7a9f62",
   "metadata": {},
   "source": [
    "El modelo se guarda en la carpeta 'models'"
   ]
  },
  {
   "cell_type": "markdown",
   "id": "f7bb2de9-f01b-4ee6-8a84-ed1a712a2420",
   "metadata": {},
   "source": [
    "Hay un modelo para tablero 8x8 y uno para tablero 4x4. El de 4 es el que se pone a prueba contra los otros jugadores"
   ]
  },
  {
   "cell_type": "code",
   "execution_count": null,
   "id": "a08ac620-84f6-4b38-b72c-64b758936ef3",
   "metadata": {},
   "outputs": [],
   "source": []
  }
 ],
 "metadata": {
  "kernelspec": {
   "display_name": "Python 3",
   "language": "python",
   "name": "python3"
  },
  "language_info": {
   "codemirror_mode": {
    "name": "ipython",
    "version": 3
   },
   "file_extension": ".py",
   "mimetype": "text/x-python",
   "name": "python",
   "nbconvert_exporter": "python",
   "pygments_lexer": "ipython3",
   "version": "3.8.10"
  }
 },
 "nbformat": 4,
 "nbformat_minor": 5
}
