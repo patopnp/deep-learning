{
 "cells": [
  {
   "cell_type": "markdown",
   "id": "55e8dd61-a1b5-44ff-a7fd-215d3c6bdee2",
   "metadata": {},
   "source": [
    "# Crear un TorchPlayer\n"
   ]
  },
  {
   "cell_type": "markdown",
   "id": "9e8578ae-4e1f-482b-9113-c273bdc35f8c",
   "metadata": {},
   "source": [
    "Recibe el modelo a instanciar como path y juega con el mismo"
   ]
  },
  {
   "cell_type": "markdown",
   "id": "5d709faf-8879-4ddd-95f9-4a5ee0e5b74e",
   "metadata": {},
   "source": [
    "- Pensar como resolver el problema de que solo samplee las válidas\n",
    "- Agregarle la opción de monte carlo tree search (opcional) con las opciones de iterationLimit, timeLimit\n",
    "\n",
    "Si va a agregar MCTS mirar la notebook 007_MCTS.ipnb"
   ]
  },
  {
   "cell_type": "code",
   "execution_count": 1,
   "id": "79db7412-4dac-4fcf-b3c5-1baade472501",
   "metadata": {
    "tags": []
   },
   "outputs": [],
   "source": [
    "from stable_baselines3 import PPO\n",
    "from boardgame2 import ReversiEnv\n",
    "import numpy as np"
   ]
  },
  {
   "cell_type": "code",
   "execution_count": 2,
   "id": "84f5c470-4dc9-4be9-8222-6c7df3b97e55",
   "metadata": {},
   "outputs": [],
   "source": [
    "class TorchPlayer(): \n",
    "    def __init__(self, model_path, player=1, board_shape=None, env=None, deterministic=True, only_valid=True, mcts=False, iterationLimit=None, timeLimit=None, flatten_action=False):\n",
    "        self.model = PPO.load(model_path)\n",
    "        if (env is None) and (board_shape is None):\n",
    "            print(\"board_shape and env can't be both None\")\n",
    "        if env is None:\n",
    "            env = ReversiEnv(board_shape=board_shape)\n",
    "            \n",
    "        env.reset()\n",
    "        self.env = env\n",
    "        self.player = player\n",
    "        self.board_shape = self.env.board.shape[0]\n",
    "        \n",
    "    def predict(self, board):\n",
    "        \n",
    "        input_board = board * self.player\n",
    "        array_input = [[np.array(input_board)]]\n",
    "        action = self.model.predict(array_input)[0][0]\n",
    "        return [action // self.board_shape, action % self.board_shape]"
   ]
  },
  {
   "cell_type": "markdown",
   "id": "cfaf25a3-f5a2-4bdc-8086-f5507a7f8fd0",
   "metadata": {},
   "source": [
    "# Arena"
   ]
  },
  {
   "cell_type": "markdown",
   "id": "5acfcf1e-8c56-4448-91ef-45a6a3f5d3de",
   "metadata": {},
   "source": [
    "Testear el jugador contra los distintos jugadores"
   ]
  },
  {
   "cell_type": "code",
   "execution_count": 3,
   "id": "69be87f1-73ad-41ae-8b67-02cf3073484e",
   "metadata": {},
   "outputs": [],
   "source": [
    "def arena_stats(player_1, player_2, board_shape, N=500):\n",
    "    \n",
    "    env = ReversiEnv(board_shape=board_shape)\n",
    "    wins_as_first = 0\n",
    "    wins_as_second = 0\n",
    "    plays_as_first = 0\n",
    "    plays_as_second = 0\n",
    "    total_steps = 0\n",
    "\n",
    "    for i in range(N):\n",
    "        # Aveces empieza un jugador, a veces el otro\n",
    "        first_player = np.random.choice([-1, 1])\n",
    "        player_1.player = first_player\n",
    "        player_2.player = -first_player\n",
    "        \n",
    "        plays_as_first = plays_as_first + (first_player == 1)\n",
    "        plays_as_second = plays_as_second + (first_player == -1)\n",
    "        \n",
    "        done = False\n",
    "        n_steps = 0\n",
    "        (board, player) = env.reset()\n",
    "        \n",
    "        while not done:\n",
    "            if first_player == player:\n",
    "                action = player_1.predict(board)\n",
    "            else:\n",
    "                action = player_2.predict(board)\n",
    "            (board, player), reward, done, info = env.step(action)\n",
    "            n_steps = n_steps + 1\n",
    "        total_steps = total_steps + n_steps\n",
    "        wins_as_first = wins_as_first + (reward == first_player) * (first_player == 1)\n",
    "        wins_as_second = wins_as_second + (reward == first_player) * (first_player == -1)\n",
    "    print(f'Wins as first: {wins_as_first/plays_as_first}')\n",
    "    print(f'Wins as second: {wins_as_second/plays_as_second}')\n",
    "    print(f'Plays as first: {plays_as_first}')\n",
    "    print(f'Plays as second: {plays_as_second}')\n",
    "    print(f'Avg game duration: {total_steps/N}')\n",
    "        "
   ]
  },
  {
   "cell_type": "markdown",
   "id": "1db272a9-5466-474b-ba06-d38ee516cd88",
   "metadata": {},
   "source": [
    "### Instanciamos los jugadores que se van a pasar al arena stats"
   ]
  },
  {
   "cell_type": "code",
   "execution_count": 4,
   "id": "fd3af0e8-a63c-41a5-aaa2-6bd5d9a3e36f",
   "metadata": {},
   "outputs": [],
   "source": [
    "from players import RandomPlayer, GreedyPlayer, DictPolicyPlayer"
   ]
  },
  {
   "cell_type": "code",
   "execution_count": 5,
   "id": "9cf645d6-1761-4bf4-9380-a1344e0b7f59",
   "metadata": {},
   "outputs": [],
   "source": [
    "torchPlayer = TorchPlayer('models/Reversi_PPO_4by4_0.99_0.95_0.0_10_6_masked_actions/best_model.zip', player=1, board_shape=4)\n",
    "#player1 = TorchPlayer('models/Reversi_PPO_8by8_0.99_0.95_0.0_10_6_masked_actions/best_model.zip', player=1, board_shape=8)"
   ]
  },
  {
   "cell_type": "code",
   "execution_count": 6,
   "id": "3a33b008-b692-40e7-b20c-3248585d66c8",
   "metadata": {},
   "outputs": [],
   "source": [
    "greedyPlayer = GreedyPlayer(player=-1, board_shape=4, flatten_action=False)"
   ]
  },
  {
   "cell_type": "code",
   "execution_count": 7,
   "id": "212a1787-367c-450b-93de-bed1514dbd86",
   "metadata": {},
   "outputs": [],
   "source": [
    "randomPlayer = RandomPlayer(player=-1, board_shape=4, flatten_action=False)"
   ]
  },
  {
   "cell_type": "code",
   "execution_count": 8,
   "id": "63669c39-0aab-45e5-9879-a0b653634f8f",
   "metadata": {},
   "outputs": [],
   "source": [
    "dictPolicyPlayer = DictPolicyPlayer(player=-1, board_shape=4, flatten_action=False)"
   ]
  },
  {
   "cell_type": "code",
   "execution_count": 7,
   "id": "40c9418a-2b72-4cea-b3dc-7594344fbd5b",
   "metadata": {},
   "outputs": [
    {
     "data": {
      "text/plain": [
       "[0, 3]"
      ]
     },
     "execution_count": 7,
     "metadata": {},
     "output_type": "execute_result"
    }
   ],
   "source": [
    "#env_test = player1.env\n",
    "#(first_input_board, plf) = env_test.reset()\n",
    "#action = player1.predict(first_input_board)\n",
    "#(next_input_board, pl) , _, _, _ = env_test.step(action)\n",
    "#player1.predict(next_input_board)"
   ]
  },
  {
   "cell_type": "markdown",
   "id": "b22cae6c-98cd-4aa2-8feb-72be86b249f4",
   "metadata": {},
   "source": [
    "### Los hacemos jugar"
   ]
  },
  {
   "cell_type": "code",
   "execution_count": 9,
   "id": "31f4f906-b9ed-49ad-ba9c-29c9d9ae26ed",
   "metadata": {},
   "outputs": [
    {
     "name": "stdout",
     "output_type": "stream",
     "text": [
      "Wins as first: 0.6359223300970874\n",
      "Wins as second: 0.9391752577319588\n",
      "Plays as first: 1030\n",
      "Plays as second: 970\n",
      "Avg game duration: 11.87\n"
     ]
    }
   ],
   "source": [
    "arena_stats(torchPlayer, randomPlayer, 4, N=2000)"
   ]
  },
  {
   "cell_type": "code",
   "execution_count": 10,
   "id": "e1c98447-f9b4-42b1-8a96-7fc9468ef9e6",
   "metadata": {},
   "outputs": [
    {
     "name": "stdout",
     "output_type": "stream",
     "text": [
      "Wins as first: 0.6270161290322581\n",
      "Wins as second: 0.9345238095238095\n",
      "Plays as first: 992\n",
      "Plays as second: 1008\n",
      "Avg game duration: 11.883\n"
     ]
    }
   ],
   "source": [
    "arena_stats(torchPlayer, greedyPlayer, 4, N=2000)"
   ]
  },
  {
   "cell_type": "code",
   "execution_count": 11,
   "id": "2acb8d88-2d17-4ecc-a30f-b9f9626082d1",
   "metadata": {},
   "outputs": [
    {
     "name": "stdout",
     "output_type": "stream",
     "text": [
      "Wins as first: 0.0\n",
      "Wins as second: 0.0\n",
      "Plays as first: 992\n",
      "Plays as second: 1008\n",
      "Avg game duration: 11.9905\n"
     ]
    }
   ],
   "source": [
    "arena_stats(torchPlayer, dictPolicyPlayer, 4, N=2000)"
   ]
  },
  {
   "cell_type": "code",
   "execution_count": null,
   "id": "a279d5c1-600b-4967-ba91-fe58a2e06cf3",
   "metadata": {},
   "outputs": [],
   "source": []
  }
 ],
 "metadata": {
  "kernelspec": {
   "display_name": "Python 3",
   "language": "python",
   "name": "python3"
  },
  "language_info": {
   "codemirror_mode": {
    "name": "ipython",
    "version": 3
   },
   "file_extension": ".py",
   "mimetype": "text/x-python",
   "name": "python",
   "nbconvert_exporter": "python",
   "pygments_lexer": "ipython3",
   "version": "3.8.10"
  }
 },
 "nbformat": 4,
 "nbformat_minor": 5
}
